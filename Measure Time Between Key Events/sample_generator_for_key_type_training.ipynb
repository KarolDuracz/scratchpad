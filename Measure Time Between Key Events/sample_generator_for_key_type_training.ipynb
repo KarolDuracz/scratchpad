{
 "cells": [
  {
   "cell_type": "code",
   "execution_count": 19,
   "id": "8c7ed065-6b24-44c2-beb8-67e094de5a05",
   "metadata": {},
   "outputs": [],
   "source": [
    "import re"
   ]
  },
  {
   "cell_type": "code",
   "execution_count": 5,
   "id": "91b95cfe-b6f5-41d8-899a-f4639deb8dc3",
   "metadata": {},
   "outputs": [],
   "source": [
    "f = open(\"C:\\\\Users\\\\{username}\\\\Documents\\\\progs\\\\__bin\\\\TRAINING_DATA_SAMPLE\\\\tmp\\\\floppy.c\", \"r\")"
   ]
  },
  {
   "cell_type": "code",
   "execution_count": 6,
   "id": "4b1caf67-e65f-45ba-9864-3fb143c85bdf",
   "metadata": {},
   "outputs": [],
   "source": [
    "lines = f.readlines()"
   ]
  },
  {
   "cell_type": "code",
   "execution_count": 12,
   "id": "951410c3-a2ef-41e6-bb1f-ea2e7cb00f01",
   "metadata": {},
   "outputs": [
    {
     "data": {
      "text/plain": [
       "5035"
      ]
     },
     "execution_count": 12,
     "metadata": {},
     "output_type": "execute_result"
    }
   ],
   "source": [
    "len(lines)"
   ]
  },
  {
   "cell_type": "code",
   "execution_count": 13,
   "id": "b9d22c00-a686-4ce5-8c96-70d56ae234d1",
   "metadata": {},
   "outputs": [
    {
     "data": {
      "text/plain": [
       "['// SPDX-License-Identifier: GPL-2.0-only\\n',\n",
       " '/*\\n',\n",
       " ' *  linux/drivers/block/floppy.c\\n',\n",
       " ' *\\n',\n",
       " ' *  Copyright (C) 1991, 1992  Linus Torvalds\\n',\n",
       " ' *  Copyright (C) 1993, 1994  Alain Knaff\\n',\n",
       " ' *  Copyright (C) 1998 Alan Cox\\n',\n",
       " ' */\\n',\n",
       " '\\n',\n",
       " '/*\\n',\n",
       " ' * 02.12.91 - Changed to static variables to indicate need for reset\\n',\n",
       " ' * and recalibrate. This makes some things easier (output_byte reset\\n',\n",
       " ' * checking etc), and means less interrupt jumping in case of errors,\\n',\n",
       " ' * so the code is hopefully easier to understand.\\n',\n",
       " ' */\\n',\n",
       " '\\n',\n",
       " '/*\\n',\n",
       " \" * This file is certainly a mess. I've tried my best to get it working,\\n\",\n",
       " \" * but I don't like programming floppies, and I have only one anyway.\\n\",\n",
       " ' * Urgel. I should check for more errors, and do more graceful error\\n']"
      ]
     },
     "execution_count": 13,
     "metadata": {},
     "output_type": "execute_result"
    }
   ],
   "source": [
    "lines[:20]"
   ]
  },
  {
   "cell_type": "code",
   "execution_count": 41,
   "id": "6bc5ac73-c3a4-49a3-841a-47718ccda7e2",
   "metadata": {},
   "outputs": [
    {
     "name": "stdout",
     "output_type": "stream",
     "text": [
      "41\n",
      "3\n",
      "33\n",
      "3\n",
      "45\n",
      "42\n",
      "32\n",
      "4\n",
      "1\n",
      "3\n",
      "69\n",
      "69\n",
      "70\n",
      "50\n",
      "4\n",
      "1\n",
      "3\n",
      "72\n",
      "70\n",
      "69\n",
      "73\n",
      "30\n",
      "4\n",
      "1\n",
      "3\n",
      "72\n",
      "69\n",
      "71\n",
      "72\n",
      "8\n",
      "4\n",
      "1\n",
      "3\n",
      "75\n",
      "58\n",
      "4\n",
      "1\n",
      "3\n",
      "75\n",
      "74\n",
      "39\n",
      "4\n",
      "1\n",
      "3\n",
      "68\n",
      "67\n",
      "22\n",
      "3\n",
      "60\n",
      "3\n",
      "48\n",
      "4\n",
      "1\n",
      "13\n",
      "74\n",
      "65\n",
      "31\n",
      "71\n",
      "56\n",
      "69\n",
      "43\n",
      "4\n",
      "1\n",
      "3\n",
      "74\n",
      "75\n",
      "9\n",
      "4\n",
      "1\n",
      "64\n",
      "57\n",
      "4\n",
      "1\n",
      "79\n",
      "15\n",
      "4\n",
      "1\n",
      "3\n",
      "77\n",
      "60\n",
      "4\n",
      "1\n",
      "71\n",
      "57\n",
      "4\n",
      "1\n",
      "76\n",
      "75\n",
      "77\n",
      "30\n",
      "4\n",
      "1\n",
      "3\n",
      "53\n",
      "4\n",
      "1\n",
      "3\n",
      "77\n",
      "29\n",
      "4\n",
      "1\n",
      "3\n",
      "70\n",
      "4\n",
      "1\n",
      "3\n",
      "80\n",
      "75\n",
      "24\n",
      "4\n",
      "1\n",
      "3\n",
      "77\n",
      "13\n",
      "4\n",
      "1\n",
      "3\n",
      "80\n",
      "4\n",
      "1\n",
      "3\n",
      "75\n",
      "76\n",
      "59\n",
      "4\n",
      "1\n",
      "3\n",
      "66\n",
      "29\n",
      "22\n",
      "4\n",
      "1\n",
      "3\n",
      "70\n",
      "76\n",
      "4\n",
      "1\n",
      "3\n",
      "80\n",
      "72\n",
      "61\n",
      "4\n",
      "1\n",
      "57\n",
      "36\n",
      "4\n",
      "1\n",
      "23\n",
      "1\n",
      "17\n",
      "1\n",
      "34\n",
      "53\n",
      "1\n",
      "48\n",
      "17\n",
      "40\n",
      "62\n",
      "6\n",
      "40\n",
      "46\n",
      "7\n",
      "1\n",
      "50\n",
      "27\n",
      "26\n",
      "25\n",
      "22\n",
      "26\n",
      "25\n",
      "29\n",
      "25\n",
      "22\n",
      "25\n",
      "25\n",
      "24\n",
      "22\n",
      "23\n",
      "26\n",
      "27\n",
      "25\n",
      "25\n",
      "50\n",
      "26\n",
      "29\n",
      "24\n",
      "25\n",
      "35\n",
      "35\n",
      "25\n",
      "22\n",
      "27\n",
      "25\n",
      "26\n",
      "1\n",
      "3\n",
      "68\n",
      "66\n",
      "31\n",
      "4\n",
      "35\n",
      "24\n",
      "1\n",
      "21\n",
      "21\n",
      "1\n",
      "27\n",
      "27\n",
      "36\n",
      "11\n",
      "24\n",
      "47\n",
      "47\n",
      "71\n",
      "65\n",
      "4\n",
      "1\n",
      "28\n",
      "11\n",
      "19\n",
      "20\n",
      "23\n",
      "70\n",
      "42\n",
      "73\n",
      "75\n",
      "36\n",
      "4\n",
      "1\n",
      "37\n",
      "1\n",
      "48\n",
      "53\n",
      "51\n",
      "1\n",
      "33\n",
      "1\n",
      "71\n",
      "71\n",
      "74\n",
      "78\n",
      "23\n",
      "3\n",
      "73\n",
      "63\n",
      "4\n",
      "1\n",
      "38\n",
      "1\n",
      "24\n",
      "1\n",
      "29\n",
      "1\n",
      "26\n",
      "25\n",
      "65\n",
      "30\n",
      "1\n",
      "31\n",
      "36\n",
      "35\n",
      "1\n",
      "27\n",
      "57\n",
      "7\n",
      "1\n",
      "31\n",
      "1\n",
      "24\n",
      "70\n",
      "7\n",
      "1\n",
      "25\n",
      "76\n",
      "7\n",
      "1\n",
      "22\n",
      "51\n",
      "7\n",
      "1\n",
      "66\n",
      "2\n",
      "36\n",
      "12\n",
      "36\n",
      "31\n",
      "37\n",
      "76\n",
      "37\n",
      "6\n",
      "9\n",
      "7\n",
      "2\n",
      "1\n",
      "35\n",
      "1\n",
      "34\n",
      "25\n",
      "1\n",
      "37\n",
      "46\n",
      "50\n",
      "55\n",
      "50\n",
      "52\n",
      "1\n",
      "77\n",
      "57\n",
      "1\n",
      "26\n",
      "20\n",
      "21\n",
      "18\n",
      "17\n",
      "19\n",
      "20\n",
      "26\n",
      "16\n",
      "21\n",
      "16\n",
      "1\n",
      "22\n",
      "22\n",
      "27\n",
      "18\n",
      "19\n",
      "15\n",
      "1\n",
      "3\n",
      "37\n",
      "67\n",
      "32\n",
      "4\n",
      "36\n",
      "1\n",
      "3\n",
      "30\n",
      "4\n",
      "54\n",
      "72\n",
      "15\n",
      "15\n",
      "15\n",
      "41\n",
      "19\n",
      "18\n",
      "19\n",
      "21\n",
      "1\n",
      "32\n",
      "1\n",
      "3\n",
      "57\n",
      "4\n",
      "16\n",
      "36\n",
      "52\n",
      "29\n",
      "55\n",
      "17\n",
      "50\n",
      "33\n",
      "50\n",
      "47\n",
      "68\n",
      "73\n",
      "76\n",
      "60\n",
      "57\n",
      "79\n",
      "82\n",
      "90\n",
      "92\n",
      "87\n",
      "62\n",
      "1\n",
      "87\n",
      "82\n",
      "1\n",
      "87\n",
      "75\n",
      "1\n",
      "87\n",
      "72\n",
      "1\n",
      "87\n",
      "73\n",
      "1\n",
      "87\n",
      "82\n",
      "1\n",
      "87\n",
      "72\n",
      "54\n",
      "76\n",
      "32\n",
      "50\n",
      "3\n",
      "1\n",
      "57\n",
      "56\n",
      "57\n",
      "51\n",
      "48\n",
      "45\n",
      "32\n",
      "56\n",
      "1\n",
      "3\n",
      "51\n",
      "3\n",
      "70\n",
      "73\n",
      "77\n",
      "75\n",
      "79\n",
      "76\n",
      "68\n",
      "72\n",
      "14\n",
      "3\n",
      "70\n",
      "64\n",
      "67\n",
      "72\n",
      "62\n",
      "3\n",
      "71\n",
      "4\n",
      "3\n",
      "10\n",
      "27\n",
      "16\n",
      "21\n",
      "24\n",
      "30\n",
      "51\n",
      "63\n",
      "55\n",
      "48\n",
      "72\n",
      "72\n",
      "72\n",
      "72\n",
      "72\n",
      "72\n",
      "72\n",
      "72\n",
      "72\n",
      "72\n",
      "1\n",
      "72\n",
      "72\n",
      "72\n",
      "72\n",
      "72\n",
      "72\n",
      "72\n",
      "72\n",
      "72\n",
      "72\n",
      "1\n",
      "72\n",
      "72\n",
      "72\n",
      "72\n",
      "72\n",
      "72\n",
      "72\n",
      "72\n",
      "72\n",
      "72\n",
      "1\n",
      "72\n",
      "72\n",
      "3\n",
      "1\n",
      "64\n",
      "1\n",
      "41\n",
      "1\n",
      "73\n",
      "52\n",
      "1\n",
      "3\n",
      "58\n",
      "39\n",
      "4\n",
      "50\n",
      "1\n",
      "35\n",
      "1\n",
      "45\n",
      "1\n",
      "3\n",
      "62\n",
      "58\n",
      "22\n",
      "4\n",
      "20\n"
     ]
    }
   ],
   "source": [
    "patterns = [\"//\", \"/*\", \" *\", \"*/\"]\n",
    "tmp = \"\"\n",
    "_add_line_acc = False\n",
    "_match_pattern = 0\n",
    "buf_new_lines = []\n",
    "for i in  lines[:500]:\n",
    "    _match_pattern = 0;\n",
    "    print(len(i))\n",
    "    tmp = i[:2]\n",
    "    for j in patterns:\n",
    "        #print( \" test \", (tmp == j))\n",
    "        if (tmp == j) == True:\n",
    "            _match_pattern = 1\n",
    "    if _match_pattern == 1:\n",
    "        _add_line_acc = False # do nothing\n",
    "        #print( \" match \", i)\n",
    "        # tutaj skipuje linie\n",
    "    else:\n",
    "        _add_line_acc = True # do nothing\n",
    "        #print( \" not mach \", i)\n",
    "        # tutaj dodawaj linie\n",
    "        buf_new_lines.append(i)\n",
    "    #print(re.search(\"//\", i))\n",
    "    #print(re.search(\"^[/*]\", i))\n",
    "    #for j in i:\n",
    "     #   print(j)"
   ]
  },
  {
   "cell_type": "code",
   "execution_count": 42,
   "id": "cfc80f26-859b-455e-b0af-e54563b16ffe",
   "metadata": {},
   "outputs": [
    {
     "data": {
      "text/plain": [
       "['\\n',\n",
       " '\\n',\n",
       " '\\n',\n",
       " '\\n',\n",
       " '\\n',\n",
       " '\\n',\n",
       " '\\n',\n",
       " '\\n',\n",
       " '\\n',\n",
       " '\\n',\n",
       " '\\n',\n",
       " '\\n',\n",
       " '\\n',\n",
       " '\\n',\n",
       " '\\n',\n",
       " '\\n',\n",
       " '\\n',\n",
       " '\\n',\n",
       " '\\n',\n",
       " '\\n',\n",
       " '\\n',\n",
       " '\\n',\n",
       " '\\n',\n",
       " '\\n',\n",
       " '\\n',\n",
       " '#define REALLY_SLOW_IO\\n',\n",
       " '\\n',\n",
       " '#define DEBUGT 2\\n',\n",
       " '\\n',\n",
       " '#define DPRINT(format, args...) \\\\\\n',\n",
       " '\\tpr_info(\"floppy%d: \" format, current_drive, ##args)\\n',\n",
       " '\\n',\n",
       " '#define DCL_DEBUG\\t\\t/* debug disk change line */\\n',\n",
       " '#ifdef DCL_DEBUG\\n',\n",
       " '#define debug_dcl(test, fmt, args...) \\\\\\n',\n",
       " '\\tdo { if ((test) & FD_DEBUG) DPRINT(fmt, ##args); } while (0)\\n',\n",
       " '#else\\n',\n",
       " '#define debug_dcl(test, fmt, args...) \\\\\\n',\n",
       " '\\tdo { if (0) DPRINT(fmt, ##args); } while (0)\\n',\n",
       " '#endif\\n',\n",
       " '\\n',\n",
       " 'static int print_unex = 1;\\n',\n",
       " '#include <linux/module.h>\\n',\n",
       " '#include <linux/sched.h>\\n',\n",
       " '#include <linux/fs.h>\\n',\n",
       " '#include <linux/kernel.h>\\n',\n",
       " '#include <linux/timer.h>\\n',\n",
       " '#include <linux/workqueue.h>\\n',\n",
       " '#include <linux/fdreg.h>\\n',\n",
       " '#include <linux/fd.h>\\n',\n",
       " '#include <linux/hdreg.h>\\n',\n",
       " '#include <linux/errno.h>\\n',\n",
       " '#include <linux/slab.h>\\n',\n",
       " '#include <linux/mm.h>\\n',\n",
       " '#include <linux/bio.h>\\n',\n",
       " '#include <linux/string.h>\\n',\n",
       " '#include <linux/jiffies.h>\\n',\n",
       " '#include <linux/fcntl.h>\\n',\n",
       " '#include <linux/delay.h>\\n',\n",
       " '#include <linux/mc146818rtc.h>\\t/* CMOS defines */\\n',\n",
       " '#include <linux/ioport.h>\\n',\n",
       " '#include <linux/interrupt.h>\\n',\n",
       " '#include <linux/init.h>\\n',\n",
       " '#include <linux/major.h>\\n',\n",
       " '#include <linux/platform_device.h>\\n',\n",
       " '#include <linux/mod_devicetable.h>\\n',\n",
       " '#include <linux/mutex.h>\\n',\n",
       " '#include <linux/io.h>\\n',\n",
       " '#include <linux/uaccess.h>\\n',\n",
       " '#include <linux/async.h>\\n',\n",
       " '#include <linux/compat.h>\\n',\n",
       " '\\n',\n",
       " 'static DEFINE_MUTEX(floppy_mutex);\\n',\n",
       " 'static int slow_floppy;\\n',\n",
       " '\\n',\n",
       " '#include <asm/dma.h>\\n',\n",
       " '#include <asm/irq.h>\\n',\n",
       " '\\n',\n",
       " 'static int FLOPPY_IRQ = 6;\\n',\n",
       " 'static int FLOPPY_DMA = 2;\\n',\n",
       " 'static int can_use_virtual_dma = 2;\\n',\n",
       " '\\n',\n",
       " 'static int use_virtual_dma;\\n',\n",
       " '\\n',\n",
       " 'static DEFINE_SPINLOCK(floppy_lock);\\n',\n",
       " '\\n',\n",
       " 'static unsigned short virtual_dma_port = 0x3f0;\\n',\n",
       " 'irqreturn_t floppy_interrupt(int irq, void *dev_id);\\n',\n",
       " 'static int set_dor(int fdc, char mask, char data);\\n',\n",
       " '\\n',\n",
       " '#define K_64\\t0x10000\\t\\t/* 64KB */\\n',\n",
       " '\\n',\n",
       " '\\n',\n",
       " 'static int allowed_drive_mask = 0x33;\\n',\n",
       " '\\n',\n",
       " '#include <asm/floppy.h>\\n',\n",
       " '\\n',\n",
       " 'static int irqdma_allocated;\\n',\n",
       " '\\n',\n",
       " '#include <linux/blk-mq.h>\\n',\n",
       " '#include <linux/blkpg.h>\\n',\n",
       " '#include <linux/cdrom.h>\\t/* for the compatibility eject ioctl */\\n',\n",
       " '#include <linux/completion.h>\\n',\n",
       " '\\n',\n",
       " 'static LIST_HEAD(floppy_reqs);\\n',\n",
       " 'static struct request *current_req;\\n',\n",
       " 'static int set_next_request(void);\\n',\n",
       " '\\n',\n",
       " '#ifndef fd_get_dma_residue\\n',\n",
       " '#define fd_get_dma_residue() get_dma_residue(FLOPPY_DMA)\\n',\n",
       " '#endif\\n',\n",
       " '\\n',\n",
       " '\\n',\n",
       " '#ifndef fd_dma_mem_free\\n',\n",
       " '#define fd_dma_mem_free(addr, size) free_pages(addr, get_order(size))\\n',\n",
       " '#endif\\n',\n",
       " '\\n',\n",
       " '#ifndef fd_dma_mem_alloc\\n',\n",
       " '#define fd_dma_mem_alloc(size) __get_dma_pages(GFP_KERNEL, get_order(size))\\n',\n",
       " '#endif\\n',\n",
       " '\\n',\n",
       " '#ifndef fd_cacheflush\\n',\n",
       " '#define fd_cacheflush(addr, size) /* nothing... */\\n',\n",
       " '#endif\\n',\n",
       " '\\n',\n",
       " 'static inline void fallback_on_nodma_alloc(char **addr, size_t l)\\n',\n",
       " '{\\n',\n",
       " '#ifdef FLOPPY_CAN_FALLBACK_ON_NODMA\\n',\n",
       " '\\tif (*addr)\\n',\n",
       " '\\t\\treturn;\\t\\t/* we have the memory */\\n',\n",
       " '\\tif (can_use_virtual_dma != 2)\\n',\n",
       " '\\t\\treturn;\\t\\t/* no fallback allowed */\\n',\n",
       " '\\tpr_info(\"DMA memory shortage. Temporarily falling back on virtual DMA\\\\n\");\\n',\n",
       " '\\t*addr = (char *)nodma_mem_alloc(l);\\n',\n",
       " '#else\\n',\n",
       " '\\treturn;\\n',\n",
       " '#endif\\n',\n",
       " '}\\n',\n",
       " '\\n',\n",
       " '\\n',\n",
       " 'static unsigned long fake_change;\\n',\n",
       " 'static bool initialized;\\n',\n",
       " '\\n',\n",
       " '#define ITYPE(x)\\t(((x) >> 2) & 0x1f)\\n',\n",
       " '#define TOMINOR(x)\\t((x & 3) | ((x & 4) << 5))\\n',\n",
       " '#define UNIT(x)\\t\\t((x) & 0x03)\\t\\t/* drive on fdc */\\n',\n",
       " '#define FDC(x)\\t\\t(((x) & 0x04) >> 2)\\t/* fdc of drive */\\n',\n",
       " '\\t/* reverse mapping from unit and fdc to drive */\\n',\n",
       " '#define REVDRIVE(fdc, unit) ((unit) + ((fdc) << 2))\\n',\n",
       " '\\n',\n",
       " '#define PH_HEAD(floppy, head) (((((floppy)->stretch & 2) >> 1) ^ head) << 2)\\n',\n",
       " '#define STRETCH(floppy)\\t((floppy)->stretch & FD_STRETCH)\\n',\n",
       " '\\n',\n",
       " '#define COMMAND\\t\\t\\t0\\n',\n",
       " '#define DR_SELECT\\t\\t1\\n',\n",
       " '#define TRACK\\t\\t\\t2\\n',\n",
       " '#define HEAD\\t\\t\\t3\\n',\n",
       " '#define SECTOR\\t\\t\\t4\\n',\n",
       " '#define SIZECODE\\t\\t5\\n',\n",
       " '#define SECT_PER_TRACK\\t\\t6\\n',\n",
       " '#define GAP\\t\\t\\t7\\n',\n",
       " '#define SIZECODE2\\t\\t8\\n',\n",
       " '#define NR_RW 9\\n',\n",
       " '\\n',\n",
       " '#define F_SIZECODE\\t\\t2\\n',\n",
       " '#define F_SECT_PER_TRACK\\t3\\n',\n",
       " '#define F_GAP\\t\\t\\t4\\n',\n",
       " '#define F_FILL\\t\\t\\t5\\n',\n",
       " '#define NR_F 6\\n',\n",
       " '\\n',\n",
       " '#define MAX_DISK_SIZE 4\\t\\t/* 3984 */\\n',\n",
       " '\\n',\n",
       " 'static unsigned char reply_buffer[FD_RAW_REPLY_SIZE];\\n',\n",
       " 'static int inr;\\t\\t/* size of reply buffer, when called from interrupt */\\n',\n",
       " '#define ST0\\t\\t0\\n',\n",
       " '#define ST1\\t\\t1\\n',\n",
       " '#define ST2\\t\\t2\\n',\n",
       " '#define ST3\\t\\t0\\t/* result of GETSTATUS */\\n',\n",
       " '#define R_TRACK\\t\\t3\\n',\n",
       " '#define R_HEAD\\t\\t4\\n',\n",
       " '#define R_SECTOR\\t5\\n',\n",
       " '#define R_SIZECODE\\t6\\n',\n",
       " '\\n',\n",
       " '#define SEL_DLY\\t\\t(2 * HZ / 100)\\n',\n",
       " '\\n',\n",
       " 'static struct {\\n',\n",
       " '\\tstruct floppy_drive_params params;\\n',\n",
       " '\\tconst char *name;\\t/* name printed while booting */\\n',\n",
       " '} default_drive_params[] = {\\n',\n",
       " ' CMOS drive type\\n',\n",
       " '  |     Maximum data rate supported by drive type\\n',\n",
       " '  |     |   Head load time, msec\\n',\n",
       " '  |     |   |   Head unload time, msec (not used)\\n',\n",
       " '  |     |   |   |     Step rate interval, usec\\n',\n",
       " '  |     |   |   |     |       Time needed for spinup time (jiffies)\\n',\n",
       " '  |     |   |   |     |       |      Timeout for spinning down (jiffies)\\n',\n",
       " '  |     |   |   |     |       |      |   Spindown offset (where disk stops)\\n',\n",
       " '  |     |   |   |     |       |      |   |     Select delay\\n',\n",
       " '  |     |   |   |     |       |      |   |     |     RPS\\n',\n",
       " '  |     |   |   |     |       |      |   |     |     |    Max number of tracks\\n',\n",
       " '  |     |   |   |     |       |      |   |     |     |    |     Interrupt timeout\\n',\n",
       " '  |     |   |   |     |       |      |   |     |     |    |     |   Max nonintlv. sectors\\n',\n",
       " '  |     |   |   |     |       |      |   |     |     |    |     |   | -Max Errors- flags */\\n',\n",
       " '{{0,  500, 16, 16, 8000,    1*HZ, 3*HZ,  0, SEL_DLY, 5,  80, 3*HZ, 20, {3,1,2,0,2}, 0,\\n',\n",
       " '      0, { 7, 4, 8, 2, 1, 5, 3,10}, 3*HZ/2, 0 }, \"unknown\" },\\n',\n",
       " '\\n',\n",
       " '{{1,  300, 16, 16, 8000,    1*HZ, 3*HZ,  0, SEL_DLY, 5,  40, 3*HZ, 17, {3,1,2,0,2}, 0,\\n',\n",
       " '      0, { 1, 0, 0, 0, 0, 0, 0, 0}, 3*HZ/2, 1 }, \"360K PC\" }, /*5 1/4 360 KB PC*/\\n',\n",
       " '\\n',\n",
       " '{{2,  500, 16, 16, 6000, 4*HZ/10, 3*HZ, 14, SEL_DLY, 6,  83, 3*HZ, 17, {3,1,2,0,2}, 0,\\n',\n",
       " '      0, { 2, 5, 6,23,10,20,12, 0}, 3*HZ/2, 2 }, \"1.2M\" }, /*5 1/4 HD AT*/\\n',\n",
       " '\\n',\n",
       " '{{3,  250, 16, 16, 3000,    1*HZ, 3*HZ,  0, SEL_DLY, 5,  83, 3*HZ, 20, {3,1,2,0,2}, 0,\\n',\n",
       " '      0, { 4,22,21,30, 3, 0, 0, 0}, 3*HZ/2, 4 }, \"720k\" }, /*3 1/2 DD*/\\n',\n",
       " '\\n',\n",
       " '{{4,  500, 16, 16, 4000, 4*HZ/10, 3*HZ, 10, SEL_DLY, 5,  83, 3*HZ, 20, {3,1,2,0,2}, 0,\\n',\n",
       " '      0, { 7, 4,25,22,31,21,29,11}, 3*HZ/2, 7 }, \"1.44M\" }, /*3 1/2 HD*/\\n',\n",
       " '\\n',\n",
       " '{{5, 1000, 15,  8, 3000, 4*HZ/10, 3*HZ, 10, SEL_DLY, 5,  83, 3*HZ, 40, {3,1,2,0,2}, 0,\\n',\n",
       " '      0, { 7, 8, 4,25,28,22,31,21}, 3*HZ/2, 8 }, \"2.88M AMI BIOS\" }, /*3 1/2 ED*/\\n',\n",
       " '\\n',\n",
       " '{{6, 1000, 15,  8, 3000, 4*HZ/10, 3*HZ, 10, SEL_DLY, 5,  83, 3*HZ, 40, {3,1,2,0,2}, 0,\\n',\n",
       " '      0, { 7, 8, 4,25,28,22,31,21}, 3*HZ/2, 8 }, \"2.88M\" } /*3 1/2 ED*/\\n',\n",
       " '};\\n',\n",
       " '\\n',\n",
       " 'static struct floppy_drive_params drive_params[N_DRIVE];\\n',\n",
       " 'static struct floppy_drive_struct drive_state[N_DRIVE];\\n',\n",
       " 'static struct floppy_write_errors write_errors[N_DRIVE];\\n',\n",
       " 'static struct timer_list motor_off_timer[N_DRIVE];\\n',\n",
       " 'static struct blk_mq_tag_set tag_sets[N_DRIVE];\\n',\n",
       " 'static struct gendisk *opened_disk[N_DRIVE];\\n',\n",
       " 'static DEFINE_MUTEX(open_lock);\\n',\n",
       " 'static struct floppy_raw_cmd *raw_cmd, default_raw_cmd;\\n',\n",
       " '\\n',\n",
       " '\\t    Size\\n',\n",
       " '\\t     |  Sectors per track\\n',\n",
       " '\\t     |  | Head\\n',\n",
       " '\\t     |  | |  Tracks\\n',\n",
       " '\\t     |  | |  | Stretch\\n',\n",
       " '\\t     |  | |  | |  Gap 1 size\\n',\n",
       " '\\t     |  | |  | |    |  Data rate, | 0x40 for perp\\n',\n",
       " '\\t     |  | |  | |    |    |  Spec1 (stepping rate, head unload\\n',\n",
       " '\\t     |  | |  | |    |    |    |    /fmt gap (gap2) */\\n',\n",
       " 'static struct floppy_struct floppy_type[32] = {\\n',\n",
       " '\\t{    0, 0,0, 0,0,0x00,0x00,0x00,0x00,NULL    },\\t/*  0 no testing    */\\n',\n",
       " '\\t{  720, 9,2,40,0,0x2A,0x02,0xDF,0x50,\"d360\"  }, /*  1 360KB PC      */\\n',\n",
       " '\\t{ 2400,15,2,80,0,0x1B,0x00,0xDF,0x54,\"h1200\" },\\t/*  2 1.2MB AT      */\\n',\n",
       " '\\t{  720, 9,1,80,0,0x2A,0x02,0xDF,0x50,\"D360\"  },\\t/*  3 360KB SS 3.5\" */\\n',\n",
       " '\\t{ 1440, 9,2,80,0,0x2A,0x02,0xDF,0x50,\"D720\"  },\\t/*  4 720KB 3.5\"    */\\n',\n",
       " '\\t{  720, 9,2,40,1,0x23,0x01,0xDF,0x50,\"h360\"  },\\t/*  5 360KB AT      */\\n',\n",
       " '\\t{ 1440, 9,2,80,0,0x23,0x01,0xDF,0x50,\"h720\"  },\\t/*  6 720KB AT      */\\n',\n",
       " '\\t{ 2880,18,2,80,0,0x1B,0x00,0xCF,0x6C,\"H1440\" },\\t/*  7 1.44MB 3.5\"   */\\n',\n",
       " '\\t{ 5760,36,2,80,0,0x1B,0x43,0xAF,0x54,\"E2880\" },\\t/*  8 2.88MB 3.5\"   */\\n',\n",
       " '\\t{ 6240,39,2,80,0,0x1B,0x43,0xAF,0x28,\"E3120\" },\\t/*  9 3.12MB 3.5\"   */\\n',\n",
       " '\\n',\n",
       " '\\t{ 2880,18,2,80,0,0x25,0x00,0xDF,0x02,\"h1440\" }, /* 10 1.44MB 5.25\"  */\\n',\n",
       " '\\t{ 3360,21,2,80,0,0x1C,0x00,0xCF,0x0C,\"H1680\" }, /* 11 1.68MB 3.5\"   */\\n',\n",
       " '\\t{  820,10,2,41,1,0x25,0x01,0xDF,0x2E,\"h410\"  },\\t/* 12 410KB 5.25\"   */\\n',\n",
       " '\\t{ 1640,10,2,82,0,0x25,0x02,0xDF,0x2E,\"H820\"  },\\t/* 13 820KB 3.5\"    */\\n',\n",
       " '\\t{ 2952,18,2,82,0,0x25,0x00,0xDF,0x02,\"h1476\" },\\t/* 14 1.48MB 5.25\"  */\\n',\n",
       " '\\t{ 3444,21,2,82,0,0x25,0x00,0xDF,0x0C,\"H1722\" },\\t/* 15 1.72MB 3.5\"   */\\n',\n",
       " '\\t{  840,10,2,42,1,0x25,0x01,0xDF,0x2E,\"h420\"  },\\t/* 16 420KB 5.25\"   */\\n',\n",
       " '\\t{ 1660,10,2,83,0,0x25,0x02,0xDF,0x2E,\"H830\"  },\\t/* 17 830KB 3.5\"    */\\n',\n",
       " '\\t{ 2988,18,2,83,0,0x25,0x00,0xDF,0x02,\"h1494\" },\\t/* 18 1.49MB 5.25\"  */\\n',\n",
       " '\\t{ 3486,21,2,83,0,0x25,0x00,0xDF,0x0C,\"H1743\" }, /* 19 1.74 MB 3.5\"  */\\n',\n",
       " '\\n',\n",
       " '\\t{ 1760,11,2,80,0,0x1C,0x09,0xCF,0x00,\"h880\"  }, /* 20 880KB 5.25\"   */\\n',\n",
       " '\\t{ 2080,13,2,80,0,0x1C,0x01,0xCF,0x00,\"D1040\" }, /* 21 1.04MB 3.5\"   */\\n',\n",
       " '\\t{ 2240,14,2,80,0,0x1C,0x19,0xCF,0x00,\"D1120\" }, /* 22 1.12MB 3.5\"   */\\n',\n",
       " '\\t{ 3200,20,2,80,0,0x1C,0x20,0xCF,0x2C,\"h1600\" }, /* 23 1.6MB 5.25\"   */\\n',\n",
       " '\\t{ 3520,22,2,80,0,0x1C,0x08,0xCF,0x2e,\"H1760\" }, /* 24 1.76MB 3.5\"   */\\n',\n",
       " '\\t{ 3840,24,2,80,0,0x1C,0x20,0xCF,0x00,\"H1920\" }, /* 25 1.92MB 3.5\"   */\\n',\n",
       " '\\t{ 6400,40,2,80,0,0x25,0x5B,0xCF,0x00,\"E3200\" }, /* 26 3.20MB 3.5\"   */\\n',\n",
       " '\\t{ 7040,44,2,80,0,0x25,0x5B,0xCF,0x00,\"E3520\" }, /* 27 3.52MB 3.5\"   */\\n',\n",
       " '\\t{ 7680,48,2,80,0,0x25,0x63,0xCF,0x00,\"E3840\" }, /* 28 3.84MB 3.5\"   */\\n',\n",
       " '\\t{ 3680,23,2,80,0,0x1C,0x10,0xCF,0x00,\"H1840\" }, /* 29 1.84MB 3.5\"   */\\n',\n",
       " '\\n',\n",
       " '\\t{ 1600,10,2,80,0,0x25,0x02,0xDF,0x2E,\"D800\"  },\\t/* 30 800KB 3.5\"    */\\n',\n",
       " '\\t{ 3200,20,2,80,0,0x1C,0x00,0xCF,0x2C,\"H1600\" }, /* 31 1.6MB 3.5\"    */\\n',\n",
       " '};\\n',\n",
       " '\\n',\n",
       " 'static struct gendisk *disks[N_DRIVE][ARRAY_SIZE(floppy_type)];\\n',\n",
       " '\\n',\n",
       " '#define SECTSIZE (_FD_SECTSIZE(*floppy))\\n',\n",
       " '\\n',\n",
       " 'static struct floppy_struct *current_type[N_DRIVE];\\n',\n",
       " '\\n',\n",
       " 'static struct floppy_struct user_params[N_DRIVE];\\n',\n",
       " '\\n',\n",
       " 'static sector_t floppy_sizes[256];\\n',\n",
       " '\\n',\n",
       " 'static char floppy_device_name[] = \"floppy\";\\n',\n",
       " '\\n',\n",
       " 'static int probing;\\n']"
      ]
     },
     "execution_count": 42,
     "metadata": {},
     "output_type": "execute_result"
    }
   ],
   "source": [
    "buf_new_lines"
   ]
  },
  {
   "cell_type": "code",
   "execution_count": 43,
   "id": "e16b9c95-12b8-4407-a6e7-39255c62727f",
   "metadata": {},
   "outputs": [],
   "source": [
    "f_new = open(\"C:\\\\Users\\\\{username}\\\\Documents\\\\progs\\\\__bin\\\\TRAINING_DATA_SAMPLE\\\\tmp\\\\floppy_copy.c\", \"w\")"
   ]
  },
  {
   "cell_type": "code",
   "execution_count": 46,
   "id": "1864dcb4-db20-44dd-ba82-53d2d21aede4",
   "metadata": {},
   "outputs": [],
   "source": [
    "for line in buf_new_lines:\n",
    "    f_new.write(line)"
   ]
  },
  {
   "cell_type": "code",
   "execution_count": 47,
   "id": "ced15858-3d96-4f5d-93e7-59598003211b",
   "metadata": {},
   "outputs": [],
   "source": [
    "f_new.close()"
   ]
  },
  {
   "cell_type": "code",
   "execution_count": 48,
   "id": "c9ae3e7c-7cbd-4118-8be6-806f60dd83f0",
   "metadata": {},
   "outputs": [],
   "source": [
    "# OK - MOZE BYC - w sumie mogę ręcznie wybierać interesujące mnie pliki\n",
    "# jedynie tylko potem trzeba jakoś skatalogować sensownie ale to jeszcze do rozkminy"
   ]
  },
  {
   "cell_type": "code",
   "execution_count": 49,
   "id": "50fb64d1-eebb-43bc-82ad-c73d8f2e9e70",
   "metadata": {},
   "outputs": [],
   "source": [
    "# w sumie algorytm do wyszukiwania wyjdzie w praniu, na razie nie trzeba się aż tak bardzo gimnastykować\n",
    "# wiadomo że lepiej byłoby losowo otwierać jakiś plik i kawałek z tego brać i chyba tak zrobię\n",
    "# ale są też opcje - po pierwszej literze, po katalogu, po wielkości pliku etc etc"
   ]
  },
  {
   "cell_type": "code",
   "execution_count": 50,
   "id": "8c08f4df-50b0-49ab-bf67-df5811a96ad8",
   "metadata": {},
   "outputs": [],
   "source": [
    "import os"
   ]
  },
  {
   "cell_type": "code",
   "execution_count": 74,
   "id": "0348ef37-c561-448e-97a9-3ba78614ad31",
   "metadata": {},
   "outputs": [],
   "source": [
    "path = \"C:\\\\Users\\\\{username}\\\\Documents\\\\progs\\\\__bin\\\\TRAINING_DATA_SAMPLE\\\\linux-master\\\\linux-master\\\\kernel\""
   ]
  },
  {
   "cell_type": "code",
   "execution_count": 79,
   "id": "6a571d10-6366-45d2-8710-1e0b1693fb8f",
   "metadata": {},
   "outputs": [
    {
     "name": "stdout",
     "output_type": "stream",
     "text": [
      "[]\n",
      "['acct.c']\n",
      "['async.c']\n",
      "['audit.c']\n"
     ]
    }
   ],
   "source": [
    "# https://stackoverflow.com/questions/13989640/regular-expression-to-match-a-dot\n",
    "for k in os.listdir(path)[:4]:\n",
    "    print(re.findall(r'(\\w+[.]\\w+)', k) )"
   ]
  },
  {
   "cell_type": "code",
   "execution_count": 66,
   "id": "45934fe1-f711-4dfa-8714-ec79442a6275",
   "metadata": {},
   "outputs": [
    {
     "name": "stdout",
     "output_type": "stream",
     "text": [
      ".gitignore\n",
      "acct.c\n",
      "async.c\n",
      "audit.c\n"
     ]
    }
   ],
   "source": [
    "for k in os.listdir(path)[:4]:\n",
    "    print(k)"
   ]
  },
  {
   "cell_type": "code",
   "execution_count": 72,
   "id": "1c73d81a-032c-4329-bc0e-9f43a0766f86",
   "metadata": {},
   "outputs": [],
   "source": [
    "f_test_open = open(path + \"\\\\\" + os.listdir(path)[2], \"r\")"
   ]
  },
  {
   "cell_type": "code",
   "execution_count": 73,
   "id": "f1369430-e237-4a1e-928b-9a1c2a232a92",
   "metadata": {},
   "outputs": [
    {
     "data": {
      "text/plain": [
       "['// SPDX-License-Identifier: GPL-2.0-only\\n',\n",
       " '/*\\n',\n",
       " ' * async.c: Asynchronous function calls for boot performance\\n',\n",
       " ' *\\n',\n",
       " ' * (C) Copyright 2009 Intel Corporation\\n',\n",
       " ' * Author: Arjan van de Ven <arjan@linux.intel.com>\\n',\n",
       " ' */\\n',\n",
       " '\\n',\n",
       " '\\n',\n",
       " '/*\\n',\n",
       " '\\n',\n",
       " 'Goals and Theory of Operation\\n',\n",
       " '\\n',\n",
       " 'The primary goal of this feature is to reduce the kernel boot time,\\n',\n",
       " 'by doing various independent hardware delays and discovery operations\\n',\n",
       " 'decoupled and not strictly serialized.\\n',\n",
       " '\\n',\n",
       " 'More specifically, the asynchronous function call concept allows\\n',\n",
       " 'certain operations (primarily during system boot) to happen\\n',\n",
       " 'asynchronously, out of order, while these operations still\\n',\n",
       " 'have their externally visible parts happen sequentially and in-order.\\n',\n",
       " '(not unlike how out-of-order CPUs retire their instructions in order)\\n',\n",
       " '\\n',\n",
       " 'Key to the asynchronous function call implementation is the concept of\\n',\n",
       " 'a \"sequence cookie\" (which, although it has an abstracted type, can be\\n',\n",
       " 'thought of as a monotonically incrementing number).\\n',\n",
       " '\\n',\n",
       " 'The async core will assign each scheduled event such a sequence cookie and\\n',\n",
       " 'pass this to the called functions.\\n',\n",
       " '\\n',\n",
       " 'The asynchronously called function should before doing a globally visible\\n',\n",
       " 'operation, such as registering device numbers, call the\\n',\n",
       " 'async_synchronize_cookie() function and pass in its own cookie. The\\n',\n",
       " 'async_synchronize_cookie() function will make sure that all asynchronous\\n',\n",
       " 'operations that were scheduled prior to the operation corresponding with the\\n',\n",
       " 'cookie have completed.\\n',\n",
       " '\\n',\n",
       " 'Subsystem/driver initialization code that scheduled asynchronous probe\\n',\n",
       " 'functions, but which shares global resources with other drivers/subsystems\\n',\n",
       " 'that do not use the asynchronous call feature, need to do a full\\n',\n",
       " 'synchronization with the async_synchronize_full() function, before returning\\n',\n",
       " 'from their init function. This is to maintain strict ordering between the\\n',\n",
       " 'asynchronous and synchronous parts of the kernel.\\n',\n",
       " '\\n',\n",
       " '*/\\n',\n",
       " '\\n',\n",
       " '#include <linux/async.h>\\n',\n",
       " '#include <linux/atomic.h>\\n',\n",
       " '#include <linux/export.h>\\n',\n",
       " '#include <linux/ktime.h>\\n',\n",
       " '#include <linux/pid.h>\\n',\n",
       " '#include <linux/sched.h>\\n',\n",
       " '#include <linux/slab.h>\\n',\n",
       " '#include <linux/wait.h>\\n',\n",
       " '#include <linux/workqueue.h>\\n',\n",
       " '\\n',\n",
       " '#include \"workqueue_internal.h\"\\n',\n",
       " '\\n',\n",
       " 'static async_cookie_t next_cookie = 1;\\n',\n",
       " '\\n',\n",
       " '#define MAX_WORK\\t\\t32768\\n',\n",
       " '#define ASYNC_COOKIE_MAX\\tULLONG_MAX\\t/* infinity cookie */\\n',\n",
       " '\\n',\n",
       " 'static LIST_HEAD(async_global_pending);\\t/* pending from all registered doms */\\n',\n",
       " 'static ASYNC_DOMAIN(async_dfl_domain);\\n',\n",
       " 'static DEFINE_SPINLOCK(async_lock);\\n',\n",
       " 'static struct workqueue_struct *async_wq;\\n',\n",
       " '\\n',\n",
       " 'struct async_entry {\\n',\n",
       " '\\tstruct list_head\\tdomain_list;\\n',\n",
       " '\\tstruct list_head\\tglobal_list;\\n',\n",
       " '\\tstruct work_struct\\twork;\\n',\n",
       " '\\tasync_cookie_t\\t\\tcookie;\\n',\n",
       " '\\tasync_func_t\\t\\tfunc;\\n',\n",
       " '\\tvoid\\t\\t\\t*data;\\n',\n",
       " '\\tstruct async_domain\\t*domain;\\n',\n",
       " '};\\n',\n",
       " '\\n',\n",
       " 'static DECLARE_WAIT_QUEUE_HEAD(async_done);\\n',\n",
       " '\\n',\n",
       " 'static atomic_t entry_count;\\n',\n",
       " '\\n',\n",
       " 'static long long microseconds_since(ktime_t start)\\n',\n",
       " '{\\n',\n",
       " '\\tktime_t now = ktime_get();\\n',\n",
       " '\\treturn ktime_to_ns(ktime_sub(now, start)) >> 10;\\n',\n",
       " '}\\n',\n",
       " '\\n',\n",
       " 'static async_cookie_t lowest_in_progress(struct async_domain *domain)\\n',\n",
       " '{\\n',\n",
       " '\\tstruct async_entry *first = NULL;\\n',\n",
       " '\\tasync_cookie_t ret = ASYNC_COOKIE_MAX;\\n',\n",
       " '\\tunsigned long flags;\\n',\n",
       " '\\n',\n",
       " '\\tspin_lock_irqsave(&async_lock, flags);\\n',\n",
       " '\\n',\n",
       " '\\tif (domain) {\\n',\n",
       " '\\t\\tif (!list_empty(&domain->pending))\\n',\n",
       " '\\t\\t\\tfirst = list_first_entry(&domain->pending,\\n',\n",
       " '\\t\\t\\t\\t\\tstruct async_entry, domain_list);\\n']"
      ]
     },
     "execution_count": 73,
     "metadata": {},
     "output_type": "execute_result"
    }
   ],
   "source": [
    "f_test_open.readlines()[:100]"
   ]
  },
  {
   "cell_type": "code",
   "execution_count": 80,
   "id": "b0e29ef0-4417-4363-b39e-fa47f9b14251",
   "metadata": {},
   "outputs": [],
   "source": [
    "path2 = \"C:\\\\Users\\\\{username}\\\\Documents\\\\progs\\\\__bin\\\\TRAINING_DATA_SAMPLE\\\\linux-master\\\\linux-master\\\\kernel\""
   ]
  },
  {
   "cell_type": "code",
   "execution_count": 81,
   "id": "bf05155e-d7ac-43d7-b500-c25969a77285",
   "metadata": {},
   "outputs": [
    {
     "data": {
      "text/plain": [
       "['.gitignore',\n",
       " 'acct.c',\n",
       " 'async.c',\n",
       " 'audit.c',\n",
       " 'audit.h',\n",
       " 'auditfilter.c',\n",
       " 'auditsc.c',\n",
       " 'audit_fsnotify.c',\n",
       " 'audit_tree.c',\n",
       " 'audit_watch.c',\n",
       " 'backtracetest.c',\n",
       " 'bounds.c',\n",
       " 'bpf',\n",
       " 'capability.c',\n",
       " 'cfi.c',\n",
       " 'cgroup',\n",
       " 'compat.c',\n",
       " 'configs',\n",
       " 'configs.c',\n",
       " 'context_tracking.c',\n",
       " 'cpu.c',\n",
       " 'cpu_pm.c',\n",
       " 'crash_core.c',\n",
       " 'crash_reserve.c',\n",
       " 'cred.c',\n",
       " 'debug',\n",
       " 'delayacct.c',\n",
       " 'dma',\n",
       " 'dma.c',\n",
       " 'elfcorehdr.c',\n",
       " 'entry',\n",
       " 'events',\n",
       " 'exec_domain.c',\n",
       " 'exit.c',\n",
       " 'exit.h',\n",
       " 'extable.c',\n",
       " 'fail_function.c',\n",
       " 'fork.c',\n",
       " 'freezer.c',\n",
       " 'futex',\n",
       " 'gcov',\n",
       " 'gen_kheaders.sh',\n",
       " 'groups.c',\n",
       " 'hung_task.c',\n",
       " 'iomem.c',\n",
       " 'irq',\n",
       " 'irq_work.c',\n",
       " 'jump_label.c',\n",
       " 'kallsyms.c',\n",
       " 'kallsyms_internal.h',\n",
       " 'kallsyms_selftest.c',\n",
       " 'kallsyms_selftest.h',\n",
       " 'kcmp.c',\n",
       " 'Kconfig.freezer',\n",
       " 'Kconfig.hz',\n",
       " 'Kconfig.kexec',\n",
       " 'Kconfig.locks',\n",
       " 'Kconfig.preempt',\n",
       " 'kcov.c',\n",
       " 'kcsan',\n",
       " 'kexec.c',\n",
       " 'kexec_core.c',\n",
       " 'kexec_elf.c',\n",
       " 'kexec_file.c',\n",
       " 'kexec_internal.h',\n",
       " 'kheaders.c',\n",
       " 'kprobes.c',\n",
       " 'ksyms_common.c',\n",
       " 'ksysfs.c',\n",
       " 'kthread.c',\n",
       " 'latencytop.c',\n",
       " 'livepatch',\n",
       " 'locking',\n",
       " 'Makefile',\n",
       " 'module',\n",
       " 'module_signature.c',\n",
       " 'notifier.c',\n",
       " 'nsproxy.c',\n",
       " 'numa.c',\n",
       " 'padata.c',\n",
       " 'panic.c',\n",
       " 'params.c',\n",
       " 'pid.c',\n",
       " 'pid_namespace.c',\n",
       " 'pid_sysctl.h',\n",
       " 'power',\n",
       " 'printk',\n",
       " 'profile.c',\n",
       " 'ptrace.c',\n",
       " 'range.c',\n",
       " 'rcu',\n",
       " 'reboot.c',\n",
       " 'regset.c',\n",
       " 'relay.c',\n",
       " 'resource.c',\n",
       " 'resource_kunit.c',\n",
       " 'rseq.c',\n",
       " 'scftorture.c',\n",
       " 'sched',\n",
       " 'scs.c',\n",
       " 'seccomp.c',\n",
       " 'signal.c',\n",
       " 'smp.c',\n",
       " 'smpboot.c',\n",
       " 'smpboot.h',\n",
       " 'softirq.c',\n",
       " 'stackleak.c',\n",
       " 'stacktrace.c',\n",
       " 'static_call.c',\n",
       " 'static_call_inline.c',\n",
       " 'stop_machine.c',\n",
       " 'sys.c',\n",
       " 'sysctl-test.c',\n",
       " 'sysctl.c',\n",
       " 'sys_ni.c',\n",
       " 'taskstats.c',\n",
       " 'task_work.c',\n",
       " 'time',\n",
       " 'torture.c',\n",
       " 'trace',\n",
       " 'tracepoint.c',\n",
       " 'tsacct.c',\n",
       " 'ucount.c',\n",
       " 'uid16.c',\n",
       " 'uid16.h',\n",
       " 'umh.c',\n",
       " 'up.c',\n",
       " 'user-return-notifier.c',\n",
       " 'user.c',\n",
       " 'usermode_driver.c',\n",
       " 'user_namespace.c',\n",
       " 'utsname.c',\n",
       " 'utsname_sysctl.c',\n",
       " 'vhost_task.c',\n",
       " 'vmcore_info.c',\n",
       " 'watchdog.c',\n",
       " 'watchdog_buddy.c',\n",
       " 'watchdog_perf.c',\n",
       " 'watch_queue.c',\n",
       " 'workqueue.c',\n",
       " 'workqueue_internal.h']"
      ]
     },
     "execution_count": 81,
     "metadata": {},
     "output_type": "execute_result"
    }
   ],
   "source": [
    "os.listdir(path2)"
   ]
  },
  {
   "cell_type": "code",
   "execution_count": 94,
   "id": "16b6f6c2-3f7a-43a7-93a0-15a10afad6a9",
   "metadata": {},
   "outputs": [
    {
     "name": "stdout",
     "output_type": "stream",
     "text": [
      ".gitignore  \t\t  [] \t ['.gitignore']\n",
      "acct.c  \t\t  ['acct.c'] \t ['.c']\n",
      "async.c  \t\t  ['async.c'] \t ['.c']\n",
      "audit.c  \t\t  ['audit.c'] \t ['.c']\n",
      "audit.h  \t\t  ['audit.h'] \t ['.h']\n",
      "auditfilter.c  \t\t  ['auditfilter.c'] \t ['.c']\n",
      "auditsc.c  \t\t  ['auditsc.c'] \t ['.c']\n",
      "audit_fsnotify.c  \t\t  ['audit_fsnotify.c'] \t ['.c']\n",
      "audit_tree.c  \t\t  ['audit_tree.c'] \t ['.c']\n",
      "audit_watch.c  \t\t  ['audit_watch.c'] \t ['.c']\n",
      "backtracetest.c  \t\t  ['backtracetest.c'] \t ['.c']\n",
      "bounds.c  \t\t  ['bounds.c'] \t ['.c']\n",
      "bpf  \t\t  [] \t []\n",
      "capability.c  \t\t  ['capability.c'] \t ['.c']\n",
      "cfi.c  \t\t  ['cfi.c'] \t ['.c']\n",
      "cgroup  \t\t  [] \t []\n",
      "compat.c  \t\t  ['compat.c'] \t ['.c']\n",
      "configs  \t\t  [] \t []\n",
      "configs.c  \t\t  ['configs.c'] \t ['.c']\n",
      "context_tracking.c  \t\t  ['context_tracking.c'] \t ['.c']\n",
      "cpu.c  \t\t  ['cpu.c'] \t ['.c']\n",
      "cpu_pm.c  \t\t  ['cpu_pm.c'] \t ['.c']\n",
      "crash_core.c  \t\t  ['crash_core.c'] \t ['.c']\n",
      "crash_reserve.c  \t\t  ['crash_reserve.c'] \t ['.c']\n",
      "cred.c  \t\t  ['cred.c'] \t ['.c']\n",
      "debug  \t\t  [] \t []\n",
      "delayacct.c  \t\t  ['delayacct.c'] \t ['.c']\n",
      "dma  \t\t  [] \t []\n",
      "dma.c  \t\t  ['dma.c'] \t ['.c']\n",
      "elfcorehdr.c  \t\t  ['elfcorehdr.c'] \t ['.c']\n",
      "entry  \t\t  [] \t []\n",
      "events  \t\t  [] \t []\n",
      "exec_domain.c  \t\t  ['exec_domain.c'] \t ['.c']\n",
      "exit.c  \t\t  ['exit.c'] \t ['.c']\n",
      "exit.h  \t\t  ['exit.h'] \t ['.h']\n",
      "extable.c  \t\t  ['extable.c'] \t ['.c']\n",
      "fail_function.c  \t\t  ['fail_function.c'] \t ['.c']\n",
      "fork.c  \t\t  ['fork.c'] \t ['.c']\n",
      "freezer.c  \t\t  ['freezer.c'] \t ['.c']\n",
      "futex  \t\t  [] \t []\n",
      "gcov  \t\t  [] \t []\n",
      "gen_kheaders.sh  \t\t  ['gen_kheaders.sh'] \t ['.sh']\n",
      "groups.c  \t\t  ['groups.c'] \t ['.c']\n",
      "hung_task.c  \t\t  ['hung_task.c'] \t ['.c']\n",
      "iomem.c  \t\t  ['iomem.c'] \t ['.c']\n",
      "irq  \t\t  [] \t []\n",
      "irq_work.c  \t\t  ['irq_work.c'] \t ['.c']\n",
      "jump_label.c  \t\t  ['jump_label.c'] \t ['.c']\n",
      "kallsyms.c  \t\t  ['kallsyms.c'] \t ['.c']\n",
      "kallsyms_internal.h  \t\t  ['kallsyms_internal.h'] \t ['.h']\n"
     ]
    }
   ],
   "source": [
    "# jeśli te 2 sprawdzenia dają 0 to znaczy ze to jest folder\n",
    "# tak najprosciej\n",
    "_tmp_dirs = []\n",
    "for k in os.listdir(path2)[:50]:\n",
    "    print(k, \" \\t\\t \" , re.findall(r'(\\w+[.]\\w+)', k), \"\\t\", re.findall(r'([.]\\w+)', k))\n",
    "    if len(re.findall(r'(\\w+[.]\\w+)', k))==0 and len(re.findall(r'([.]\\w+)', k))==0:\n",
    "        _tmp_dirs.append(k)"
   ]
  },
  {
   "cell_type": "code",
   "execution_count": 95,
   "id": "ef74fa79-66b1-4925-8da3-4b3676450357",
   "metadata": {},
   "outputs": [
    {
     "data": {
      "text/plain": [
       "['bpf',\n",
       " 'cgroup',\n",
       " 'configs',\n",
       " 'debug',\n",
       " 'dma',\n",
       " 'entry',\n",
       " 'events',\n",
       " 'futex',\n",
       " 'gcov',\n",
       " 'irq']"
      ]
     },
     "execution_count": 95,
     "metadata": {},
     "output_type": "execute_result"
    }
   ],
   "source": [
    "_tmp_dirs"
   ]
  },
  {
   "cell_type": "code",
   "execution_count": 96,
   "id": "574db81b-b164-4c51-a405-33e580052db5",
   "metadata": {},
   "outputs": [],
   "source": [
    "# dla calego folderu /kernel"
   ]
  },
  {
   "cell_type": "code",
   "execution_count": 100,
   "id": "51e877cf-7288-4792-b59a-40ec0e8c57fc",
   "metadata": {},
   "outputs": [
    {
     "name": "stdout",
     "output_type": "stream",
     "text": [
      "['bpf', 'cgroup', 'configs', 'debug', 'dma', 'entry', 'events', 'futex', 'gcov', 'irq', 'kcsan', 'livepatch', 'locking', 'module', 'power', 'printk', 'rcu', 'sched', 'time', 'trace']\n"
     ]
    }
   ],
   "source": [
    "_tmp_dirs = []\n",
    "for k in os.listdir(path2)[:]:\n",
    "    #print(k, \" \\t\\t \" , re.findall(r'(\\w+[.]\\w+)', k), \"\\t\", re.findall(r'([.]\\w+)', k))\n",
    "    if len(re.findall(r'(\\w+[.]\\w+)', k))==0 and len(re.findall(r'([.]\\w+)', k))==0 and k!=\"Makefile\":\n",
    "        _tmp_dirs.append(k)\n",
    "print(_tmp_dirs)"
   ]
  },
  {
   "cell_type": "code",
   "execution_count": 101,
   "id": "6eb77db4-51a1-4ef8-8f83-f474be6c55f2",
   "metadata": {},
   "outputs": [
    {
     "data": {
      "text/plain": [
       "20"
      ]
     },
     "execution_count": 101,
     "metadata": {},
     "output_type": "execute_result"
    }
   ],
   "source": [
    "len(_tmp_dirs)"
   ]
  },
  {
   "cell_type": "code",
   "execution_count": 102,
   "id": "e35155bf-0637-4fcd-a3f1-9120f45bc4db",
   "metadata": {},
   "outputs": [],
   "source": [
    "_second_branch_kernel = []\n",
    "for i in _tmp_dirs:\n",
    "    _second_branch_kernel.append(path2 + \"\\\\\" + i)"
   ]
  },
  {
   "cell_type": "code",
   "execution_count": null,
   "id": "da60d1b7-4d27-4464-bf1e-51270c3881f7",
   "metadata": {},
   "outputs": [],
   "source": [
    "_second_branch_kernel"
   ]
  },
  {
   "cell_type": "code",
   "execution_count": null,
   "id": "0f109a81-b106-405b-b3e6-92524e2977d6",
   "metadata": {},
   "outputs": [],
   "source": []
  },
  {
   "cell_type": "code",
   "execution_count": null,
   "id": "24683ddb-cf31-4e7c-b4b7-c51362b71441",
   "metadata": {},
   "outputs": [],
   "source": []
  },
  {
   "cell_type": "code",
   "execution_count": 105,
   "id": "0a67b567-2cf4-4304-8c8d-9b2af5b105cf",
   "metadata": {},
   "outputs": [],
   "source": [
    "# ok split together all\n",
    "# zaczynam w katalogu glowny repo"
   ]
  },
  {
   "cell_type": "code",
   "execution_count": 112,
   "id": "515fb208-379a-45d9-b406-d4b1195341e9",
   "metadata": {},
   "outputs": [],
   "source": [
    "path3 = \"C:\\\\Users\\\\{username}\\\\Documents\\\\progs\\\\__bin\\\\TRAINING_DATA_SAMPLE\\\\linux-master\\\\linux-master\""
   ]
  },
  {
   "cell_type": "code",
   "execution_count": 113,
   "id": "a153775a-ff82-4b0f-99a1-6a411a4365c8",
   "metadata": {},
   "outputs": [
    {
     "name": "stdout",
     "output_type": "stream",
     "text": [
      "['arch', 'block', 'certs', 'COPYING', 'CREDITS', 'crypto', 'Documentation', 'drivers', 'fs', 'include', 'init', 'io_uring', 'ipc', 'Kbuild', 'Kconfig', 'kernel', 'lib', 'LICENSES', 'MAINTAINERS', 'mm', 'net', 'README', 'rust', 'samples', 'scripts', 'security', 'sound', 'tools', 'usr', 'virt']\n"
     ]
    }
   ],
   "source": [
    "_tmp_dirs = []\n",
    "for k in os.listdir(path3)[:]:\n",
    "    #print(k, \" \\t\\t \" , re.findall(r'(\\w+[.]\\w+)', k), \"\\t\", re.findall(r'([.]\\w+)', k))\n",
    "    if len(re.findall(r'(\\w+[.]\\w+)', k))==0 and len(re.findall(r'([.]\\w+)', k))==0 and k!=\"Makefile\":\n",
    "        _tmp_dirs.append(k)\n",
    "print(_tmp_dirs)"
   ]
  },
  {
   "cell_type": "code",
   "execution_count": 114,
   "id": "dc852a6d-c831-42b0-bdb5-ee1bcd903201",
   "metadata": {},
   "outputs": [],
   "source": [
    "_second_branch_ = []\n",
    "for i in _tmp_dirs:\n",
    "    _second_branch_.append(path3 + \"\\\\\" + i)"
   ]
  },
  {
   "cell_type": "code",
   "execution_count": null,
   "id": "9c69df5a-f345-416c-8d05-36a6ed28e8bf",
   "metadata": {},
   "outputs": [],
   "source": [
    "_second_branch_"
   ]
  },
  {
   "cell_type": "code",
   "execution_count": 116,
   "id": "74177fb1-1a48-4f5a-bad5-d94596165ab0",
   "metadata": {},
   "outputs": [],
   "source": [
    "# 30-06-2024 - 6:05 - Jeszcze przemyślę to na dniach. Na razie tyle. bo nie wiem w sumie.\n",
    "# ale góra jest ok tzn żeby otwierać plik i pozbywać się komentarzy"
   ]
  },
  {
   "cell_type": "code",
   "execution_count": null,
   "id": "c5fdb32e-9361-4734-ae9d-61f84ac2eec5",
   "metadata": {},
   "outputs": [],
   "source": []
  },
  {
   "cell_type": "code",
   "execution_count": 117,
   "id": "ecb03dca-7465-4050-95a6-51379fd6aaff",
   "metadata": {},
   "outputs": [],
   "source": [
    "# C:\\Users\\kdhome\\Documents\\progs\\__bin\\TRAINING_DATA_SAMPLE\\linux-master\\linux-master\\arch\\x86\\boot"
   ]
  },
  {
   "cell_type": "code",
   "execution_count": 127,
   "id": "5c4eba55-70d7-40b3-aa1b-45364bae487d",
   "metadata": {},
   "outputs": [],
   "source": [
    "_file_name = \"memory.c\"\n",
    "#_curr_dir_path = str(\"C:\\Users\\kdhome\\Documents\\progs\\__bin\\TRAINING_DATA_SAMPLE\\linux-master\\linux-master\\arch\\x86\\boot\")"
   ]
  },
  {
   "cell_type": "code",
   "execution_count": 123,
   "id": "5e00d74d-a29b-4687-bb25-a4da320bf214",
   "metadata": {},
   "outputs": [
    {
     "name": "stdout",
     "output_type": "stream",
     "text": [
      "123\n"
     ]
    }
   ],
   "source": [
    "f = open(\"C:\\\\Users\\\\{username}\\\\Documents\\\\progs\\\\__bin\\\\TRAINING_DATA_SAMPLE\\\\linux-master\\\\linux-master\\\\arch\\\\x86\\\\boot\\\\\" + _file_name, \"r\")\n",
    "lines = f.readlines()\n",
    "print(len(lines))"
   ]
  },
  {
   "cell_type": "code",
   "execution_count": 124,
   "id": "2aad1494-28fe-4934-9444-219d425a2afd",
   "metadata": {},
   "outputs": [],
   "source": [
    "patterns = [\"//\", \"/*\", \" *\", \"*/\"]\n",
    "tmp = \"\"\n",
    "_add_line_acc = False\n",
    "_match_pattern = 0\n",
    "buf_new_lines = []\n",
    "for i in  lines[:500]:\n",
    "    _match_pattern = 0;\n",
    "    #print(len(i))\n",
    "    tmp = i[:2]\n",
    "    for j in patterns:\n",
    "        #print( \" test \", (tmp == j))\n",
    "        if (tmp == j) == True:\n",
    "            _match_pattern = 1\n",
    "    if _match_pattern == 1:\n",
    "        _add_line_acc = False # do nothing\n",
    "        #print( \" match \", i)\n",
    "        # tutaj skipuje linie\n",
    "    else:\n",
    "        _add_line_acc = True # do nothing\n",
    "        #print( \" not mach \", i)\n",
    "        # tutaj dodawaj linie\n",
    "        buf_new_lines.append(i)\n",
    "    #print(re.search(\"//\", i))\n",
    "    #print(re.search(\"^[/*]\", i))\n",
    "    #for j in i:\n",
    "     #   print(j)"
   ]
  },
  {
   "cell_type": "code",
   "execution_count": 128,
   "id": "31a5f4d8-9960-4f54-af5f-3b503a8ba152",
   "metadata": {},
   "outputs": [],
   "source": [
    "f_new = open(\"C:\\\\Users\\\\{username}\\\\Documents\\\\progs\\\\__bin\\\\TRAINING_DATA_SAMPLE\\\\tmp\\\\memory_copy.c\", \"w\")"
   ]
  },
  {
   "cell_type": "code",
   "execution_count": 129,
   "id": "0da879aa-214d-4e6e-afa0-711d7ae66381",
   "metadata": {},
   "outputs": [],
   "source": [
    "for line in buf_new_lines:\n",
    "    f_new.write(line)\n",
    "f_new.close()"
   ]
  },
  {
   "cell_type": "code",
   "execution_count": null,
   "id": "afac60ab-8bc9-487f-a855-f383328e48cd",
   "metadata": {},
   "outputs": [],
   "source": []
  },
  {
   "cell_type": "code",
   "execution_count": null,
   "id": "3c4e28d3-adab-4090-9741-c3942fa4b21d",
   "metadata": {},
   "outputs": [],
   "source": []
  },
  {
   "cell_type": "code",
   "execution_count": 1,
   "id": "782a97e5-8d2e-4bae-860f-2a138e8b0036",
   "metadata": {},
   "outputs": [],
   "source": [
    "############"
   ]
  },
  {
   "cell_type": "code",
   "execution_count": 1,
   "id": "23da1d64-8951-4775-a4ad-1239abf0defa",
   "metadata": {},
   "outputs": [],
   "source": [
    "import tiktoken"
   ]
  },
  {
   "cell_type": "code",
   "execution_count": 2,
   "id": "e236688d-9469-4d89-b398-41a71fe24a88",
   "metadata": {},
   "outputs": [],
   "source": [
    "path4 = \"C:\\\\Users\\\\{username}\\\\Documents\\\\progs\\\\__bin\\\\TRAINING_DATA_SAMPLE\\\\linux-master\\\\linux-master\\\\drivers\\\\acpi\\\\scan.c\""
   ]
  },
  {
   "cell_type": "code",
   "execution_count": 3,
   "id": "84443c8d-3a36-4810-88ae-0a49f10b6d6e",
   "metadata": {},
   "outputs": [],
   "source": [
    "f = open(path4, \"r\")\n",
    "lines = f.readlines()"
   ]
  },
  {
   "cell_type": "code",
   "execution_count": 44,
   "id": "e9b2683c-d568-4d2d-af4d-765562272e04",
   "metadata": {},
   "outputs": [
    {
     "data": {
      "text/plain": [
       "['// SPDX-License-Identifier: GPL-2.0-only\\n',\n",
       " '/*\\n',\n",
       " ' * scan.c - support for transforming the ACPI namespace into individual objects\\n',\n",
       " ' */\\n',\n",
       " '\\n',\n",
       " '#define pr_fmt(fmt) \"ACPI: \" fmt\\n',\n",
       " '\\n',\n",
       " '#include <linux/module.h>\\n',\n",
       " '#include <linux/init.h>\\n',\n",
       " '#include <linux/slab.h>\\n',\n",
       " '#include <linux/kernel.h>\\n',\n",
       " '#include <linux/acpi.h>\\n',\n",
       " '#include <linux/acpi_iort.h>\\n',\n",
       " '#include <linux/acpi_viot.h>\\n',\n",
       " '#include <linux/iommu.h>\\n',\n",
       " '#include <linux/signal.h>\\n',\n",
       " '#include <linux/kthread.h>\\n',\n",
       " '#include <linux/dmi.h>\\n',\n",
       " '#include <linux/dma-map-ops.h>\\n',\n",
       " '#include <linux/platform_data/x86/apple.h>\\n',\n",
       " '#include <linux/pgtable.h>\\n',\n",
       " '#include <linux/crc32.h>\\n',\n",
       " '#include <linux/dma-direct.h>\\n',\n",
       " '\\n',\n",
       " '#include \"internal.h\"\\n',\n",
       " '#include \"sleep.h\"\\n',\n",
       " '\\n',\n",
       " '#define ACPI_BUS_CLASS\\t\\t\\t\"system_bus\"\\n',\n",
       " '#define ACPI_BUS_HID\\t\\t\\t\"LNXSYBUS\"\\n',\n",
       " '#define ACPI_BUS_DEVICE_NAME\\t\\t\"System Bus\"\\n',\n",
       " '\\n',\n",
       " '#define INVALID_ACPI_HANDLE\\t((acpi_handle)ZERO_PAGE(0))\\n',\n",
       " '\\n',\n",
       " 'static const char *dummy_hid = \"device\";\\n',\n",
       " '\\n',\n",
       " 'static LIST_HEAD(acpi_dep_list);\\n',\n",
       " 'static DEFINE_MUTEX(acpi_dep_list_lock);\\n',\n",
       " 'LIST_HEAD(acpi_bus_id_list);\\n',\n",
       " 'static DEFINE_MUTEX(acpi_scan_lock);\\n',\n",
       " 'static LIST_HEAD(acpi_scan_handlers_list);\\n',\n",
       " 'DEFINE_MUTEX(acpi_device_lock);\\n',\n",
       " 'LIST_HEAD(acpi_wakeup_device_list);\\n',\n",
       " 'static DEFINE_MUTEX(acpi_hp_context_lock);\\n',\n",
       " '\\n',\n",
       " '/*\\n',\n",
       " ' * The UART device described by the SPCR table is the only object which needs\\n',\n",
       " ' * special-casing. Everything else is covered by ACPI namespace paths in STAO\\n',\n",
       " ' * table.\\n',\n",
       " ' */\\n',\n",
       " 'static u64 spcr_uart_addr;\\n',\n",
       " '\\n',\n",
       " 'void acpi_scan_lock_acquire(void)\\n',\n",
       " '{\\n',\n",
       " '\\tmutex_lock(&acpi_scan_lock);\\n',\n",
       " '}\\n',\n",
       " 'EXPORT_SYMBOL_GPL(acpi_scan_lock_acquire);\\n',\n",
       " '\\n',\n",
       " 'void acpi_scan_lock_release(void)\\n',\n",
       " '{\\n',\n",
       " '\\tmutex_unlock(&acpi_scan_lock);\\n',\n",
       " '}\\n',\n",
       " 'EXPORT_SYMBOL_GPL(acpi_scan_lock_release);\\n',\n",
       " '\\n',\n",
       " 'void acpi_lock_hp_context(void)\\n',\n",
       " '{\\n',\n",
       " '\\tmutex_lock(&acpi_hp_context_lock);\\n',\n",
       " '}\\n',\n",
       " '\\n',\n",
       " 'void acpi_unlock_hp_context(void)\\n',\n",
       " '{\\n',\n",
       " '\\tmutex_unlock(&acpi_hp_context_lock);\\n',\n",
       " '}\\n',\n",
       " '\\n',\n",
       " 'void acpi_initialize_hp_context(struct acpi_device *adev,\\n',\n",
       " '\\t\\t\\t\\tstruct acpi_hotplug_context *hp,\\n',\n",
       " '\\t\\t\\t\\tacpi_hp_notify notify, acpi_hp_uevent uevent)\\n',\n",
       " '{\\n',\n",
       " '\\tacpi_lock_hp_context();\\n',\n",
       " '\\thp->notify = notify;\\n',\n",
       " '\\thp->uevent = uevent;\\n',\n",
       " '\\tacpi_set_hp_context(adev, hp);\\n',\n",
       " '\\tacpi_unlock_hp_context();\\n',\n",
       " '}\\n',\n",
       " 'EXPORT_SYMBOL_GPL(acpi_initialize_hp_context);\\n',\n",
       " '\\n',\n",
       " 'int acpi_scan_add_handler(struct acpi_scan_handler *handler)\\n',\n",
       " '{\\n',\n",
       " '\\tif (!handler)\\n',\n",
       " '\\t\\treturn -EINVAL;\\n',\n",
       " '\\n',\n",
       " '\\tlist_add_tail(&handler->list_node, &acpi_scan_handlers_list);\\n',\n",
       " '\\treturn 0;\\n',\n",
       " '}\\n',\n",
       " '\\n',\n",
       " 'int acpi_scan_add_handler_with_hotplug(struct acpi_scan_handler *handler,\\n',\n",
       " '\\t\\t\\t\\t       const char *hotplug_profile_name)\\n',\n",
       " '{\\n',\n",
       " '\\tint error;\\n',\n",
       " '\\n',\n",
       " '\\terror = acpi_scan_add_handler(handler);\\n',\n",
       " '\\tif (error)\\n',\n",
       " '\\t\\treturn error;\\n',\n",
       " '\\n',\n",
       " '\\tacpi_sysfs_add_hotplug_profile(&handler->hotplug, hotplug_profile_name);\\n',\n",
       " '\\treturn 0;\\n',\n",
       " '}\\n',\n",
       " '\\n',\n",
       " 'bool acpi_scan_is_offline(struct acpi_device *adev, bool uevent)\\n',\n",
       " '{\\n',\n",
       " '\\tstruct acpi_device_physical_node *pn;\\n',\n",
       " '\\tbool offline = true;\\n',\n",
       " '\\tchar *envp[] = { \"EVENT=offline\", NULL };\\n',\n",
       " '\\n',\n",
       " '\\t/*\\n',\n",
       " \"\\t * acpi_container_offline() calls this for all of the container's\\n\",\n",
       " \"\\t * children under the container's physical_node_lock lock.\\n\",\n",
       " '\\t */\\n',\n",
       " '\\tmutex_lock_nested(&adev->physical_node_lock, SINGLE_DEPTH_NESTING);\\n',\n",
       " '\\n',\n",
       " '\\tlist_for_each_entry(pn, &adev->physical_node_list, node)\\n',\n",
       " '\\t\\tif (device_supports_offline(pn->dev) && !pn->dev->offline) {\\n',\n",
       " '\\t\\t\\tif (uevent)\\n',\n",
       " '\\t\\t\\t\\tkobject_uevent_env(&pn->dev->kobj, KOBJ_CHANGE, envp);\\n',\n",
       " '\\n',\n",
       " '\\t\\t\\toffline = false;\\n',\n",
       " '\\t\\t\\tbreak;\\n',\n",
       " '\\t\\t}\\n',\n",
       " '\\n',\n",
       " '\\tmutex_unlock(&adev->physical_node_lock);\\n',\n",
       " '\\treturn offline;\\n',\n",
       " '}\\n',\n",
       " '\\n',\n",
       " 'static acpi_status acpi_bus_offline(acpi_handle handle, u32 lvl, void *data,\\n',\n",
       " '\\t\\t\\t\\t    void **ret_p)\\n',\n",
       " '{\\n',\n",
       " '\\tstruct acpi_device *device = acpi_fetch_acpi_dev(handle);\\n',\n",
       " '\\tstruct acpi_device_physical_node *pn;\\n',\n",
       " '\\tbool second_pass = (bool)data;\\n',\n",
       " '\\tacpi_status status = AE_OK;\\n',\n",
       " '\\n',\n",
       " '\\tif (!device)\\n',\n",
       " '\\t\\treturn AE_OK;\\n',\n",
       " '\\n',\n",
       " '\\tif (device->handler && !device->handler->hotplug.enabled) {\\n',\n",
       " '\\t\\t*ret_p = &device->dev;\\n',\n",
       " '\\t\\treturn AE_SUPPORT;\\n',\n",
       " '\\t}\\n',\n",
       " '\\n',\n",
       " '\\tmutex_lock(&device->physical_node_lock);\\n',\n",
       " '\\n',\n",
       " '\\tlist_for_each_entry(pn, &device->physical_node_list, node) {\\n',\n",
       " '\\t\\tint ret;\\n',\n",
       " '\\n',\n",
       " '\\t\\tif (second_pass) {\\n',\n",
       " '\\t\\t\\t/* Skip devices offlined by the first pass. */\\n',\n",
       " '\\t\\t\\tif (pn->put_online)\\n',\n",
       " '\\t\\t\\t\\tcontinue;\\n',\n",
       " '\\t\\t} else {\\n',\n",
       " '\\t\\t\\tpn->put_online = false;\\n',\n",
       " '\\t\\t}\\n',\n",
       " '\\t\\tret = device_offline(pn->dev);\\n',\n",
       " '\\t\\tif (ret >= 0) {\\n',\n",
       " '\\t\\t\\tpn->put_online = !ret;\\n',\n",
       " '\\t\\t} else {\\n',\n",
       " '\\t\\t\\t*ret_p = pn->dev;\\n',\n",
       " '\\t\\t\\tif (second_pass) {\\n',\n",
       " '\\t\\t\\t\\tstatus = AE_ERROR;\\n',\n",
       " '\\t\\t\\t\\tbreak;\\n',\n",
       " '\\t\\t\\t}\\n',\n",
       " '\\t\\t}\\n',\n",
       " '\\t}\\n',\n",
       " '\\n',\n",
       " '\\tmutex_unlock(&device->physical_node_lock);\\n',\n",
       " '\\n',\n",
       " '\\treturn status;\\n',\n",
       " '}\\n',\n",
       " '\\n',\n",
       " 'static acpi_status acpi_bus_online(acpi_handle handle, u32 lvl, void *data,\\n',\n",
       " '\\t\\t\\t\\t   void **ret_p)\\n',\n",
       " '{\\n',\n",
       " '\\tstruct acpi_device *device = acpi_fetch_acpi_dev(handle);\\n',\n",
       " '\\tstruct acpi_device_physical_node *pn;\\n',\n",
       " '\\n',\n",
       " '\\tif (!device)\\n',\n",
       " '\\t\\treturn AE_OK;\\n',\n",
       " '\\n',\n",
       " '\\tmutex_lock(&device->physical_node_lock);\\n',\n",
       " '\\n',\n",
       " '\\tlist_for_each_entry(pn, &device->physical_node_list, node)\\n',\n",
       " '\\t\\tif (pn->put_online) {\\n',\n",
       " '\\t\\t\\tdevice_online(pn->dev);\\n',\n",
       " '\\t\\t\\tpn->put_online = false;\\n',\n",
       " '\\t\\t}\\n',\n",
       " '\\n',\n",
       " '\\tmutex_unlock(&device->physical_node_lock);\\n',\n",
       " '\\n',\n",
       " '\\treturn AE_OK;\\n',\n",
       " '}\\n',\n",
       " '\\n',\n",
       " 'static int acpi_scan_try_to_offline(struct acpi_device *device)\\n']"
      ]
     },
     "execution_count": 44,
     "metadata": {},
     "output_type": "execute_result"
    }
   ],
   "source": [
    "lines[:200]"
   ]
  },
  {
   "cell_type": "code",
   "execution_count": 26,
   "id": "7e829f5a-7559-4c8c-817b-ad9f2ae8d004",
   "metadata": {},
   "outputs": [],
   "source": [
    "tmp_str = \"\"\n",
    "for i in lines[:200]:\n",
    "    tmp_str += i"
   ]
  },
  {
   "cell_type": "code",
   "execution_count": 27,
   "id": "94cc9ac5-b88c-4528-8e0a-1b5c4fc06059",
   "metadata": {},
   "outputs": [
    {
     "data": {
      "text/plain": [
       "'// SPDX-License-Identifier: GPL-2.0-only\\n/*\\n * scan.c - support for transforming the ACPI namespace into individual objects\\n */\\n\\n#define pr_fmt(fmt) \"ACPI: \" fmt\\n\\n#include <linux/module.h>\\n#include <linux/init.h>\\n#include <linux/slab.h>\\n#include <linux/kernel.h>\\n#include <linux/acpi.h>\\n#include <linux/acpi_iort.h>\\n#include <linux/acpi_viot.h>\\n#include <linux/iommu.h>\\n#include <linux/signal.h>\\n#include <linux/kthread.h>\\n#include <linux/dmi.h>\\n#include <linux/dma-map-ops.h>\\n#include <linux/platform_data/x86/apple.h>\\n#include <linux/pgtable.h>\\n#include <linux/crc32.h>\\n#include <linux/dma-direct.h>\\n\\n#include \"internal.h\"\\n#include \"sleep.h\"\\n\\n#define ACPI_BUS_CLASS\\t\\t\\t\"system_bus\"\\n#define ACPI_BUS_HID\\t\\t\\t\"LNXSYBUS\"\\n#define ACPI_BUS_DEVICE_NAME\\t\\t\"System Bus\"\\n\\n#define INVALID_ACPI_HANDLE\\t((acpi_handle)ZERO_PAGE(0))\\n\\nstatic const char *dummy_hid = \"device\";\\n\\nstatic LIST_HEAD(acpi_dep_list);\\nstatic DEFINE_MUTEX(acpi_dep_list_lock);\\nLIST_HEAD(acpi_bus_id_list);\\nstatic DEFINE_MUTEX(acpi_scan_lock);\\nstatic LIST_HEAD(acpi_scan_handlers_list);\\nDEFINE_MUTEX(acpi_device_lock);\\nLIST_HEAD(acpi_wakeup_device_list);\\nstatic DEFINE_MUTEX(acpi_hp_context_lock);\\n\\n/*\\n * The UART device described by the SPCR table is the only object which needs\\n * special-casing. Everything else is covered by ACPI namespace paths in STAO\\n * table.\\n */\\nstatic u64 spcr_uart_addr;\\n\\nvoid acpi_scan_lock_acquire(void)\\n{\\n\\tmutex_lock(&acpi_scan_lock);\\n}\\nEXPORT_SYMBOL_GPL(acpi_scan_lock_acquire);\\n\\nvoid acpi_scan_lock_release(void)\\n{\\n\\tmutex_unlock(&acpi_scan_lock);\\n}\\nEXPORT_SYMBOL_GPL(acpi_scan_lock_release);\\n\\nvoid acpi_lock_hp_context(void)\\n{\\n\\tmutex_lock(&acpi_hp_context_lock);\\n}\\n\\nvoid acpi_unlock_hp_context(void)\\n{\\n\\tmutex_unlock(&acpi_hp_context_lock);\\n}\\n\\nvoid acpi_initialize_hp_context(struct acpi_device *adev,\\n\\t\\t\\t\\tstruct acpi_hotplug_context *hp,\\n\\t\\t\\t\\tacpi_hp_notify notify, acpi_hp_uevent uevent)\\n{\\n\\tacpi_lock_hp_context();\\n\\thp->notify = notify;\\n\\thp->uevent = uevent;\\n\\tacpi_set_hp_context(adev, hp);\\n\\tacpi_unlock_hp_context();\\n}\\nEXPORT_SYMBOL_GPL(acpi_initialize_hp_context);\\n\\nint acpi_scan_add_handler(struct acpi_scan_handler *handler)\\n{\\n\\tif (!handler)\\n\\t\\treturn -EINVAL;\\n\\n\\tlist_add_tail(&handler->list_node, &acpi_scan_handlers_list);\\n\\treturn 0;\\n}\\n\\nint acpi_scan_add_handler_with_hotplug(struct acpi_scan_handler *handler,\\n\\t\\t\\t\\t       const char *hotplug_profile_name)\\n{\\n\\tint error;\\n\\n\\terror = acpi_scan_add_handler(handler);\\n\\tif (error)\\n\\t\\treturn error;\\n\\n\\tacpi_sysfs_add_hotplug_profile(&handler->hotplug, hotplug_profile_name);\\n\\treturn 0;\\n}\\n\\nbool acpi_scan_is_offline(struct acpi_device *adev, bool uevent)\\n{\\n\\tstruct acpi_device_physical_node *pn;\\n\\tbool offline = true;\\n\\tchar *envp[] = { \"EVENT=offline\", NULL };\\n\\n\\t/*\\n\\t * acpi_container_offline() calls this for all of the container\\'s\\n\\t * children under the container\\'s physical_node_lock lock.\\n\\t */\\n\\tmutex_lock_nested(&adev->physical_node_lock, SINGLE_DEPTH_NESTING);\\n\\n\\tlist_for_each_entry(pn, &adev->physical_node_list, node)\\n\\t\\tif (device_supports_offline(pn->dev) && !pn->dev->offline) {\\n\\t\\t\\tif (uevent)\\n\\t\\t\\t\\tkobject_uevent_env(&pn->dev->kobj, KOBJ_CHANGE, envp);\\n\\n\\t\\t\\toffline = false;\\n\\t\\t\\tbreak;\\n\\t\\t}\\n\\n\\tmutex_unlock(&adev->physical_node_lock);\\n\\treturn offline;\\n}\\n\\nstatic acpi_status acpi_bus_offline(acpi_handle handle, u32 lvl, void *data,\\n\\t\\t\\t\\t    void **ret_p)\\n{\\n\\tstruct acpi_device *device = acpi_fetch_acpi_dev(handle);\\n\\tstruct acpi_device_physical_node *pn;\\n\\tbool second_pass = (bool)data;\\n\\tacpi_status status = AE_OK;\\n\\n\\tif (!device)\\n\\t\\treturn AE_OK;\\n\\n\\tif (device->handler && !device->handler->hotplug.enabled) {\\n\\t\\t*ret_p = &device->dev;\\n\\t\\treturn AE_SUPPORT;\\n\\t}\\n\\n\\tmutex_lock(&device->physical_node_lock);\\n\\n\\tlist_for_each_entry(pn, &device->physical_node_list, node) {\\n\\t\\tint ret;\\n\\n\\t\\tif (second_pass) {\\n\\t\\t\\t/* Skip devices offlined by the first pass. */\\n\\t\\t\\tif (pn->put_online)\\n\\t\\t\\t\\tcontinue;\\n\\t\\t} else {\\n\\t\\t\\tpn->put_online = false;\\n\\t\\t}\\n\\t\\tret = device_offline(pn->dev);\\n\\t\\tif (ret >= 0) {\\n\\t\\t\\tpn->put_online = !ret;\\n\\t\\t} else {\\n\\t\\t\\t*ret_p = pn->dev;\\n\\t\\t\\tif (second_pass) {\\n\\t\\t\\t\\tstatus = AE_ERROR;\\n\\t\\t\\t\\tbreak;\\n\\t\\t\\t}\\n\\t\\t}\\n\\t}\\n\\n\\tmutex_unlock(&device->physical_node_lock);\\n\\n\\treturn status;\\n}\\n\\nstatic acpi_status acpi_bus_online(acpi_handle handle, u32 lvl, void *data,\\n\\t\\t\\t\\t   void **ret_p)\\n{\\n\\tstruct acpi_device *device = acpi_fetch_acpi_dev(handle);\\n\\tstruct acpi_device_physical_node *pn;\\n\\n\\tif (!device)\\n\\t\\treturn AE_OK;\\n\\n\\tmutex_lock(&device->physical_node_lock);\\n\\n\\tlist_for_each_entry(pn, &device->physical_node_list, node)\\n\\t\\tif (pn->put_online) {\\n\\t\\t\\tdevice_online(pn->dev);\\n\\t\\t\\tpn->put_online = false;\\n\\t\\t}\\n\\n\\tmutex_unlock(&device->physical_node_lock);\\n\\n\\treturn AE_OK;\\n}\\n\\nstatic int acpi_scan_try_to_offline(struct acpi_device *device)\\n'"
      ]
     },
     "execution_count": 27,
     "metadata": {},
     "output_type": "execute_result"
    }
   ],
   "source": [
    "tmp_str"
   ]
  },
  {
   "cell_type": "code",
   "execution_count": 28,
   "id": "3998e6a5-1854-410c-9f5d-4a9ab2b86363",
   "metadata": {},
   "outputs": [],
   "source": [
    "encoding = tiktoken.encoding_for_model('gpt-3.5-turbo')"
   ]
  },
  {
   "cell_type": "code",
   "execution_count": 29,
   "id": "947d9321-03ce-4318-8394-740df8e5c882",
   "metadata": {},
   "outputs": [
    {
     "name": "stdout",
     "output_type": "stream",
     "text": [
      "{2048, 1, 92164, 7, 8, 9, 4106, 11, 12, 13, 2062, 15, 17, 25, 28, 2083, 24611, 59443, 86080, 20553, 74, 77, 79, 2129, 82, 2132, 85, 20567, 6233, 92, 6239, 2146, 14441, 36972, 2160, 4218, 2171, 47229, 8318, 49285, 6294, 10393, 18586, 6302, 26803, 22714, 197, 198, 43208, 14544, 24787, 20696, 220, 26869, 26894, 271, 67859, 2325, 279, 280, 284, 26912, 298, 2347, 304, 314, 315, 39228, 316, 317, 26943, 98623, 320, 322, 2374, 328, 330, 4431, 340, 341, 49496, 345, 8540, 41311, 353, 2401, 63844, 361, 18794, 366, 368, 369, 371, 374, 33146, 82300, 14717, 4489, 396, 397, 401, 22929, 405, 10650, 29090, 420, 49578, 4522, 68014, 8634, 14779, 2494, 16843, 10701, 6608, 4573, 482, 16868, 20966, 18923, 498, 2554, 68094, 517, 522, 55819, 74256, 528, 4629, 534, 8737, 57889, 545, 550, 555, 573, 577, 578, 25153, 582, 47692, 596, 33369, 10847, 6753, 612, 10855, 2667, 2669, 623, 29297, 627, 629, 631, 633, 27258, 2704, 2707, 2712, 19111, 682, 688, 695, 702, 25278, 2754, 43722, 37579, 4813, 13006, 15060, 6880, 738, 740, 742, 748, 37614, 758, 11009, 775, 4878, 31506, 58137, 21280, 2861, 19268, 837, 49992, 843, 88913, 850, 851, 33623, 862, 9055, 2911, 870, 27503, 37754, 7037, 902, 905, 2962, 2971, 926, 76703, 9125, 70571, 2989, 7106, 33744, 15327, 993, 74730, 37873, 1019, 25596, 1022, 1024, 41989, 99334, 1037, 44048, 9255, 1074, 1075, 1085, 5192, 5194, 3146, 11345, 54383, 15472, 1139, 64629, 44150, 15479, 23699, 1176, 1181, 3239, 5288, 9385, 1193, 50358, 1209, 1227, 1234, 3303, 23794, 11512, 29957, 1292, 1310, 3361, 5409, 3364, 1318, 1319, 19756, 75056, 3382, 5431, 1363, 7539, 44404, 15744, 21888, 3470, 5529, 28064, 52646, 7602, 1467, 48574, 36291, 3529, 15820, 7633, 1493, 15829, 5593, 5595, 1522, 15868, 1533, 7715, 38449, 71218, 5686, 20030, 9793, 44624, 3667, 24148, 7766, 1635, 1638, 1645, 1665, 3718, 13965, 11926, 1704, 3756, 1735, 1741, 3790, 38612, 1753, 36571, 3806, 14051, 1764, 34533, 9960, 36586, 28394, 32490, 34573, 61198, 1807, 1808, 14108, 1824, 12066, 10019, 46890, 67379, 1845, 1862, 1875, 3927, 3933, 16226, 26492, 3966, 16258, 1932, 4015, 24516, 18388, 2007, 2020, 65534}\n"
     ]
    }
   ],
   "source": [
    "print(set(encoding.encode(tmp_str)))"
   ]
  },
  {
   "cell_type": "code",
   "execution_count": 30,
   "id": "887a96db-602c-465d-8553-0aa793377b10",
   "metadata": {},
   "outputs": [
    {
     "name": "stdout",
     "output_type": "stream",
     "text": [
      "[322, 36586, 37579, 37873, 25, 23794, 12, 17, 13, 15, 15744, 198, 3364, 353, 8737, 522, 482, 1862, 369, 46890, 279, 71218, 4573, 1139, 3927, 6302, 198, 2861, 1467, 550, 39228, 29297, 8, 330, 1741, 1932, 25, 330, 9055, 271, 1085, 366, 14544, 49285, 870, 397, 1085, 366, 14544, 44048, 870, 397, 1085, 366, 14544, 2754, 14717, 870, 397, 1085, 366, 14544, 59443, 870, 397, 1085, 366, 14544, 70571, 2554, 870, 397, 1085, 366, 14544, 70571, 2554, 5431, 371, 870, 397, 1085, 366, 14544, 70571, 2554, 2325, 11345, 870, 397, 1085, 366, 14544, 16843, 316, 15479, 870, 397, 1085, 366, 14544, 2754, 26803, 870, 397, 1085, 366, 14544, 14441, 4629, 870, 397, 1085, 366, 14544, 3529, 8318, 870, 397, 1085, 366, 14544, 3529, 1764, 26943, 12, 3806, 870, 397, 1085, 366, 14544, 28394, 1807, 11009, 4218, 76703, 870, 397, 1085, 366, 14544, 99334, 2048, 870, 397, 1085, 366, 14544, 2971, 1310, 843, 870, 397, 1085, 366, 14544, 3529, 1764, 44624, 870, 1363, 1085, 330, 10701, 870, 702, 1085, 330, 26894, 870, 1875, 1467, 71218, 34573, 14051, 298, 197, 1, 9125, 26492, 702, 1467, 71218, 34573, 2083, 926, 298, 197, 74730, 44404, 18923, 41311, 702, 1467, 71218, 34573, 18586, 4813, 197, 197, 1, 2374, 19111, 1875, 1467, 33369, 15868, 1932, 24611, 197, 1209, 582, 2554, 10855, 8, 75056, 20567, 7, 15, 4489, 2020, 738, 1181, 353, 32490, 88913, 284, 330, 6239, 3382, 2020, 28064, 29090, 49496, 2554, 50358, 2062, 317, 2020, 68014, 68094, 49496, 2554, 50358, 2062, 10019, 317, 23699, 29090, 49496, 2554, 26492, 851, 2062, 317, 2020, 68014, 68094, 49496, 2554, 29957, 10019, 317, 2020, 28064, 29090, 49496, 2554, 29957, 58137, 2062, 317, 36972, 68094, 49496, 2554, 9385, 10019, 317, 23699, 29090, 49496, 2554, 1704, 63844, 9385, 2062, 317, 2020, 68014, 68094, 49496, 2554, 49578, 8634, 10019, 629, 3364, 353, 578, 24148, 3756, 7633, 555, 279, 328, 74256, 2007, 374, 279, 1193, 1665, 902, 3966, 198, 353, 3361, 1824, 4522, 13, 20696, 775, 374, 9960, 555, 71218, 4573, 13006, 304, 4015, 19268, 198, 353, 2007, 627, 740, 2020, 577, 1227, 993, 5192, 57889, 7539, 401, 1019, 1645, 2554, 29957, 10019, 98623, 4431, 340, 517, 43722, 10019, 2146, 582, 2554, 29957, 10019, 317, 534, 31506, 24516, 2712, 2989, 49496, 2554, 29957, 10019, 98623, 629, 1019, 1645, 2554, 29957, 10019, 25596, 4431, 340, 517, 43722, 20030, 2146, 582, 2554, 29957, 10019, 317, 534, 31506, 24516, 2712, 2989, 49496, 2554, 29957, 10019, 25596, 629, 1019, 1645, 2554, 10019, 49578, 8634, 4431, 340, 517, 43722, 10019, 2146, 582, 2554, 49578, 8634, 10019, 317, 633, 1019, 1645, 2554, 20030, 49578, 8634, 4431, 340, 517, 43722, 20030, 2146, 582, 2554, 49578, 8634, 10019, 317, 633, 1019, 1645, 2554, 41989, 49578, 8634, 6294, 1645, 2554, 9385, 353, 1037, 85, 345, 573, 6608, 1645, 2554, 34533, 48574, 8634, 353, 21888, 345, 573, 82300, 2554, 49578, 37754, 15820, 11, 1645, 2554, 49578, 92164, 688, 61198, 688, 340, 517, 82300, 2554, 10019, 49578, 8634, 545, 9793, 79, 405, 22714, 284, 15820, 280, 9793, 79, 405, 361, 688, 284, 61198, 688, 280, 82300, 2554, 2667, 49578, 8634, 7, 1037, 85, 11, 21280, 317, 82300, 2554, 20030, 49578, 8634, 545, 534, 31506, 24516, 2712, 2989, 49496, 2554, 41989, 49578, 8634, 629, 396, 1645, 2554, 29957, 2962, 10393, 6294, 1645, 2554, 29957, 10393, 353, 18388, 340, 517, 748, 1533, 18388, 340, 197, 862, 482, 36291, 401, 14779, 2962, 36571, 2146, 18388, 405, 1638, 5194, 11, 612, 582, 2554, 29957, 58137, 2062, 317, 862, 220, 15, 280, 633, 396, 1645, 2554, 29957, 2962, 10393, 6753, 34533, 48574, 6294, 1645, 2554, 29957, 10393, 353, 18388, 345, 49992, 738, 1181, 353, 10847, 48574, 14108, 1292, 340, 517, 2129, 1493, 401, 18794, 284, 1645, 2554, 29957, 2962, 10393, 37614, 317, 748, 320, 850, 340, 197, 862, 1493, 401, 82300, 2554, 20966, 3933, 2962, 34533, 48574, 14108, 2146, 18388, 405, 10847, 48574, 11, 4106, 48574, 14108, 1292, 317, 862, 220, 15, 280, 633, 2707, 1645, 2554, 29957, 7037, 13965, 1074, 6294, 1645, 2554, 9385, 353, 1037, 85, 11, 1845, 61198, 688, 340, 517, 6608, 1645, 2554, 9385, 86080, 5194, 353, 20553, 280, 7715, 27258, 284, 837, 280, 7602, 353, 3239, 79, 1318, 284, 314, 330, 38449, 28, 64629, 498, 1808, 3718, 197, 3364, 197, 353, 1645, 2554, 16226, 13965, 1074, 368, 6880, 420, 369, 682, 315, 279, 5593, 596, 198, 197, 353, 2911, 1234, 279, 5593, 596, 7106, 5194, 10019, 5409, 627, 197, 740, 43722, 10019, 67379, 2146, 1037, 85, 405, 47692, 5194, 10019, 11, 67859, 33744, 1635, 5288, 1753, 629, 14779, 5595, 33146, 9255, 1319, 77, 11, 612, 1037, 85, 405, 47692, 5194, 2062, 11, 2494, 340, 197, 748, 320, 6239, 26912, 82, 13965, 1074, 1319, 77, 405, 3667, 8, 1024, 758, 20553, 405, 3667, 405, 64629, 8, 341, 298, 748, 320, 361, 688, 340, 573, 16868, 1735, 92164, 688, 16258, 2146, 20553, 405, 3667, 405, 74, 2347, 11, 38612, 15327, 33623, 11, 6233, 79, 629, 298, 197, 64629, 284, 905, 280, 298, 3470, 280, 197, 197, 633, 43722, 20030, 2146, 1037, 85, 405, 47692, 5194, 10019, 317, 862, 27258, 280, 633, 2020, 1645, 2554, 4878, 1645, 2554, 26492, 13965, 1074, 49496, 2554, 10855, 3790, 11, 577, 843, 47229, 11, 742, 353, 695, 345, 19756, 742, 3146, 2171, 623, 340, 517, 6608, 1645, 2554, 9385, 353, 6239, 284, 1645, 2554, 12066, 15060, 2554, 10650, 27503, 317, 6608, 1645, 2554, 9385, 86080, 5194, 353, 20553, 280, 7715, 2132, 15829, 284, 320, 2707, 65534, 280, 82300, 2554, 4878, 2704, 284, 43208, 8540, 401, 748, 1533, 6239, 340, 197, 862, 43208, 8540, 401, 748, 320, 6239, 405, 18388, 1024, 758, 6239, 405, 18388, 405, 10847, 48574, 22929, 8, 341, 197, 197, 9, 2171, 623, 284, 612, 6239, 405, 3667, 280, 197, 862, 43208, 25278, 280, 197, 633, 43722, 10019, 2146, 6239, 405, 47692, 5194, 10019, 629, 14779, 5595, 33146, 9255, 1319, 77, 11, 612, 6239, 405, 47692, 5194, 2062, 11, 2494, 8, 341, 197, 2129, 2160, 401, 197, 748, 320, 5686, 15829, 8, 341, 298, 197, 1075, 26869, 7766, 1022, 15472, 555, 279, 1176, 1522, 13, 740, 298, 748, 320, 20553, 405, 631, 52646, 340, 573, 11926, 280, 197, 197, 92, 775, 341, 298, 3303, 77, 405, 631, 52646, 284, 905, 280, 197, 197, 534, 197, 11512, 284, 3756, 13965, 1074, 1319, 77, 405, 3667, 317, 197, 748, 320, 2171, 2669, 220, 15, 8, 341, 298, 3303, 77, 405, 631, 52646, 284, 758, 2171, 280, 197, 197, 92, 775, 341, 298, 197, 9, 2171, 623, 284, 44150, 405, 3667, 280, 298, 748, 320, 5686, 15829, 8, 341, 573, 24787, 284, 43208, 5529, 280, 573, 3470, 280, 298, 197, 534, 197, 197, 534, 197, 633, 43722, 20030, 2146, 6239, 405, 47692, 5194, 10019, 629, 862, 2704, 280, 633, 2020, 1645, 2554, 4878, 1645, 2554, 26492, 52646, 49496, 2554, 10855, 3790, 11, 577, 843, 47229, 11, 742, 353, 695, 345, 25153, 742, 3146, 2171, 623, 340, 517, 6608, 1645, 2554, 9385, 353, 6239, 284, 1645, 2554, 12066, 15060, 2554, 10650, 27503, 317, 6608, 1645, 2554, 9385, 86080, 5194, 353, 20553, 401, 748, 1533, 6239, 340, 197, 862, 43208, 8540, 401, 43722, 10019, 2146, 6239, 405, 47692, 5194, 10019, 629, 14779, 5595, 33146, 9255, 1319, 77, 11, 612, 6239, 405, 47692, 5194, 2062, 11, 2494, 340, 197, 748, 320, 20553, 405, 631, 52646, 8, 341, 298, 55819, 52646, 1319, 77, 405, 3667, 317, 298, 3303, 77, 405, 631, 52646, 284, 905, 280, 197, 197, 633, 43722, 20030, 2146, 6239, 405, 47692, 5194, 10019, 629, 862, 43208, 8540, 280, 633, 2020, 528, 1645, 2554, 29957, 54383, 2401, 13965, 1074, 6294, 1645, 2554, 9385, 353, 6239, 340]\n"
     ]
    }
   ],
   "source": [
    "print(encoding.encode(tmp_str))"
   ]
  },
  {
   "cell_type": "code",
   "execution_count": 31,
   "id": "6f2ee32a-cfd7-4271-a36b-650e7a98e136",
   "metadata": {},
   "outputs": [],
   "source": [
    "import torch"
   ]
  },
  {
   "cell_type": "code",
   "execution_count": 32,
   "id": "16aca791-17c8-4b6d-92ff-ca7c537d7786",
   "metadata": {},
   "outputs": [],
   "source": [
    "xs = torch.tensor(encoding.encode(tmp_str))"
   ]
  },
  {
   "cell_type": "code",
   "execution_count": 39,
   "id": "1fcc4061-d00e-426a-9191-d367966e26fb",
   "metadata": {},
   "outputs": [
    {
     "data": {
      "text/plain": [
       "tensor([  1,   1,   7,   7,   8,   8,   8,   8,   8,   8,   8,   8,   8,   8,\n",
       "          9,   9,  11,  11,  11,  11,  11,  11,  11,  11,  11,  11,  11,  11,\n",
       "         11,  11,  11,  11,  11,  11,  12,  12,  13,  13,  13,  15,  15,  15,\n",
       "         15,  15,  17,  25,  25,  28,  74,  77,  77,  77,  77,  77,  77,  77,\n",
       "         77,  77,  79,  79,  79,  79,  82,  85,  85,  85,  85,  85,  85,  92,\n",
       "         92, 197, 197, 197, 197, 197, 197, 197, 197, 197, 197, 197, 197, 197,\n",
       "        197, 197, 197, 197, 197, 197, 197, 197, 197, 197, 197, 197, 197, 197,\n",
       "        197, 197])"
      ]
     },
     "execution_count": 39,
     "metadata": {},
     "output_type": "execute_result"
    }
   ],
   "source": [
    "xs.sort().values[:100]"
   ]
  },
  {
   "cell_type": "code",
   "execution_count": 40,
   "id": "51fc2f19-f65d-4b7a-abef-011c2246599f",
   "metadata": {},
   "outputs": [
    {
     "data": {
      "text/plain": [
       "'\\t'"
      ]
     },
     "execution_count": 40,
     "metadata": {},
     "output_type": "execute_result"
    }
   ],
   "source": [
    "encoding.decode([197])"
   ]
  },
  {
   "cell_type": "code",
   "execution_count": 43,
   "id": "54078448-63bc-4682-8f3c-904f76e5cbf7",
   "metadata": {},
   "outputs": [
    {
     "data": {
      "text/plain": [
       "(4648, 345, 1252)"
      ]
     },
     "execution_count": 43,
     "metadata": {},
     "output_type": "execute_result"
    }
   ],
   "source": [
    "len(tmp_str), len(set(encoding.encode(tmp_str))), len(encoding.encode(tmp_str))"
   ]
  },
  {
   "cell_type": "code",
   "execution_count": 45,
   "id": "510923fe-615f-4ff4-b271-f345a072131e",
   "metadata": {},
   "outputs": [
    {
     "data": {
      "text/plain": [
       "0.07406612279948475"
      ]
     },
     "execution_count": 45,
     "metadata": {},
     "output_type": "execute_result"
    }
   ],
   "source": [
    "345/4658"
   ]
  },
  {
   "cell_type": "code",
   "execution_count": null,
   "id": "6c09bb9e-340c-49b9-be2e-db9230d0f8d7",
   "metadata": {},
   "outputs": [],
   "source": []
  },
  {
   "cell_type": "code",
   "execution_count": null,
   "id": "cc708820-7c4d-4773-af9c-b26ce32c84c5",
   "metadata": {},
   "outputs": [],
   "source": []
  },
  {
   "cell_type": "code",
   "execution_count": null,
   "id": "806d8a06-da19-4790-8dac-137a88f81afa",
   "metadata": {},
   "outputs": [],
   "source": []
  },
  {
   "cell_type": "code",
   "execution_count": 1,
   "id": "7baee6d1-5440-4c76-a2ed-9291ab42d488",
   "metadata": {},
   "outputs": [],
   "source": [
    "path5 = \"C:\\\\Users\\\\{username}\\\\Documents\\\\progs\\\\__bin\\\\TRAINING_DATA_SAMPLE\\\\tmp\\\\test.c\""
   ]
  },
  {
   "cell_type": "code",
   "execution_count": 2,
   "id": "657fd56b-88a2-4ae9-adcf-a7b27ee6e99e",
   "metadata": {},
   "outputs": [],
   "source": [
    "lines = open(path5, \"r\").readlines()"
   ]
  },
  {
   "cell_type": "code",
   "execution_count": 176,
   "id": "5a819232-7008-4fdb-9962-6f050148b724",
   "metadata": {},
   "outputs": [
    {
     "name": "stdout",
     "output_type": "stream",
     "text": [
      "0   // SPDX-License-Identifier: GPL-2.0-only\n",
      "\n",
      "1   /*\n",
      "\n",
      "2    * fs/fs-writeback.c\n",
      "\n",
      "3    *\n",
      "\n",
      "4    * Copyright (C) 2002, Linus Torvalds.\n",
      "\n",
      "5    *\n",
      "\n",
      "6    * Contains all the functions related to writing back and waiting\n",
      "\n",
      "7    * upon dirty inodes against superblocks, and writing back dirty\n",
      "\n",
      "8    * pages against inodes.  ie: data writeback.  Writeout of the\n",
      "\n",
      "9    * inode itself is not handled here.\n",
      "\n",
      "10    *\n",
      "\n",
      "11    * 10Apr2002\tAndrew Morton\n",
      "\n",
      "12    *\t\tSplit out of fs/inode.c\n",
      "\n",
      "13    *\t\tAdditions for address_space-based writeback\n",
      "\n",
      "14    */\n",
      "\n",
      "15   \n",
      "\n",
      "16   #include <linux/kernel.h>\n",
      "\n",
      "17   #include <linux/export.h>\n",
      "\n",
      "18   #include <linux/spinlock.h>\n",
      "\n",
      "19   #include <linux/slab.h>\n",
      "\n",
      "20   #include <linux/sched.h>\n",
      "\n",
      "21   #include <linux/fs.h>\n",
      "\n",
      "22   #include <linux/mm.h>\n",
      "\n",
      "23   #include <linux/pagemap.h>\n",
      "\n",
      "24   #include <linux/kthread.h>\n",
      "\n",
      "25   #include <linux/writeback.h>\n",
      "\n",
      "26   #include <linux/blkdev.h>\n",
      "\n",
      "27   #include <linux/backing-dev.h>\n",
      "\n",
      "28   #include <linux/tracepoint.h>\n",
      "\n",
      "29   #include <linux/device.h>\n",
      "\n",
      "30   #include <linux/memcontrol.h>\n",
      "\n",
      "31   #include \"internal.h\"\n",
      "\n",
      "32   \n",
      "\n",
      "33   /*\n",
      "\n",
      "34    * 4MB minimal write chunk size\n",
      "\n",
      "35    */\n",
      "\n",
      "36   #define MIN_WRITEBACK_PAGES\t(4096UL >> (PAGE_SHIFT - 10))\n",
      "\n",
      "37   \n",
      "\n",
      "38   /*\n",
      "\n",
      "39    * Passed into wb_writeback(), essentially a subset of writeback_control\n",
      "\n",
      "40    */\n",
      "\n",
      "41   struct wb_writeback_work {\n",
      "\n",
      "42   \tlong nr_pages;\n",
      "\n",
      "43   \tstruct super_block *sb;\n",
      "\n",
      "44   \tenum writeback_sync_modes sync_mode;\n",
      "\n",
      "45   \tunsigned int tagged_writepages:1;\n",
      "\n",
      "46   \tunsigned int for_kupdate:1;\n",
      "\n",
      "47   \tunsigned int range_cyclic:1;\n",
      "\n",
      "48   \tunsigned int for_background:1;\n",
      "\n",
      "49   \tunsigned int for_sync:1;\t/* sync(2) WB_SYNC_ALL writeback */\n",
      "\n",
      "50   \tunsigned int auto_free:1;\t/* free on completion */\n",
      "\n",
      "51   \tenum wb_reason reason;\t\t/* why was writeback initiated? */\n",
      "\n",
      "52   \n",
      "\n",
      "53   \tstruct list_head list;\t\t/* pending work list */\n",
      "\n",
      "54   \tstruct wb_completion *done;\t/* set if the caller waits */\n",
      "\n",
      "55   };\n",
      "\n",
      "56   \n",
      "\n",
      "57   /*\n",
      "\n",
      "58    * If an inode is constantly having its pages dirtied, but then the\n",
      "\n",
      "59    * updates stop dirtytime_expire_interval seconds in the past, it's\n",
      "\n",
      "60    * possible for the worst case time between when an inode has its\n",
      "\n",
      "61    * timestamps updated and when they finally get written out to be two\n",
      "\n",
      "62    * dirtytime_expire_intervals.  We set the default to 12 hours (in\n",
      "\n",
      "63    * seconds), which means most of the time inodes will have their\n",
      "\n",
      "64    * timestamps written to disk after 12 hours, but in the worst case a\n",
      "\n",
      "65    * few inodes might not their timestamps updated for 24 hours.\n",
      "\n",
      "66    */\n",
      "\n",
      "67   unsigned int dirtytime_expire_interval = 12 * 60 * 60;\n",
      "\n",
      "68   \n",
      "\n",
      "69   static inline struct inode *wb_inode(struct list_head *head)\n",
      "\n",
      "70   {\n",
      "\n",
      "71   \treturn list_entry(head, struct inode, i_io_list);\n",
      "\n",
      "72   }\n",
      "\n",
      "73   \n",
      "\n",
      "74   /*\n",
      "\n",
      "75    * Include the creation of the trace points after defining the\n",
      "\n",
      "76    * wb_writeback_work structure and inline functions so that the definition\n",
      "\n",
      "77    * remains local to this file.\n",
      "\n",
      "78    */\n",
      "\n",
      "79   #define CREATE_TRACE_POINTS\n",
      "\n",
      "80   #include <trace/events/writeback.h>\n",
      "\n",
      "81   \n",
      "\n",
      "82   EXPORT_TRACEPOINT_SYMBOL_GPL(wbc_writepage);\n",
      "\n",
      "83   \n",
      "\n",
      "84   static bool wb_io_lists_populated(struct bdi_writeback *wb)\n",
      "\n",
      "85   {\n",
      "\n",
      "86   \tif (wb_has_dirty_io(wb)) {\n",
      "\n",
      "87   \t\treturn false;\n",
      "\n",
      "88   \t} else {\n",
      "\n",
      "89   \t\tset_bit(WB_has_dirty_io, &wb->state);\n",
      "\n",
      "90   \t\tWARN_ON_ONCE(!wb->avg_write_bandwidth);\n",
      "\n",
      "91   \t\tatomic_long_add(wb->avg_write_bandwidth,\n",
      "\n",
      "92   \t\t\t\t&wb->bdi->tot_write_bandwidth);\n",
      "\n",
      "93   \t\treturn true;\n",
      "\n",
      "94   \t}\n",
      "\n",
      "95   }\n",
      "\n",
      "96   \n",
      "\n",
      "97   static void wb_io_lists_depopulated(struct bdi_writeback *wb)\n",
      "\n",
      "98   {\n",
      "\n",
      "99   \tif (wb_has_dirty_io(wb) && list_empty(&wb->b_dirty) &&\n",
      "\n",
      "100   \t    list_empty(&wb->b_io) && list_empty(&wb->b_more_io)) {\n",
      "\n",
      "101   \t\tclear_bit(WB_has_dirty_io, &wb->state);\n",
      "\n",
      "102   \t\tWARN_ON_ONCE(atomic_long_sub_return(wb->avg_write_bandwidth,\n",
      "\n",
      "103   \t\t\t\t\t&wb->bdi->tot_write_bandwidth) < 0);\n",
      "\n",
      "104   \t}\n",
      "\n",
      "105   }\n",
      "\n",
      "106   \n",
      "\n",
      "107   /**\n",
      "\n",
      "108    * inode_io_list_move_locked - move an inode onto a bdi_writeback IO list\n",
      "\n",
      "109    * @inode: inode to be moved\n",
      "\n",
      "110    * @wb: target bdi_writeback\n",
      "\n",
      "111    * @head: one of @wb->b_{dirty|io|more_io|dirty_time}\n",
      "\n",
      "112    *\n",
      "\n",
      "113    * Move @inode->i_io_list to @list of @wb and set %WB_has_dirty_io.\n",
      "\n",
      "114    * Returns %true if @inode is the first occupant of the !dirty_time IO\n",
      "\n",
      "115    * lists; otherwise, %false.\n",
      "\n",
      "116    */\n",
      "\n",
      "117   static bool inode_io_list_move_locked(struct inode *inode,\n",
      "\n",
      "118   \t\t\t\t      struct bdi_writeback *wb,\n",
      "\n",
      "119   \t\t\t\t      struct list_head *head)\n",
      "\n",
      "120   {\n",
      "\n",
      "121   \tassert_spin_locked(&wb->list_lock);\n",
      "\n",
      "122   \tassert_spin_locked(&inode->i_lock);\n",
      "\n",
      "123   \tWARN_ON_ONCE(inode->i_state & I_FREEING);\n",
      "\n",
      "124   \n",
      "\n",
      "125   \tlist_move(&inode->i_io_list, head);\n",
      "\n",
      "126   \n",
      "\n",
      "127   \t/* dirty_time doesn't count as dirty_io until expiration */\n",
      "\n",
      "128   \tif (head != &wb->b_dirty_time)\n",
      "\n",
      "129   \t\treturn wb_io_lists_populated(wb);\n",
      "\n",
      "130   \n",
      "\n",
      "131   \twb_io_lists_depopulated(wb);\n",
      "\n",
      "132   \treturn false;\n",
      "\n",
      "133   }\n",
      "\n",
      "134   \n",
      "\n",
      "135   static void wb_wakeup(struct bdi_writeback *wb)\n",
      "\n",
      "136   {\n",
      "\n",
      "137   \tspin_lock_irq(&wb->work_lock);\n",
      "\n",
      "138   \tif (test_bit(WB_registered, &wb->state))\n",
      "\n",
      "139   \t\tmod_delayed_work(bdi_wq, &wb->dwork, 0);\n",
      "\n",
      "140   \tspin_unlock_irq(&wb->work_lock);\n",
      "\n",
      "141   }\n",
      "\n",
      "142   \n",
      "\n",
      "143   /*\n",
      "\n",
      "144    * This function is used when the first inode for this wb is marked dirty. It\n",
      "\n",
      "145    * wakes-up the corresponding bdi thread which should then take care of the\n",
      "\n",
      "146    * periodic background write-out of dirty inodes. Since the write-out would\n",
      "\n",
      "147    * starts only 'dirty_writeback_interval' centisecs from now anyway, we just\n",
      "\n",
      "148    * set up a timer which wakes the bdi thread up later.\n",
      "\n",
      "149    *\n",
      "\n",
      "150    * Note, we wouldn't bother setting up the timer, but this function is on the\n",
      "\n",
      "151    * fast-path (used by '__mark_inode_dirty()'), so we save few context switches\n",
      "\n",
      "152    * by delaying the wake-up.\n",
      "\n",
      "153    *\n",
      "\n",
      "154    * We have to be careful not to postpone flush work if it is scheduled for\n",
      "\n",
      "155    * earlier. Thus we use queue_delayed_work().\n",
      "\n",
      "156    */\n",
      "\n",
      "157   static void wb_wakeup_delayed(struct bdi_writeback *wb)\n",
      "\n",
      "158   {\n",
      "\n",
      "159   \tunsigned long timeout;\n",
      "\n",
      "160   \n",
      "\n",
      "161   \ttimeout = msecs_to_jiffies(dirty_writeback_interval * 10);\n",
      "\n",
      "162   \tspin_lock_irq(&wb->work_lock);\n",
      "\n",
      "163   \tif (test_bit(WB_registered, &wb->state))\n",
      "\n",
      "164   \t\tqueue_delayed_work(bdi_wq, &wb->dwork, timeout);\n",
      "\n",
      "165   \tspin_unlock_irq(&wb->work_lock);\n",
      "\n",
      "166   }\n",
      "\n",
      "167   \n",
      "\n",
      "168   static void finish_writeback_work(struct wb_writeback_work *work)\n",
      "\n",
      "169   {\n",
      "\n",
      "170   \tstruct wb_completion *done = work->done;\n",
      "\n",
      "171   \n",
      "\n",
      "172   \tif (work->auto_free)\n",
      "\n",
      "173   \t\tkfree(work);\n",
      "\n",
      "174   \tif (done) {\n",
      "\n",
      "175   \t\twait_queue_head_t *waitq = done->waitq;\n",
      "\n",
      "176   \n",
      "\n",
      "177   \t\t/* @done can't be accessed after the following dec */\n",
      "\n",
      "178   \t\tif (atomic_dec_and_test(&done->cnt))\n",
      "\n",
      "179   \t\t\twake_up_all(waitq);\n",
      "\n",
      "180   \t}\n",
      "\n",
      "181   }\n",
      "\n",
      "182   \n",
      "\n",
      "183   static void wb_queue_work(struct bdi_writeback *wb,\n",
      "\n",
      "184   \t\t\t  struct wb_writeback_work *work)\n",
      "\n",
      "185   {\n",
      "\n",
      "186   \ttrace_writeback_queue(wb, work);\n",
      "\n",
      "187   \n",
      "\n",
      "188   \tif (work->done)\n",
      "\n",
      "189   \t\tatomic_inc(&work->done->cnt);\n",
      "\n",
      "190   \n",
      "\n",
      "191   \tspin_lock_irq(&wb->work_lock);\n",
      "\n",
      "192   \n",
      "\n",
      "193   \tif (test_bit(WB_registered, &wb->state)) {\n",
      "\n",
      "194   \t\tlist_add_tail(&work->list, &wb->work_list);\n",
      "\n",
      "195   \t\tmod_delayed_work(bdi_wq, &wb->dwork, 0);\n",
      "\n",
      "196   \t} else\n",
      "\n",
      "197   \t\tfinish_writeback_work(work);\n",
      "\n",
      "198   \n",
      "\n",
      "199   \tspin_unlock_irq(&wb->work_lock);\n",
      "\n",
      "200   }\n",
      "\n",
      "201   \n",
      "\n",
      "202   /**\n",
      "\n",
      "203    * wb_wait_for_completion - wait for completion of bdi_writeback_works\n",
      "\n",
      "204    * @done: target wb_completion\n",
      "\n",
      "205    *\n",
      "\n",
      "206    * Wait for one or more work items issued to @bdi with their ->done field\n",
      "\n",
      "207    * set to @done, which should have been initialized with\n",
      "\n",
      "208    * DEFINE_WB_COMPLETION().  This function returns after all such work items\n",
      "\n",
      "209    * are completed.  Work items which are waited upon aren't freed\n",
      "\n",
      "210    * automatically on completion.\n",
      "\n",
      "211    */\n",
      "\n",
      "212   void wb_wait_for_completion(struct wb_completion *done)\n",
      "\n",
      "213   {\n",
      "\n",
      "214   \tatomic_dec(&done->cnt);\t\t/* put down the initial count */\n",
      "\n",
      "215   \twait_event(*done->waitq, !atomic_read(&done->cnt));\n",
      "\n",
      "216   }\n",
      "\n",
      "217   \n",
      "\n",
      "218   #ifdef CONFIG_CGROUP_WRITEBACK\n",
      "\n",
      "219   \n",
      "\n",
      "220   /*\n",
      "\n",
      "221    * Parameters for foreign inode detection, see wbc_detach_inode() to see\n",
      "\n",
      "222    * how they're used.\n",
      "\n",
      "223    *\n",
      "\n",
      "224    * These paramters are inherently heuristical as the detection target\n",
      "\n",
      "225    * itself is fuzzy.  All we want to do is detaching an inode from the\n",
      "\n",
      "226    * current owner if it's being written to by some other cgroups too much.\n",
      "\n",
      "227    *\n",
      "\n",
      "228    * The current cgroup writeback is built on the assumption that multiple\n",
      "\n",
      "229    * cgroups writing to the same inode concurrently is very rare and a mode\n",
      "\n",
      "230    * of operation which isn't well supported.  As such, the goal is not\n",
      "\n",
      "231    * taking too long when a different cgroup takes over an inode while\n",
      "\n",
      "232    * avoiding too aggressive flip-flops from occasional foreign writes.\n",
      "\n",
      "233    *\n",
      "\n",
      "234    * We record, very roughly, 2s worth of IO time history and if more than\n",
      "\n",
      "235    * half of that is foreign, trigger the switch.  The recording is quantized\n",
      "\n",
      "236    * to 16 slots.  To avoid tiny writes from swinging the decision too much,\n",
      "\n",
      "237    * writes smaller than 1/8 of avg size are ignored.\n",
      "\n",
      "238    */\n",
      "\n",
      "239   #define WB_FRN_TIME_SHIFT\t13\t/* 1s = 2^13, upto 8 secs w/ 16bit */\n",
      "\n",
      "240   #define WB_FRN_TIME_AVG_SHIFT\t3\t/* avg = avg * 7/8 + new * 1/8 */\n",
      "\n",
      "241   #define WB_FRN_TIME_CUT_DIV\t8\t/* ignore rounds < avg / 8 */\n",
      "\n",
      "242   #define WB_FRN_TIME_PERIOD\t(2 * (1 << WB_FRN_TIME_SHIFT))\t/* 2s */\n",
      "\n",
      "243   \n",
      "\n",
      "244   #define WB_FRN_HIST_SLOTS\t16\t/* inode->i_wb_frn_history is 16bit */\n",
      "\n",
      "245   #define WB_FRN_HIST_UNIT\t(WB_FRN_TIME_PERIOD / WB_FRN_HIST_SLOTS)\n",
      "\n",
      "246   \t\t\t\t\t/* each slot's duration is 2s / 16 */\n",
      "\n",
      "247   #define WB_FRN_HIST_THR_SLOTS\t(WB_FRN_HIST_SLOTS / 2)\n",
      "\n",
      "248   \t\t\t\t\t/* if foreign slots >= 8, switch */\n",
      "\n",
      "249   #define WB_FRN_HIST_MAX_SLOTS\t(WB_FRN_HIST_THR_SLOTS / 2 + 1)\n",
      "\n"
     ]
    }
   ],
   "source": [
    "n = 0\n",
    "for i in lines[:250]:\n",
    "    print(n, \" \", i)\n",
    "    n += 1"
   ]
  },
  {
   "cell_type": "code",
   "execution_count": 27,
   "id": "077e15af-73e2-465a-a70a-489b87ee4b69",
   "metadata": {},
   "outputs": [
    {
     "data": {
      "text/plain": [
       "'#include <linux/kernel.h>\\n'"
      ]
     },
     "execution_count": 27,
     "metadata": {},
     "output_type": "execute_result"
    }
   ],
   "source": [
    "lines[16]"
   ]
  },
  {
   "cell_type": "code",
   "execution_count": 36,
   "id": "3f782aa7-55b9-4440-9eb4-f7126523f87a",
   "metadata": {},
   "outputs": [
    {
     "data": {
      "text/plain": [
       "('\\n', ' */\\n')"
      ]
     },
     "execution_count": 36,
     "metadata": {},
     "output_type": "execute_result"
    }
   ],
   "source": [
    "lines[15], lines[14]"
   ]
  },
  {
   "cell_type": "code",
   "execution_count": 28,
   "id": "e0f628e0-7e8f-4726-bc80-441143ec7e5e",
   "metadata": {},
   "outputs": [],
   "source": [
    "import re"
   ]
  },
  {
   "cell_type": "code",
   "execution_count": 98,
   "id": "534b38d7-b59a-438c-97ca-f7ea4064fbb3",
   "metadata": {},
   "outputs": [
    {
     "name": "stdout",
     "output_type": "stream",
     "text": [
      "<re.Match object; span=(0, 1), match=' '>\n"
     ]
    }
   ],
   "source": [
    "#pattern = '[#include]'\n",
    "pattern = r'[\\*/]'\n",
    "test_string = lines[14]\n",
    "res = re.match(pattern, test_string)\n",
    "print(res)"
   ]
  },
  {
   "cell_type": "code",
   "execution_count": 94,
   "id": "7c078c38-1f38-40d4-b7ac-74f7ff6f60bd",
   "metadata": {},
   "outputs": [
    {
     "data": {
      "text/plain": [
       "True"
      ]
     },
     "execution_count": 94,
     "metadata": {},
     "output_type": "execute_result"
    }
   ],
   "source": [
    "res.group()[0]==' '"
   ]
  },
  {
   "cell_type": "code",
   "execution_count": 104,
   "id": "41434854-f08f-4d96-8252-ced846ecfd72",
   "metadata": {},
   "outputs": [
    {
     "name": "stdout",
     "output_type": "stream",
     "text": [
      "['*/']\n"
     ]
    }
   ],
   "source": [
    "pattern = r'\\*/'\n",
    "test_string = lines[14]\n",
    "res = re.findall(pattern, test_string)\n",
    "print(res)"
   ]
  },
  {
   "cell_type": "code",
   "execution_count": 106,
   "id": "f02b7272-2df6-4173-af34-29308e89fed0",
   "metadata": {},
   "outputs": [
    {
     "name": "stdout",
     "output_type": "stream",
     "text": [
      "['#include']\n"
     ]
    }
   ],
   "source": [
    "pattern = r'\\#include'\n",
    "test_string = lines[16]\n",
    "res = re.findall(pattern, test_string)\n",
    "print(res)"
   ]
  },
  {
   "cell_type": "code",
   "execution_count": 135,
   "id": "8669e78d-ea9f-42b6-ad0b-404eecf6aa7d",
   "metadata": {},
   "outputs": [
    {
     "name": "stdout",
     "output_type": "stream",
     "text": [
      "['\\n']\n"
     ]
    }
   ],
   "source": [
    "pattern = r'\\n'\n",
    "test_string = lines[15]\n",
    "res = re.findall(pattern, test_string)\n",
    "print(res)"
   ]
  },
  {
   "cell_type": "code",
   "execution_count": 107,
   "id": "26c44c87-38de-4e00-b603-924ce16cf943",
   "metadata": {},
   "outputs": [],
   "source": [
    "str1 = '      #include <linux/kernel.h>\\n'\n",
    "str2 = '            *'\n",
    "str3 = '*           */'\n",
    "str4 =  '\\tunsigned int for_sync:1;\\t/* sync(2) WB_SYNC_ALL writeback */\\n'"
   ]
  },
  {
   "cell_type": "code",
   "execution_count": 120,
   "id": "e28f29e0-92b2-47ba-a3d5-9812d898d701",
   "metadata": {},
   "outputs": [
    {
     "name": "stdout",
     "output_type": "stream",
     "text": [
      "['*']\n"
     ]
    }
   ],
   "source": [
    "pattern = r'\\*'\n",
    "test_string = str2\n",
    "res = re.findall(pattern, test_string)\n",
    "print(res)"
   ]
  },
  {
   "cell_type": "code",
   "execution_count": 151,
   "id": "29502fbd-84bc-49fa-b28a-6790840be710",
   "metadata": {},
   "outputs": [],
   "source": [
    "new_lines = []\n",
    "trash_lines = []"
   ]
  },
  {
   "cell_type": "code",
   "execution_count": 161,
   "id": "bf1c0ca6-1010-4235-90dd-3e453873cad2",
   "metadata": {},
   "outputs": [
    {
     "name": "stdout",
     "output_type": "stream",
     "text": [
      "// SPDX-License-Identifier: GPL-2.0-only\n",
      "\n",
      "0 --> [] [] [] ['//'] []\n",
      "/*\n",
      "\n",
      "1 --> [] [] ['*'] [] []\n",
      "False\n",
      "False\n",
      "True\n"
     ]
    }
   ],
   "source": [
    "p1 = r'\\*/'\n",
    "p2 = r'\\#include'\n",
    "p3 = r'\\*'\n",
    "p4 = r'\\//'\n",
    "p5 = r'^\\n'\n",
    "nlines = 0\n",
    "comb = 0b11111\n",
    "for i in lines[:100]:\n",
    "    print(i)\n",
    "    print(nlines, \"-->\", re.findall(p1, i), re.findall(p2, i), re.findall(p3, i), re.findall(p4, i), re.findall(p5, i))\n",
    "    if (len(re.findall(p3, i))!=0):\n",
    "        for j in i:\n",
    "            print(j.isspace())\n",
    "        break\n",
    "    #if (len(re.findall(p4, i))!=0):\n",
    "        #print(i[:2], p4, comb)\n",
    "        #trash_lines.append(i)\n",
    "        #break\n",
    "    nlines+=1"
   ]
  },
  {
   "cell_type": "code",
   "execution_count": 163,
   "id": "f0a11c3a-cf96-4ca0-8b4a-c7314b716718",
   "metadata": {},
   "outputs": [
    {
     "data": {
      "text/plain": [
       "'#include <linux/kernel.h>\\n'"
      ]
     },
     "execution_count": 163,
     "metadata": {},
     "output_type": "execute_result"
    }
   ],
   "source": [
    "lines[16]"
   ]
  },
  {
   "cell_type": "code",
   "execution_count": 168,
   "id": "74aebb01-174a-4284-af47-70c03311207c",
   "metadata": {},
   "outputs": [
    {
     "name": "stdout",
     "output_type": "stream",
     "text": [
      "<re.Match object; span=(0, 8), match='#include'>\n"
     ]
    }
   ],
   "source": [
    "pattern = r'\\#include'\n",
    "test_string = lines[16]\n",
    "res = re.search(pattern, test_string)\n",
    "print(res)"
   ]
  },
  {
   "cell_type": "code",
   "execution_count": 172,
   "id": "bad9d3d1-5052-4389-96df-1ad1e4c216d2",
   "metadata": {},
   "outputs": [
    {
     "data": {
      "text/plain": [
       "' */\\n'"
      ]
     },
     "execution_count": 172,
     "metadata": {},
     "output_type": "execute_result"
    }
   ],
   "source": [
    "lines[14]"
   ]
  },
  {
   "cell_type": "code",
   "execution_count": 171,
   "id": "46edc8a9-b0eb-4154-8a30-418a6553eca3",
   "metadata": {},
   "outputs": [
    {
     "name": "stdout",
     "output_type": "stream",
     "text": [
      "<re.Match object; span=(1, 2), match='*'>\n"
     ]
    }
   ],
   "source": [
    "pattern = r'\\*'\n",
    "test_string = lines[14]\n",
    "res = re.search(pattern, test_string)\n",
    "print(res)"
   ]
  },
  {
   "cell_type": "code",
   "execution_count": 175,
   "id": "4d7c0ed9-c1eb-4c50-a9ae-b4cd8bc3150a",
   "metadata": {},
   "outputs": [],
   "source": [
    "#117   static bool inode_io_list_move_locked(struct inode *inode, /* test */ char *another_ptr\n",
    "#\n",
    "#118   \t\t\t\t      struct bdi_writeback *wb,\n",
    "\n",
    "#214   \tatomic_dec(&done->cnt);\t\t/* put down the initial count */"
   ]
  },
  {
   "cell_type": "code",
   "execution_count": 186,
   "id": "42353d71-d6c0-43a9-85c2-82450a9367ea",
   "metadata": {},
   "outputs": [
    {
     "name": "stdout",
     "output_type": "stream",
     "text": [
      "<re.Match object; span=(51, 52), match='*'>\n"
     ]
    }
   ],
   "source": [
    "pattern = r'\\*'\n",
    "test_string = \"static bool inode_io_list_move_locked(struct inode *inode, /* test */ char *another_ptr\"\n",
    "#test_string = \"\tatomic_dec(&done->cnt);\t\t/* put down the initial count */\"\n",
    "res = re.search(pattern, test_string)\n",
    "print(res)"
   ]
  },
  {
   "cell_type": "code",
   "execution_count": 183,
   "id": "21841e32-2022-4fa4-9898-a5cdbdefa9da",
   "metadata": {},
   "outputs": [
    {
     "data": {
      "text/plain": [
       "'*'"
      ]
     },
     "execution_count": 183,
     "metadata": {},
     "output_type": "execute_result"
    }
   ],
   "source": [
    "res.group()"
   ]
  },
  {
   "cell_type": "code",
   "execution_count": 189,
   "id": "a1a8e523-8657-418c-895f-fbb8d393cd21",
   "metadata": {},
   "outputs": [
    {
     "data": {
      "text/plain": [
       "' '"
      ]
     },
     "execution_count": 189,
     "metadata": {},
     "output_type": "execute_result"
    }
   ],
   "source": [
    "test_string[50]"
   ]
  },
  {
   "cell_type": "code",
   "execution_count": 193,
   "id": "c6259dc2-fb62-4f2f-9d12-70d700500d9b",
   "metadata": {},
   "outputs": [
    {
     "name": "stdout",
     "output_type": "stream",
     "text": [
      "1  st match start index 51  end match index  52\n",
      "2  st match start index 60  end match index  61\n",
      "3  st match start index 67  end match index  68\n",
      "4  st match start index 75  end match index  76\n"
     ]
    }
   ],
   "source": [
    "#https://pynative.com/python-find-position-of-regex-match-using-span-start-end/\n",
    "cnt = 0\n",
    "for match in re.finditer(pattern, test_string, re.IGNORECASE):\n",
    "    cnt += 1\n",
    "    print( cnt, \" st match start index\", match.start(), \" end match index \" , match.end())"
   ]
  },
  {
   "cell_type": "code",
   "execution_count": 197,
   "id": "94f9ba48-2431-4bc2-946b-ee718d426241",
   "metadata": {},
   "outputs": [],
   "source": [
    "# chyba to bedzie najlepsza opcja\n",
    "# test_string = \"static bool inode_io_list_move_locked(struct inode *inode, /* test */ char *another_ptr\"\n",
    "# bo mozna sprawdzic znak przed w tablicy i kolejne wywolanie gdzie jest */\n",
    "# nastepnie calosc przed ... albo po prostu takie linie ignorowac"
   ]
  },
  {
   "cell_type": "code",
   "execution_count": 198,
   "id": "21a676c4-01d1-4ef7-9de3-c2ea2d92e57c",
   "metadata": {},
   "outputs": [
    {
     "data": {
      "text/plain": [
       "'/'"
      ]
     },
     "execution_count": 198,
     "metadata": {},
     "output_type": "execute_result"
    }
   ],
   "source": [
    "test_string[59]"
   ]
  },
  {
   "cell_type": "code",
   "execution_count": null,
   "id": "d5903ddc-7cef-4779-90ea-3061143dbdc4",
   "metadata": {},
   "outputs": [],
   "source": [
    "+= "
   ]
  },
  {
   "cell_type": "code",
   "execution_count": 40,
   "id": "a16e30a3-0559-4a29-960a-98361fb70c5a",
   "metadata": {},
   "outputs": [],
   "source": [
    "#######################\n",
    "import re"
   ]
  },
  {
   "cell_type": "code",
   "execution_count": 41,
   "id": "0804e134-ea2f-4853-a195-9391b33523bb",
   "metadata": {},
   "outputs": [],
   "source": [
    "l = open(\"C:\\\\Users\\\\{username}\\\\Documents\\\\progs\\\\__bin\\\\scratchpad-main\\\\scratchpad-main\\\\Measure Time Between Key Events\\\\journal\\\\1 - pierwszy trening.txt\", \"r\").readlines()"
   ]
  },
  {
   "cell_type": "code",
   "execution_count": 42,
   "id": "6a706030-eef4-4622-8a60-cae27c809931",
   "metadata": {},
   "outputs": [
    {
     "data": {
      "text/plain": [
       "97"
      ]
     },
     "execution_count": 42,
     "metadata": {},
     "output_type": "execute_result"
    }
   ],
   "source": [
    "len(l)"
   ]
  },
  {
   "cell_type": "code",
   "execution_count": 43,
   "id": "50675963-8f0d-4103-b24c-29d0f840778d",
   "metadata": {},
   "outputs": [],
   "source": [
    "s =\"\"\n",
    "for i in l:\n",
    "    s+=i"
   ]
  },
  {
   "cell_type": "code",
   "execution_count": 44,
   "id": "c83cd49d-f6f0-42a7-bc20-4f615315dd08",
   "metadata": {},
   "outputs": [
    {
     "data": {
      "text/plain": [
       "'static int btusb_recv_intr(struct btusb_data *data, void *buffer, int count)\\n{\\n\\tstruct sk_buff *skb;\\n\\tunsigned long flags;\\n\\tint err = 0;\\n\\tspin_lock_irqsave(&data->rxlock, flags);\\n\\tskb = data->evt_skb;\\n\\twhile (count) {\\n\\t\\tint len;\\n\\t\\tif (!skb) {\\n\\t\\t\\tskb = bt_skb_alloc(HCI_MAX_EVENT_SIZE, GFP_ATOMIC);\\n\\t\\t\\tif (!skb) {\\n\\t\\t\\t\\terr = -ENOMEM;\\n\\t\\t\\t\\tbreak;\\n\\t\\t\\t}\\n\\t\\t\\thci_skb_pkt_type(skb) = HCI_EVENT_PKT;\\n\\t\\t\\thci_skb_expect(skb) = HCI_EVENT_HDR_SIZE;\\n\\t\\t}\\n\\t\\tlen = min_t(uint, hci_skb_expect(skb), count);\\n\\t\\tskb_put_data(skb, buffer, len);\\n\\t\\tcount -= len;\\n\\t\\tbuffer += len;\\n\\t\\thci_skb_expect(skb) -= len;\\n\\t\\tif (skb->len == HCI_EVENT_HDR_SIZE) {\\n\\t\\t\\t/* Complete event header */\\n\\t\\t\\thci_skb_expect(skb) = hci_event_hdr(skb)->plen;\\n\\t\\t\\tif (skb_tailroom(skb) < hci_skb_expect(skb)) {\\n\\t\\t\\t\\tkfree_skb(skb);\\n\\t\\t\\t\\tskb = NULL;\\n\\t\\t\\t\\terr = -EILSEQ;\\n\\t\\t\\t\\tbreak;\\n\\t\\t\\t}\\n\\t\\t}\\n\\t\\tif (!hci_skb_expect(skb)) {\\n\\t\\t\\t/* Complete frame */\\n\\t\\t\\tbtusb_recv_event(data, skb);\\n\\t\\t\\tskb = NULL;\\n\\t\\t}\\n\\t}\\n\\tdata->evt_skb = skb;\\n\\tspin_unlock_irqrestore(&data->rxlock, flags);\\n\\treturn err;\\n}\\nstatic int btusb_recv_acl(struct btusb_data *data, struct sk_buff *skb)\\n{\\n\\t/* Only queue ACL packet if intr_interval is set as it means\\n\\t * force_poll_sync has been enabled.\\n\\t */\\n\\tif (!data->intr_interval)\\n\\t\\treturn data->recv_acl(data->hdev, skb);\\n\\tskb_queue_tail(&data->acl_q, skb);\\n\\tschedule_delayed_work(&data->rx_work, data->intr_interval);\\n\\treturn 0;\\n}\\nstatic int btusb_recv_bulk(struct btusb_data *data, void *buffer, int count)\\n{\\n\\tstruct sk_buff *skb;\\n\\tunsigned long flags;\\n\\tint err = 0;\\n\\tspin_lock_irqsave(&data->rxlock, flags);\\n\\tskb = data->acl_skb;\\n\\twhile (count) {\\n\\t\\tint len;\\n\\t\\tif (!skb) {\\n\\t\\t\\tskb = bt_skb_alloc(HCI_MAX_FRAME_SIZE, GFP_ATOMIC);\\n\\t\\t\\tif (!skb) {\\n\\t\\t\\t\\terr = -ENOMEM;\\n\\t\\t\\t\\tbreak;\\n\\t\\t\\t}\\n\\t\\t\\thci_skb_pkt_type(skb) = HCI_ACLDATA_PKT;\\n\\t\\t\\thci_skb_expect(skb) = HCI_ACL_HDR_SIZE;\\n\\t\\t}\\n\\t\\tlen = min_t(uint, hci_skb_expect(skb), count);\\n\\t\\tskb_put_data(skb, buffer, len);\\n\\t\\tcount -= len;\\n\\t\\tbuffer += len;\\n\\t\\thci_skb_expect(skb) -= len;\\n\\t\\tif (skb->len == HCI_ACL_HDR_SIZE) {\\n\\t\\t\\t__le16 dlen = hci_acl_hdr(skb)->dlen;\\n\\t\\t\\t/* Complete ACL header */\\n\\t\\t\\thci_skb_expect(skb) = __le16_to_cpu(dlen);\\n\\t\\t\\tif (skb_tailroom(skb) < hci_skb_expect(skb)) {\\n\\t\\t\\t\\tkfree_skb(skb);\\n\\t\\t\\t\\tskb = NULL;\\n\\t\\t\\t\\terr = -EILSEQ;\\n\\t\\t\\t\\tbreak;\\n\\t\\t\\t}\\n\\t\\t}\\n\\t\\tif (!hci_skb_expect(skb)) {\\n\\t\\t\\t/* Complete frame */\\n\\t\\t\\tbtusb_recv_acl(data, skb);\\n\\t\\t\\tskb = NULL;\\n\\t\\t}\\n\\t}\\n\\tdata->acl_skb = skb;\\n\\tspin_unlock_irqrestore(&data->rxlock, flags);\\n\\treturn err;'"
      ]
     },
     "execution_count": 44,
     "metadata": {},
     "output_type": "execute_result"
    }
   ],
   "source": [
    "s"
   ]
  },
  {
   "cell_type": "code",
   "execution_count": 27,
   "id": "24aab5e8-3bf0-4338-a966-95d1b3886b27",
   "metadata": {},
   "outputs": [
    {
     "data": {
      "text/plain": [
       "(2433, 97)"
      ]
     },
     "execution_count": 27,
     "metadata": {},
     "output_type": "execute_result"
    }
   ],
   "source": [
    "len(s), len(l)"
   ]
  },
  {
   "cell_type": "code",
   "execution_count": 23,
   "id": "774443e4-f7df-4a05-b6ec-a42f6f9844a7",
   "metadata": {},
   "outputs": [],
   "source": [
    "res = re.match(r'\\s+', s)"
   ]
  },
  {
   "cell_type": "code",
   "execution_count": 24,
   "id": "4a3934b0-fd2a-47e2-86d9-33ea4c1b921b",
   "metadata": {},
   "outputs": [],
   "source": [
    "res"
   ]
  },
  {
   "cell_type": "code",
   "execution_count": 28,
   "id": "e57f2f56-097d-468b-8ae0-26317aef1625",
   "metadata": {},
   "outputs": [],
   "source": [
    "import torch"
   ]
  },
  {
   "cell_type": "code",
   "execution_count": 35,
   "id": "becd4097-935b-4a9a-afc0-9572be64ae51",
   "metadata": {},
   "outputs": [],
   "source": [
    "t = torch.tensor([261,213,243,208,246,203,220,234,257,225,240,254,252,203])"
   ]
  },
  {
   "cell_type": "code",
   "execution_count": 30,
   "id": "04d94559-4567-44cc-b2e8-ef27fcb09cc7",
   "metadata": {},
   "outputs": [
    {
     "data": {
      "text/plain": [
       "14"
      ]
     },
     "execution_count": 30,
     "metadata": {},
     "output_type": "execute_result"
    }
   ],
   "source": [
    "len(t)"
   ]
  },
  {
   "cell_type": "code",
   "execution_count": 32,
   "id": "64fc951a-e255-4a23-89c2-68f011689f57",
   "metadata": {},
   "outputs": [],
   "source": [
    "import matplotlib.pyplot as plt"
   ]
  },
  {
   "cell_type": "code",
   "execution_count": 33,
   "id": "454efc75-b517-4024-8270-7cf1e5c1bb4b",
   "metadata": {},
   "outputs": [
    {
     "data": {
      "text/plain": [
       "[<matplotlib.lines.Line2D at 0xc959804e60>]"
      ]
     },
     "execution_count": 33,
     "metadata": {},
     "output_type": "execute_result"
    },
    {
     "data": {
      "image/png": "[encoded data removed]",
      "text/plain": [
       "<Figure size 640x480 with 1 Axes>"
      ]
     },
     "metadata": {},
     "output_type": "display_data"
    }
   ],
   "source": [
    "plt.plot(t)"
   ]
  },
  {
   "cell_type": "code",
   "execution_count": 38,
   "id": "c65fa87b-f374-4585-8601-736990b3a6b6",
   "metadata": {},
   "outputs": [
    {
     "data": {
      "text/plain": [
       "tensor(232.7857)"
      ]
     },
     "execution_count": 38,
     "metadata": {},
     "output_type": "execute_result"
    }
   ],
   "source": [
    "t.float().mean()"
   ]
  },
  {
   "cell_type": "code",
   "execution_count": 39,
   "id": "98a44344-4282-4a81-b719-a518c43f3ed8",
   "metadata": {},
   "outputs": [
    {
     "data": {
      "text/plain": [
       "3029"
      ]
     },
     "execution_count": 39,
     "metadata": {},
     "output_type": "execute_result"
    }
   ],
   "source": [
    "2433+290+306"
   ]
  },
  {
   "cell_type": "code",
   "execution_count": null,
   "id": "5c4c4a87-f5e5-400e-9ef9-eb77b4ce84d5",
   "metadata": {},
   "outputs": [],
   "source": []
  },
  {
   "cell_type": "code",
   "execution_count": 1,
   "id": "b3c365f8-c304-4ece-bb31-eef6a14d7904",
   "metadata": {},
   "outputs": [],
   "source": [
    "###"
   ]
  },
  {
   "cell_type": "code",
   "execution_count": 4,
   "id": "9c544b88-c96b-4750-95b2-ae4edf2981ec",
   "metadata": {},
   "outputs": [],
   "source": [
    "import torch\n",
    "import matplotlib.pyplot as plt"
   ]
  },
  {
   "cell_type": "code",
   "execution_count": 3,
   "id": "7561be73-1f60-45c1-967a-4fa969ae99a9",
   "metadata": {},
   "outputs": [],
   "source": [
    "arr1=[2320,32,40,88,80,48,24,16,48,343,72,121,120,112,72,65,72,64,88,16,72,72,72,40,40,32,81,48,72,72,72,16,32,32,80,16,40,32,184,32,96,128,87,72,33,39,24,289,367,136,377,168,96,304,56,409,296,104,192,209,64,64,15,72,34,153,128,80,64,24,265,499,33,193,288,97,25,88,9,88,49,32,385,88,80,80,712,152,24,784,232,56,1465,128,72,113,121,8,104,96,48,360,120,40,153,31,24,25,136,128,104,175,87,56,8,33,64,72,145,95,63,120,72,81,63,40,248,112,40,177,41,8,32,145,96,88,488,80,144,121,111,193,64,56,56,104,64,64,113,8,72,72,737,63,152,57,22,8,113,79,88,54,24,192,48,521,290,97,161,296,152,72,80,104,80,312,71,97,88,200,112,104,79,255,81,104,185,120,65,281,120,127,73,128,64,16,24,8,65,265,369,80,136,161,104,1056,321,95,72,152,48,496,97,176,56,48,64,56,56,217,71,136,96,72,97,71,88,72,85,88,96,272,665,223]\n",
    "arr2=[99,108,97,115,115,32,100,105,101,108,101,99,116,114,105,99,32,16,58,32,112,117,98,108,105,99,32,109,97,116,101,114,105,97,108,32,16,123,13,32,32,112,117,98,108,105,99,16,16,34,8,16,58,13,9,8,32,32,32,32,100,105,101,108,101,99,116,114,105,99,16,16,16,16,40,100,111,117,99,108,101,32,8,8,8,8,98,108,101,32,114,101,102,114,97,99,116,105,111,110,32,8,16,95,105,110,100,101,120,16,41,32,16,58,32,114,101,102,114,97,99,116,105,111,110,32,8,16,95,105,110,100,101,120,16,40,114,101,103,114,97,8,8,8,102,114,97,99,116,105,111,110,16,95,105,110,100,101,120,16,41,32,16,123,125,13,32,32,32,32,98,111,111,108,32,115,99,97,116,101,114,16,40,8,8,8,116,101,114,114,16,8,16,40,99,111,110,115,116,32,114,97,121,16,38,32,114,16,95,105,110,44,32,99,111,110,115,116,32,104,105,116,16,95,114,101,99,111,116,114,16,38,44,8]"
   ]
  },
  {
   "cell_type": "code",
   "execution_count": null,
   "id": "dea86942-4437-48f4-bb25-3174b2ddc2cc",
   "metadata": {},
   "outputs": [],
   "source": [
    "plt.plot(arr1)"
   ]
  },
  {
   "cell_type": "code",
   "execution_count": null,
   "id": "e807e14d-e355-4f2f-b4e1-2697e8bc7595",
   "metadata": {},
   "outputs": [],
   "source": [
    "plt.plot(arr2)"
   ]
  },
  {
   "cell_type": "code",
   "execution_count": null,
   "id": "94eb9c95-1286-42c4-8d34-a21c82d928d6",
   "metadata": {},
   "outputs": [],
   "source": [
    "plt.hist(torch.tensor(arr2), 100);"
   ]
  },
  {
   "cell_type": "code",
   "execution_count": null,
   "id": "1178accb-c55c-4b6c-b84e-06363b6b1836",
   "metadata": {},
   "outputs": [],
   "source": [
    "torch.tensor(arr2).sort()"
   ]
  },
  {
   "cell_type": "code",
   "execution_count": null,
   "id": "d81ec40d-557c-4363-bc52-34d76cd77843",
   "metadata": {},
   "outputs": [],
   "source": [
    "tmp_arr = []\n",
    "for i in torch.tensor(arr2).sort().values:\n",
    "    #if i.item() >= 32:\n",
    "    print(chr(i.item()))\n",
    "    tmp_arr.append(chr(i.item()))"
   ]
  },
  {
   "cell_type": "code",
   "execution_count": 49,
   "id": "c61d473a-72db-4c8c-9866-29c9404c3c78",
   "metadata": {},
   "outputs": [
    {
     "data": {
      "text/plain": [
       "34"
      ]
     },
     "execution_count": 49,
     "metadata": {},
     "output_type": "execute_result"
    }
   ],
   "source": [
    "len(set(tmp_arr))"
   ]
  },
  {
   "cell_type": "code",
   "execution_count": 46,
   "id": "c1cd1ef4-30d6-4ce5-8a35-e5854009f745",
   "metadata": {},
   "outputs": [
    {
     "data": {
      "text/plain": [
       "69"
      ]
     },
     "execution_count": 46,
     "metadata": {},
     "output_type": "execute_result"
    }
   ],
   "source": [
    "len(set(s))"
   ]
  },
  {
   "cell_type": "code",
   "execution_count": 51,
   "id": "5027b58f-ec70-4422-bfb8-7d154f258197",
   "metadata": {},
   "outputs": [],
   "source": [
    "kk_str= \"class dielectric : public material {\\\n",
    "  public:\\\n",
    "    dielectric(double refraction_index) : refraction_index(refraction_index) {}\\\n",
    "    bool scatter(const ray& r_in, const hit_recotss\""
   ]
  },
  {
   "cell_type": "code",
   "execution_count": 53,
   "id": "e12dcd79-a1aa-4b07-abc6-e066910a22c6",
   "metadata": {},
   "outputs": [
    {
     "data": {
      "text/plain": [
       "28"
      ]
     },
     "execution_count": 53,
     "metadata": {},
     "output_type": "execute_result"
    }
   ],
   "source": [
    "len(set(kk_str))"
   ]
  },
  {
   "cell_type": "code",
   "execution_count": 1,
   "id": "c694fd88-93d6-4dba-9d4d-a05bf9943bfd",
   "metadata": {},
   "outputs": [],
   "source": [
    "#"
   ]
  },
  {
   "cell_type": "code",
   "execution_count": 2,
   "id": "e42f56ce-d573-47e5-9932-50b8c21945bb",
   "metadata": {},
   "outputs": [],
   "source": [
    "arr1 = [117,51,50,32,97,99,112,105,16,95,41,8,112,109,16,95,114,101,97,100,16,95,118,101,114,105,102,105,101,100,16,40,118,111,105,100,16,41,13,16,123,13,9,117,51,50,32,118,49,32,61,32,48,44,32,118,50,32,61,32,48,44,32,118,50,8,51,32,61,32,48,59,13,9,100,111,32,16,123,13,9,9,118,49,32,61,32,114,101,97,100,16,95,109,112,8,8,112,109,116,109,112,16,41,95,8,8,8,8,114,109,8,8,109,114,16,40,41,95,8,108,8,59,13,9,9,118,50,32,61,32,114,101,97,100,16,95,112,109,116,109,112,8,114,16,40,41,59,13,9,9,118,51,32,61,32,114,101,97,100,16,95,112,109,116,109,112,16,40,41,8,8,8,114,16,40,41,95,59,8,8,59,13,9,16,125,32,119,104,105,116,8,108,101,16,40,8,32,16,40,117,110,108,105,107,101,108,121,16,40,16,40,118,49,16,32,62,32,118,50,32,16,38,38,32,118,49,32,16,60,32,118,51,16,41,32,16,124,124,32,118,8,16,40,118,50,32,16,62,32,99,8,118,51,32,16,38,38,32,118,50,32,16,60,32,118,49,16,41,13,9,9,9,16,124,124,8,8,32,32,32,16,43,43,8,8,16,43,124,8,8,16,124,124,8,8,32,16,124,124,8,8,8,70,8,8,8,8,9,32,32,115,8,16,124,124,32,16,42,40,8,92,8,16,8,16,40,118,51,32,16,62,32,118,49,32,16,38,38,32,118,51,32,16,60,32,99,118,8,8,118,50,16,41,41,41,59,13,9,114,101,116,117,114,110,32,118,50,59,13,16,125,13,115,116,97,116,105,99,32,117,54,52,32,97,99,112,105,16,95,109,8,112,111,109,8,8,109,16,95,114,101,97,100,16,40,115,116,114,117,99,116,32,99,108,111,99,107,115,111,117,114,99,101,32,16,16,42,99,115,16,41,13,16,123,13,9,114,101,116,117,114,110,32,16,40,117,54,51,16,41,8,8,52,16,41,114,101,97,100,16,95,112,109,116,109,114,16,40,41,59,13,16,16,125,13,115,116,97,116,105,99,32,115,114,117,8,8,116,114,117,99,116,32,99,108,111,99,107,115,111,117,114,99,101,32,99,108,111,99,107,115,111,117,114,99,101,16,95,97,99,112,105,16,95,112,109,32,61,32,16,123,13,9,46,110,97,109,101,32,61,8,8,9,9,61,32,16,34,97,99,112,105,32,8,16,95,112,109,16,34,59,8,44,13,9,46,114,101,97,8,8,97,116,105,110,103,9,9,61,32,50,48,48,44,13,9,46,114,101,97,100,32,8,9,9,61,32,97,99,112,105,16,95,112,109,16,95,114,101,97,100,44,13,9,46,109,97,115,107,9,9,16,40,8,61,32,32,8,16,40,117,54,52,16,16,95,16,65,80,73,8,8,8,65,67,80,73,8,8,8,8,16,8,65,67,80,73,16,95,16,80,77,16,95,16,77,65,83,75,8,8,8,8,8,8,8,8,8,8,8,8,16,41,65,67,80,73,16,95,16,80,77,109,8,16,95,16,77,65,83,76,8,16,75,59,8,44,13,9,46,103,108,97,102,100,8,8,8,8,8,103,108,97,8,8,8,102,108,103,97,115,32,8,9,9,61,32,16,67,76,79,67,75,16,95,16,83,8,8,8,8,8,8,8,8,8,8,8,8,8,8,8,8,8,46,102,108,97,103,115,9,9,61,32,16,67,76,79,67,75,16,95,16,83,79,85,82,67,69,16,95,16,73,83,16,95,16,67,79,78,84,73,85,8,16,78,79,85,83,8,8,8,8,16,16,16,16,16,78,79,85,83,8,8,8,16,85,79,83,8,16,85,83,44,13,16,123,8,16,125,59,13,16,35,105,102,100,101,102,32,16,67,79,78,70,73,71,16,16,95,16,80,73,67,8,8,16,67,73,13,115,116,97,116,105,99,32,105,110,116,32,97,108,8,99,112,105,16,95,111,109,8,8,112,109,16,95,103,111,111,100,59,13,115,116,97,116,105,99,32,105,110,116,32,16,95,95,105,110,105,116,32,97,99,112,105,16,95,112,109,16,95,103,111,111,100,16,95,95,115,101,8,8,115,8,8,115,101,116,117,112,16,40,115,8,99,104,97,114,32,16,42,32,16,95,43,16,8,8,8,16,95,95,115,116,114,16,41,13,16,123,13,9,97,99,112,105,16,95,112,109,16,95,103,111,111,100,32,61,32,49,59,13,9,114,101,116,117,114,110,32,49,59,13,16,125,13,16,95,95,115,101,116,117,112,16,40,16,34,97,99,112,105,32,8,16,95,112,109,16,95,103,111,111,100,16,34,44,32,97,99,112,105,16,95,112,111,8,109,16,95,103,111,111,100,16,95,115,101,116,117,112,16,41,59,13,115,116,97,116,105,99,32,117,54,52,32,97,99,112,105,16,95,112,109,16,95,114,101,97,100,16,16,95,115,108,111,119,16,40,115,116,114,117,99,116,32,99,108,111,99,107,99,111,117,114,99,101,8,8,8,8,8,8,115,111,117,114,99,101,32,16,42,99,115,16,41,13,16,123,9,8,13,9,114,101,116,117,114,110,32,16,40,42,8,117,54,52,16,41,97,99,112,105,16,95,112,109,16,95,114,101,97,100,16,95,118,101,114,105,102,105,101,100,16,40,41,59,13,16,125,13,115,116,97,116,105,99,32,105,110,108,105,110,101,32,111,8,118,111,105,100,32,97,99,112,105,16,43,95,8,8,16,95,112,109,16,95,110,101,101,100,16,95,119,111,114,97,114,8,8,107,97,114,111,117,110,100,16,40,111,8,118,111,100,105,105,8,8,8,105,100,16,41,13,16,123,13,9,99,108,111,99,107,111,117,114,8,8,8,115,111,117,114,99,101,16,95,97,99,112,105,16,95,109,8,112,109,46,114,101,97,100,16,32,61,32,97,99,112,105,16,95,112,109,16,95,114,101,97,100,46,44,8,99,108,8,8,115,108,111,8,8,8,47,8,8,16,95,115,108,111,119,59,13,9,99,108,111,99,107,111,117,114,99,101,8,8,8,8,8,115,111,117,114,99,101,16,95,97,99,112,105,16,95,112,109,46,114,97,116,105,110,103,32,61,32,49,50,48,59,13,16,125,13,115,116,97,116,105,99,32,99,111,8,8,118,111,105,100,32,97,99,112,105,16,95,112,109,16,95,99,104,101,99,107,16,95,98,108,97,99,107,108,105,115,116,16,40,115,116,114,117,99,116,32,112,99,105,16,95,100,101,118,32,16,42,100,101,118,16,41,13,16,123,9,8,13,9,105,102,16,32,16,40,97,99,112,105,16,95,112,109,16,95,103,111,111,100,16,41,13,9,9,114,101,101,116,8,8,116,117,114,110,59,13,9,105,102,32,16,16,40,100,101,102,45,45,16,62,8,8,16,62,114,101,8,8,8,8,8,8,8,8,8,8,8,8,9,115,8,105,102,16,32,40,100,101,118,45,16,62,114,101,99,8,118,105,117,8,115,105,111,110,32,16,60,32,51,16,41,32,16,123,13,9,9,112,114,16,95,119,97,114,110,16,40,16,34,16,42,32,102,111,117,110,100,32,8,8,8,8,8,16,8,70,111,117,110,32,8,100,32,16,84,8,16,80,77,45,16,84,105,109,101,114,32,16,66,117,103,32,111,110,32,116,104,101,32,99,104,105,112,115,101,116,46,32,16,68,117,101,32,116,111,32,119,97,8,111,114,107,108,111,8,8,97,114,111,117,110,100,115,32,102,111,114,32,97,32,98,117,102,8,103,44,32,8,61,8,92,110,16,34,13,9,9,9,16,34,116,104,105,8,8,8,8,32,32,16,34,16,42,32,16,84,115,104,105,8,8,8,8,104,105,115,8,8,8,8,8,8,32,16,16,34,16,42,32,116,104,105,8,8,8,8,8,8,8,8,8,8,9,16,34,16,42,32,116,104,105,115,32,99,108,111,99,107,32,115,111,117,114,99,101,32,105,115,32,115,108,111,119,46,32,16,111,8,16,67,111,110,115,105,100,101,114,32,116,114,121,105,110,103,32,111,116,104,101,114,32,99,108,111,107,99,8,8,99,107,32,115,111,117,114,99,101,32,92,110,16,34,8,8,8,8,92,110,16,34,16,41,59,13,9,97,99,112,105,16,95,8,8,8,8,9,8,8,8,9,9,97,99,112,105,16,95,112,109,16,95,114,101,97,100,8,8,8,110,101,8,8,8,110,101,101,100,16,95,119,111,114,100,8,107,97,114,111,117,110,100,16,40,41,59,13,9,16,125,13,16,125,13,16,16,16,16,16,16,16,16,16,16,16,68,69,67,76,65,82,69,16,95,16,80,67,73,16,95,16,16,16,16,16,16,16,16,16,16,16,16,70,73,88,85,80,16,95,16,69,65,82,76,89,16,40,16,80,67,73,16,95,16,86,69,78,68,79,82,16,95,16,73,68,16,95,16,73,78,84,69,76,44,32,16,80,67,73,16,95,16,68,69,86,73,67,69,16,95,16,73,68,16,95,16,73,78,69,76,8,8,16,8,84,69,8,8,78,84,69,76,16,95,56,50,51,55,49,16,65,66,16,95,50,8,51,44,13,9,9,97,99,8,8,9,97,99,112,105,16,95,112,109,16,95,99,104,101,99,107,16,95,98,108,97,99,107,108,105,115,116,16,41,59,13,115,116,97,116,105,99,32,118,111,105,100,32,97,99,112,105,16,95,112,109,16,95,99,104,101,99,107,16,16,95,103,114,97,121,108,105,115,116,16,40,115,116,114,117,99,116,32,112,99,105,16,95,100,101,118,32,16,42,100,101,118,16,41,13,16,123,13,9,105,102,32,16,40,97,112,8,99,112,105,16,95,112,109,16,95,103,111,111,100,16,41,13,9,114,101,8,8,9,114,101,116,117,114,110,32,59,8,8,59,13,9,112,114,16,95,119,97,114,110,16,16,40,16,34,59,8,8,16,16,34,32,16,42,8,8,16,42,32,16,16,16,16,84,104,101,32,99,104,105,112,115,101,116,32,109,97,121,32,104,97,118,101,32,16,80,109,8,16,77,45,16,84,105,109,101,114,32,16,66,117,103,46,16,68,105,8,8,32,16,68,117,101,32,116,111,32,119,111,114,100,8,107,97,114,111,117,110,100,115,32,102,111,114,32,97,32,98,117,103,44,16,34,8,92,110,16,34,13,9,16,34,16,16,16,16,16,16,16,16,16,16,16,16,8,9,16,34,16,42,16,116,104,105,115,32,99,8,8,8,8,8,8,32,116,104,105,115,32,99,108,111,99,107,32,115,111,117,114,99,101,32,105,115,32,115,108,111,119,46,32,16,73,102,32,116,8,121,111,117,32,97,114,101,32,115,117,114,101,32,121,111,117,114,32,116,105,109,101,114,32,100,111,101,115,32,110,111,116,32,104,97,118,101,32,8,92,110,16,34,13,9,9,16,34,16,42,32,116,104,105,115,32,98,117,103,44,32,112,108,101,115,101,32,8,8,8,97,115,101,32,117,115,101,32,92,16,34,97,99,112,105,16,95,43,8,112,109,16,95,103,111,111,100,92,16,34,32,116,111,32,100,105,115,97,98,108,101,32,116,104,101,32,119,111,114,97,114,111,117,110,8,8,8,8,8,107,97,114,111,117,110,100,92,110,16,34,16,41,59,13,9,97,99,112,105,16,95,112,109,16,95,110,101,100,100,8,8,101,100,16,95,119,111,114,100,8,107,97,114,111,117,110,100,16,40,41,59,13,16,125,13,9,8,16,68,69,67,76,65,82,69,32,8,16,95,16,80,67,73,16,95,16,16,16,70,73,88,85,80,16,95,16,69,65,82,76,89,16,40,16,80,73,67,16,95,16,8,8,8,16,16,16,16,16,16,16,16,16,67,73,16,95,86,69,78,67,8,68,79,82,16,95,16,68,73,8,8,73,68,16,95,73,78,69,76,8,8,84,69,76,44,32,16,80,73,67,8,8,16,67,73,16,95,16,68,69,86,73,67,69,16,95,16,73,68,16,95,16,73,78,84,69,76,16,95,56,50,56,49,48,8,8,48,49,16,68,66,16,95,48,16,44,13,9,9,97,99,112,105,8,8,8,8,9,97,99,112,105,16,95,112,8,112,109,16,95,99,104,101,99,107,16,95,103,114,97,121,108,105,115,116,16,16,16,16,16,41,59,13,16,80,8,68,69,67,76,65,82,69,16,95,16,80,67,73,16,95,41,16,8,16,16,80,73,88,8,8,8,8,16,70,8,16,16,95,16,70,73,88,85,80,16,95,16,16,16,16,16,16,16,16,16,16,69,65,82,76,89,40,41,8,16,8,16,40,97,16,8,16,80,73,67,16,95,16,68,69,8,8,86,69,78,68,79,82,16,95,16,73,68,16,95,16,83,69,82,8,8,8,8,8,8,8,8,8,8,8,8,8,8,8,16,8,67,73,16,95,16,16,16,16,16,16,16,16,16,16,16,16,16,16,16,86,69,78,68,79,82,16,95,16,16,16,16,16,16,16,16,16,16,16,16,16,16,16,16,16,16,16,16,16,16,16,16,16,16,16,16,16,16,16,16,16,16,73,68,16,95,16,16,16,16,16,16,16,16,83,69,82,86,87,69,8,8,69,82,87,79,82,75,83,44,32,16,80,67,73,16,95,16,68,69,86,73,67,69,16,95,16,73,68,16,95,16,83,69,82,86,69,82,87,79,82,75,83,16,95,16,76,69,44,13,9,9,9,97,99,112,105,16,95,112,109,16,95,99,104,101,99,107,16,95,103,114,97,121,108,105,115,116,16,41,59,13,16,35,101,110,100,105,102,13,16,35,105,102,110,101,100,101,8,8,8,100,101,102,32,16,67,79,78,68,70,73,8,8,8,16,70,73,71,32,8,16,95,16,88,42,8,55,56,54,8,8,8,56,55,54,8,8,54,16,95,54,52,13,16,35,105,110,99,108,117,100,101,32,16,60,97,115,109,47,109,97,99,104,16,95,116,105,109,101,114,46,104,16,62,13,16,16,64,8,16,35,100,101,102,105,110,101,32,16,80,16,16,16,16,16,16,16,77,84,82,77,8,8,16,77,82,16,95,16,69,88,80,67,69,84,8,8,8,16,16,16,16,69,67,84,69,82,68,16,95,16,8,8,8,16,68,16,95,16,82,65,84,69,32,92,13,9,8,32,32,16,40,40,16,67,65,76,73,66,82,65,84,69,32,16,8,16,95,16,76,65,84,67,72,32,16,42,32,16,40,80,84,77,8,8,77,84,77,82,16,95,16,84,73,79,8,67,75,83,16,95,16,80,69,82,16,95,16,83,69,67,32,16,62,62,32,49,48,16,41,41,32,47,32,16,57,16,16,16,8,16,40,16,80,73,84,16,95,84,73,67,75,16,95,82,65,84,69,16,8,16,69,16,16,16,62,62,49,48,16,41,41,13,115,116,97,116,105,99,32,105,110,116,32,118,101,114,105,102,121,16,95,112,109,116,109,109,8,114,16,16,95,114,97,101,101,16,8,8,116,101,16,40,118,111,105,100,16,41,13,16,123,13,9,117,54,52,32,118,97,108,117,101,49,44,32,118,97,108,117,101,50,44,8,59,13,9,117,110,116,8,115,105,100,110,101,8,8,8,103,110,101,100,32,97,108,8,8,108,111,110,103,32,99,111,117,110,116,32,8,44,32,100,101,108,116,97,59,13,9,109,97,99,104,16,95,112,114,101,112,97,114,101,16,95,99,111,117,110,116,101,114,16,41,8,16,40,41,59,13,9,102,118,97,108,117,101,49,8,8,8,8,8,8,8,118,97,108,117,101,49,32,61,32,99,108,111,99,107,115,111,117,114,99,101,16,95,97,99,112,105,16,95,112,109,46,114,101,97,100,16,40,16,38,99,108,111,99,107,111,117,114,8,8,8,115,111,105,117,8,8,117,114,99,101,16,95,97,99,112,105,16,95,112,109,16,41,59,13,9,109,97,99,104,16,95,99,111,117,110,8,110,116,117,112,16,40,16,38,99,111,117,110,116,16,41,59,13,9,100,101,8,8,118,97,111,117,101,8,8,8,108,117,101,50]"
   ]
  },
  {
   "cell_type": "code",
   "execution_count": 3,
   "id": "937951b3-838f-4e74-a6a7-c3d42e1ab648",
   "metadata": {},
   "outputs": [],
   "source": [
    "arr2 = [5104,40,64,144,272,88,32,32,176,56,8,458,312,88,193,40,233,55,56,48,7,40,601,136,40,96,48,40,16,112,72,96,184,56,80,8,345,127,144,120,40,168,337,624,217,71,416,297,312,112,128,8,184,176,134,121,544,136,41,41,16,208,104,56,153,192,8,24,144,64,144,161,192,136,425,103,48,33,40,256,65,152,408,128,80,41,9,297,71,39,32,56,40,168,120,473,120,233,208,376,272,16,225,64,63,217,88,80,56,24,40,224,64,113,8,63,57,25,7,346,128,432,128,240,112,120,680,80,40,24,8,105,56,49,56,288,72,544,113,456,417,111,560,40,56,112,56,128,152,73,97,311,432,288,24,40,320,56,8,48,926,71,160,136,392,224,96,72,104,48,384,64,80,56,8,105,32,8,113,224,64,88,248,320,480,72,489,9,32,32,81,888,95,8,65,49,864,18,54,121,264,72,104,624,288,32,48,48,440,128,193,168,329,440,48,104,80,40,345,192,96,281,264,81,48,720,217,32,79,169,8,225,217,184,337,520,64,329,80,40,416,208,32,144,121,321,249,145,87,32,225,777,56,169,281,72,241,80,233,120,152,96,87,120,16,121,64,177,72,1441,129,104,753,104,208,104,856,1560,232,152,241,73,160,264,185,81,80,120,18,369,97,80,136,88,192,96,137,128,406,113,128,80,184,3599,26731,241,584,400,1488,312,265,432,592,2824,311,104,417,520,112,46,344,28,126,24,72,16,112,160,426,585,32,104,32,137,97,169,209,264,63,16,209,241,161,40,120,8,201,50,355,199,32,121,305,216,129,146,128,209,489,393,47,81,40,105,46,55,680,138,65,504,369,88,183,569,80,73,76,57,24,8,57,777,121,113,609,73,24,24,169,47,297,265,169,43,5,233,72,257,265,104,112,81,50,65,79,64,233,72,64,56,16,121,23,185,22,97,24,48,257,119,129,369,145,59,32,16,168,175,153,103,16,72,456,104,32,496,48,113,376,96,32,16,40,72,601,232,209,609,16,169,160,417,96,65,137,112,864,71,8,40,369,47,592,384,161,113,137,40,129,63,137,208,257,272,56,142,1265,80,313,96,64,56,16,137,217,56,345,72,8,81,24,40,129,104,241,8,89,8,16,200,64,153,56,105,87,241,105,10,74,16,96,145,135,40,32,137,95,193,39,64,65,8,129,168,40,241,81,208,849,21,8,40,224,672,193,185,24,72,8,10,8,241,617,185,552,272,281,472,48,48,89,16,97,201,488,120,40,137,65,161,47,161,464,169,255,145,537,561,120,8,337,136,233,89,8,48,153,289,112,352,249,57,25,56,73,160,80,664,145,95,8,16,24,576,121,97,353,56,57,73,505,120,161,44,137,80,161,44,56,64,48,16,120,233,97,585,328,56,10,77,169,129,417,104,346,153,242,105,628,32,105,634,953,129,585,433,145,153,161,111,17,210,64,137,104,161,37,65,96,72,56,64,40,27,61,106,54,8,537,48,49,120,65,138,51,42,97,39,81,185,769,127,136,128,105,97,64,72,72,80,88,88,48,95,321,120,297,113,121,45,8,242,69,209,424,72,56,48,146,24,114,82,521,32,153,98,529,137,173,152,457,529,15,16,65,48,362,80,72,64,88,64,24,23,256,64,80,48,24,24,79,55,168,280,40,402,722,193,585,119,71,90,48,10,289,71,25,369,128,88,81,88,288,144,801,500,33,32,33,33,33,33,34,32,34,889,425,369,32,57,73,202,137,329,137,122,271,104,95,24,31,193,48,24,100,112,44,48,97,95,48,48,32,311,32,72,49,16,120,32,137,121,16,36,48,16,457,95,89,32,415,81,80,81,104,500,53,29,29,28,88,128,56,193,80,113,12122,335,241,114,1889,224,297,16,161,681,81,55,633,48,96,129,208,1039,193,833,40,137,95,64,32,32,97,79,89,81,95,64,225,465,95,178,95,113,16,456,64,16,25,9,280,512,80,48,489,8,56,17,49,89,9,136,337,25,255,32,8,1105,210,44,477,530,441,72,161,82,145,43,97,88,71,15,17,383,4106,82,63,41,80,46,89,527,42,49,36,265,145,64,169,57,55,41,89,136,48,97,74,146,47,185,82,137,50,57,24,89,79,89,63,57,63,32,251,79,289,121,88,8,8,104,505,86,49,104,474,310,32,81,10,40,8,32,233,127,73,71,37,52,192,95,330,88,63,111,80,64,68,16,128,440,64,40,169,433,801,97,106,87,145,55,217,64,132,48,97,24,81,8,64,96,16,17,457,320,249,281,95,56,16,8,65,27,257,64,561,129,39,1144,161,159,97,153,48,88,16,153,385,95,297,79,441,97,111,72,369,489,105,63,161,113,161,63,105,16,80,16,377,79,473,79,152,185,1023,88,153,63,201,64,286,281,182,63,185,8,65,16,161,50,129,32,96,113,163,73,95,152,152,568,59,64,57,72,641,337,417,649,129,521,56,40,80,40,193,63,337,97,144,32,24,64,33,40,10,199,72,40,25,85,56,32,393,249,89,72,121,48,129,40,160,121,68,8,440,136,104,44,113,97,87,137,72,80,72,97,352,201,127,74,48,113,68,89,849,255,129,80,96,144,488,80,40,241,593,848,505,145,313,64,48,8,64,80,785,208,27,569,833,336,97,3020,172,482,48,48,8,153,49,241,81,161,57,32,64,16,25,304,79,346,66,33,201,113,16,24,121,79,103,72,137,176,113,120,193,496,73,48,16,33,48,88,113,57,105,102,48,40,45,554,273,48,17,97,57,96,313,210,103,58,145,55,1,476,425,80,112,202,81,134,62,1177,25,96,257,16,64,275,114,84,1128,121,608,88,281,523,64,8,128,51,8,24,217,320,201,40,16,96,47,84,249,81,64,129,73,63,17,297,105,38,593,73,257,87,105,32,105,161,64,80,289,80,713,48,129,40,48,112,56,72,81,265,89,95,40,137,52,225,313,120,105,121,16,80,35,48,88,184,16,40,153,73,103,45,681,66,153,73,146,73,440,72,47,344,257,73,367,209,97,173,72,16,8,86,346,72,65,144,205,105,104,50,104,104,80,72,273,263,113,377,111,81,48,121,89,64,40,129,63,201,89,80,88,289,273,10,101,40,113,60,88,71,96,146,57,64,409,71,257,97,326,192,104,69,13,72,35,105,7,24,88,168,187,137,576,137,41,240,929,120,48,40,441,16,105,865,103,353,72,32,8,97,32,96,281,72,64,56,129,53,145,48,161,55,32,57,14,497,40,177,52,281,352,16,32,121,121,97,8,56,65,79,152,80,72,88,64,124,14,561,297,8,185,76,106,79,89,209,40,169,48,88,56,81,103,304,97,39,153,633,672,137,489,8,113,0,464,113,129,56,89,24,169,48,153,73,161,55,80,193,202,105,17,80,360,97,104,177,53,16,369,321,80,16,97,56,410,184,632,104,465,48,97,72,472,335,113,87,65,209,706,197,96,208,55,161,80,5497,554,1336,104,80,80,96,105,113,170,186,296,345,344,417,713,1161,193,8,104,289,135,385,102,81,681,249,95,226,63,113,440,80,100,0,760,185,777,87,103,338,102,73,32,65,135,71,593,24,48,225,114,114,1633,88,90,54,57,79,49,32,124,120,377,257,233,256,121,273,111,90,60,8,48,289,88,72,72,81,24,313,104,16,144,82,104,369,273,72,137,184,112,9,120,113,160,56,216,48,64,8,88,32,121,127,56,16,56,80,88,393,1217,16,24,80,169,87,16,313,127,52,241,71,97,80,54,40,56,16,137,64,74,185,87,418,145,823,166,97,58,441,97,633,208,72,120,96,0,64,16,265,14,24,16,64,104,720,67,15,1192,225,111,27,768,177,545,481,100,210,103,1497,168,505,2209,911,120,937,8,33,440,97,249,793,2424,257,785,79,233,184,233,40,328,385,8,64,225,72,72,73,201,63,137,32,73,64,73,64,81,281,561,120,95,697,248,113,89,71,7,248,80,56,80,89,120,193,248,665,433,537,1737,95,465,160,305,64,88,25,8,1032,96,48,88,40,72,63,8,88,24,8,121,71,56,401,32,88,56,96,88,72,56,48,8,56,257,47,52,16,81,20,88,48,104,73,162,281,78,337,151,103,921,14,56,56,80,24,81,86,72,104,78,24,32,5754,76,121,87,137,393,119,46,8,130,109,378,385,7,72,59,1063,88,88,488,987,1,18,65,154,344,168,317,112,1289,65,79,40,433,55,337,104,121,209,145,185,96,96,545,353,265,72,11,100,249,87,1401,72,153,51,433,95,31,40,201,72,80,152,39,185,64,72,145,13,96,89,16,40,185,11,80,129,265,113,281,137,8,113,63,1,37,64,41,145,282,705,129,111,168,833,47,176,833,500,34,31,33,33,33,33,34,33,33,20,105,129,79,24,10,85,104,62,121,152,72,425,153,71,73,500,36,30,32,32,33,33,33,33,33,33,26,113,153,24,161,161,56,72,161,111,81,97,169,1289,143,80,201,305,119,144,37,31,232,103,296,515,8,51,65,74,8,153,24,207,64,24,193,71,24,48,72,169,79,8,201,317,32,40,80,23,160,88,89,32,32,80,64,64,5,110,16,88,85,3,167,83,21,89,425,104,89,95,95,64,465,88,161,0,59,9,650,97,1231,402,601,153,41,496,168,153,120,104,145,322,8,218,3409,257,3425,217,64,361,73,4224,469,392,97,111,256,79,170,106,160,55,57,16,41,89,63,121,88,186,16,41,56,64,88,25,72,67,8,266,154,739,880,80,29,41,40,41,88,256,8,97,11,11,145,153,71,66,153,56,201,57,145,32,24,40,16,106,7,345,144,184,257,103,75,40,161,87,34,56,64,49,298,105,53,145,65,137,29,350,70,41,153,67,67,72,64,98,8,202,32,87,89,61,146,945,266,78,289,306,385,8,72,34,9,97,82,320,33,96,54,161,59,145,64,162,53,113,24,72,17,8,64,207,72,161,127,281,80,24,121,103,73,36,122,233,48,137,183,64,105,140,256,738,1017,81,56,33,88,24,17,39,136,240,198,64,0,517,81,152,409,87,194,79,85,282,80,24,161,136,234,500,57,35,30,17,25,88,89,112,57,146,47,49,122,257,68,9,41,56,233,15,64,64,27,73,113,16,370,17,137,161,56,185,33,56,8,84,23,186,118,73,21,530,32,121,33,249,80,11,61,68,17,63,24,266,249,27,146,134,17,250,250,97,170,106,25,102,86,0,65,71,458,13,13,39,51,84,152,76,83,1241,123,94,809,336,138,129,91,1332,337,2193,87,185,501,51,26,26,31,31,32,33,33,33,33,231,65,505,55,41,201,409,209,86,16,24,64,32,121,80,56,64,65,65,71,57,87,7,394,134,56,72,88,40,80,45,114,110,106,8,137,63,47,345,16,105,80,24,89,1,73,217,103,155,9,32,481,280,497,99,8,88,32,64,56,32,378,32,102,96,17,552,80,58,19,105,321,8,55,8,87,9,224,8,33,32,17,126,90,3,67,17,75,44,87,195,295,112,1,393,82,1376,185,305,337,79,177,296,194,881,67,0,16,8,75,78,48,722,61,121,102,25,585,16,97,401,64,72,179,32,64,16,104,24,80,287,394,125,59,1385,152,143,16,177,68,5,542,241,73,145,69,1537,8,70,7,802,180,79,505,103,80,14,64,80,48,8,72,32,40,80,72,112,1,8,180,120,0,528,113,0,96,68,222,89,88,1048,104,145,382,104,94,92,69,66,821,110,16,63,139,153,96,297,544,658,64,121,66,193,53,169,59,753,63,249,38,105,257,210,80,56,105,305,71,1192,128,113,137,527,97,64,105,87,113,71,8,9,128,79,121,169,608,105,176,424,522,241,184,144,72,11,6,40,80,198,249,361,79,105,119,81,48,112,71,24,475,57,0,8,105,95,153,423,65,7,182,79,137,24,153,88,143,881,143,56,80,40,42,43,256,121,113,177,501,63,2,35,40,42,48,1,37,40,147,39,72,88,54,16,521,16,24,16,104,87,62,322,22,257,81,150,24,57,78,162,87,169,143,297,71,24,51,40,272,87,193,312,91,30,111,80,29,0,82,320,78,8,136,96,48,120,72,64,89,79,8,201,50,72,58,8,217,89,8,60,39,329,75,560,140,2181,9,48,873,169,841,2,457,256,157,169,98,264,406,359,242,120,99,641,56,72,8,458,88,136,505,80,225,64,169,111,201,63,2784,536,161,58,442,71,330,16,39,104,72,969,79,738,83,70,57,154,71,12,48,16,500,43,44,39,0,96,248,1241,272,497,88,88,281,96,32,383,72,97,87,122,184,138,9,138,63,33,7,248,41,500,58,16,25,136,81,80,88,7,162,288,153,49,104,802,215,41,48,80,145,144,79,25,501,60,38,1,40,43,39,36,44,0,41,48,72,138,169,72,465,120,200,689,263,1202,63,39,56,102,104,0,16,62,31,386,94,185,75,57,16,55,593,24,16,138,75,8,177,1,55,71,33,208,24,89,151,97,71,89,81,65,65,73,81,79,88,80,80,88,80,8,144,98,8,152,49,15,501,40,55,39,0,40,40,42,42,0,45,40,44,2,49,62,43,42,105,744,192,120,36,500,40,47,45,1,45,48,45,0,57,4,53,42,46,0,42,48,0,42,47,47,0,47,43,44,1,45,43,42,1,44,45,3,45,49,269,5,121,500,40,45,55,0,54,45,0,55,79,280,425,8,561,88,153,80,401,152,150,210,119,169,97,1,463,262,118,113,79,0,143,80,81,13,16,66,8,56,72,144,81,81,93,293,376,97,81,282,90,56,201,111,137,955,76,96,102,0,149,29,592,150,72,97,281,935,64,88,40,153,59,319,88,153,65,92,32,16,105,8,185,72,192,89,66,56,145,78,40,56,88,76,97,218,416,256,409,16,24,24,40,580,314,143,241,345,248,64,137,95,297,94,80,561,87,56,201,56,177,127,56,40,42,15,128,80,64,40,62,16,57,386,600,104,72,16,257,72,520,176,67,3,307,80,56,153,66,43,224,81,32,441,87,657,279,345,249,184,353,67,47,67,31,19,80,44,441,208,89,88,88,450,233,32,1088,96,217,64,128,79,0,8,96,8,545,105,79,240,281,500,57,6210,24,153,153,95,40,16,48,8,40,817,183,201,499,59,35,35,3,36,59,290,99,16,472,113,257,368,97,24,95,8,209,185,97,14,96,64,96,97,80,16,500,65,1,38,132,153,79,32,113,40,64,16,80,89,353,24,104,8,56,48,177,119,89,85,121,80,1112,201,1076,688,113,80,353,129,1073,176,264,120,96,111,72,88,83,104,193,32,112,97,79,8,161,4,40,129,103,177,111,82,217,16,385,204,615,97,713,89,105,64,465,89,216,216,23,402,41,47,424,254,17,48,32,49,106,352,22,88,32,52,0,346,8,129,152,24,153,71,24,81,119,64,104,56,145,233,96,97,10,77,501,85,142,24,168,112,216,32,105,121,84,285,24,88,93,174,85,0,71,112,80,96,94,384,224,265,499,140,1,83,212,100,82,152,21,624,561,72,56,32,8,65,87,1016,80,8,32,688,101,34,56,48,48,361,71,176,137,528,265,88,473,73,137,352,70,414,111,90,131,2,436,96,8,64,81,95,313,15,105,12,24,88,576,113,62,293,272,745,517,73,409,449,73,26,49,8,98,8,72,129,87,4,16,8,112,185,367,126,184,465,297,193,105,193,161,9,129,8,73,240,80,80,281,24,57,106,40,274,33,226,80,152,75,50,9,17,170,72,130,78,3,25,337,385,6,7,0,362,23,81,306,212,97,953,16,953,8,210,61,358,386,70,32,16,41,96,121,78,273,858,151,82,59,52,26,74,110,64,9,103,58,120,178,56,1017,61,7,0,31,72,106,209,89,72,72,80,89,72,25,47,41,32,8,225,66,40,32,625,103,82,16,649,91,110,46,40,138,73,778,68,32,40,146,76,137,72,218,40,241,152,80,0,0,114,52,633,364,98,96,47,58,40,104,104,159,224,80,64,416,7,0,15,260,72,192,15,129,81,152,136,137,55,89,50,128,61,78,33,40,88,89,233,145,1705,8,145,491,305,127,1857,8,151,79,1096,1385,80,417,91,73,87,343,281,111,40,616,79,9,35,64,104,185,178,1231,58,201,84,23,97,11,8,24,161,65,56,153,79,16,56]"
   ]
  },
  {
   "cell_type": "code",
   "execution_count": 5,
   "id": "73556b73-d088-4d45-aba3-2309c0e1af11",
   "metadata": {},
   "outputs": [
    {
     "data": {
      "text/plain": [
       "[<matplotlib.lines.Line2D at 0x5228d852b0>]"
      ]
     },
     "execution_count": 5,
     "metadata": {},
     "output_type": "execute_result"
    },
    {
     "data": {
      "image/png": "[encoded data removed]",
      "text/plain": [
       "<Figure size 640x480 with 1 Axes>"
      ]
     },
     "metadata": {},
     "output_type": "display_data"
    }
   ],
   "source": [
    "plt.plot(arr1)"
   ]
  },
  {
   "cell_type": "code",
   "execution_count": 6,
   "id": "dfeb426f-6a44-4980-ace6-c5b0ce4e4a49",
   "metadata": {},
   "outputs": [
    {
     "data": {
      "text/plain": [
       "[<matplotlib.lines.Line2D at 0x5228deab10>]"
      ]
     },
     "execution_count": 6,
     "metadata": {},
     "output_type": "execute_result"
    },
    {
     "data": {
      "image/png": "[encoded data removed]",
      "text/plain": [
       "<Figure size 640x480 with 1 Axes>"
      ]
     },
     "metadata": {},
     "output_type": "display_data"
    }
   ],
   "source": [
    "plt.plot(arr2)"
   ]
  },
  {
   "cell_type": "code",
   "execution_count": 10,
   "id": "ada9b5fc-6d79-4676-8f26-ae6e759aa534",
   "metadata": {},
   "outputs": [
    {
     "data": {
      "image/png": "[encoded data removed]",
      "text/plain": [
       "<Figure size 640x480 with 1 Axes>"
      ]
     },
     "metadata": {},
     "output_type": "display_data"
    }
   ],
   "source": [
    "plt.hist(arr1, 100);"
   ]
  },
  {
   "cell_type": "code",
   "execution_count": null,
   "id": "7148ceeb-1d9c-45ce-b151-3e33f6c0b44c",
   "metadata": {},
   "outputs": [],
   "source": []
  }
 ],
 "metadata": {
  "kernelspec": {
   "display_name": "Python 3 (ipykernel)",
   "language": "python",
   "name": "python3"
  },
  "language_info": {
   "codemirror_mode": {
    "name": "ipython",
    "version": 3
   },
   "file_extension": ".py",
   "mimetype": "text/x-python",
   "name": "python",
   "nbconvert_exporter": "python",
   "pygments_lexer": "ipython3",
   "version": "3.12.2"
  }
 },
 "nbformat": 4,
 "nbformat_minor": 5
}
