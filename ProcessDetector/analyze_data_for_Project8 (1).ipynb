{
 "cells": [
  {
   "cell_type": "code",
   "execution_count": 1,
   "id": "c2a62b11-19ec-45a5-b393-73d451b74c99",
   "metadata": {},
   "outputs": [],
   "source": [
    "import matplotlib.pyplot as plt\n",
    "import torch"
   ]
  },
  {
   "cell_type": "code",
   "execution_count": 116,
   "id": "bf8b5672-c114-47b0-b2a0-8ed81b3b3e37",
   "metadata": {},
   "outputs": [],
   "source": [
    "lines = open(\"C:\\\\Windows\\\\Temp\\\\beep_and_monitor_feelings_data.txt\", \"r\").readlines()"
   ]
  },
  {
   "cell_type": "code",
   "execution_count": 80,
   "id": "2ce95f3c-a60c-44cb-a021-447bf1e49b88",
   "metadata": {},
   "outputs": [],
   "source": [
    "white_space = [] # indeksy odstepow dla konkretnych wartosci ze stringa\n",
    "data = []\n",
    "x = 0\n",
    "break_signal = 0\n",
    "nap_time = []\n",
    "for line in lines[:]:\n",
    "    break_signal = 0\n",
    "    for k in line:\n",
    "        if k == '#':\n",
    "            nap_time.append({\"time\":0, \"comment\":line})\n",
    "            break_signal = 1\n",
    "        if k == ' ':\n",
    "            white_space.append(x)\n",
    "        x += 1\n",
    "        #print(k)\n",
    "    if break_signal != 1:\n",
    "        data.append(int(line[25:len(lines[0])][:2]))\n",
    "    #print(line)"
   ]
  },
  {
   "cell_type": "code",
   "execution_count": 81,
   "id": "50374002-4cb1-4f21-877f-032177474137",
   "metadata": {},
   "outputs": [
    {
     "data": {
      "text/plain": [
       "[1, 3, 14, 23, 25, 29, 31, 42, 51, 53]"
      ]
     },
     "execution_count": 81,
     "metadata": {},
     "output_type": "execute_result"
    }
   ],
   "source": [
    "white_space[:10]"
   ]
  },
  {
   "cell_type": "code",
   "execution_count": 82,
   "id": "9a698190-5953-4c64-8142-85054b16a84e",
   "metadata": {},
   "outputs": [
    {
     "data": {
      "text/plain": [
       "('08:22:18', ' 1')"
      ]
     },
     "execution_count": 82,
     "metadata": {},
     "output_type": "execute_result"
    }
   ],
   "source": [
    "lines[0][15:23], lines[0][25:len(lines[0])][:2]"
   ]
  },
  {
   "cell_type": "code",
   "execution_count": 83,
   "id": "13060a73-a324-4d12-8382-3fb0918e010e",
   "metadata": {},
   "outputs": [
    {
     "name": "stdout",
     "output_type": "stream",
     "text": [
      "tensor([1, 1, 1, 1, 1, 1, 1, 1, 1, 1])\n"
     ]
    }
   ],
   "source": [
    "xs = torch.tensor(data)\n",
    "print(xs[:10])"
   ]
  },
  {
   "cell_type": "code",
   "execution_count": 84,
   "id": "67eb80d9-84b2-4c1a-bed7-04ee41e20e9b",
   "metadata": {},
   "outputs": [
    {
     "data": {
      "text/plain": [
       "[{'time': 0, 'comment': '# spałem aplikacja dzialala i czekala na decyzje\\n'}]"
      ]
     },
     "execution_count": 84,
     "metadata": {},
     "output_type": "execute_result"
    }
   ],
   "source": [
    "nap_time"
   ]
  },
  {
   "cell_type": "code",
   "execution_count": 85,
   "id": "7b6d3f95-33b6-4448-bf4a-bfc2410447fa",
   "metadata": {},
   "outputs": [
    {
     "data": {
      "text/plain": [
       "[<matplotlib.lines.Line2D at 0x443241ef00>]"
      ]
     },
     "execution_count": 85,
     "metadata": {},
     "output_type": "execute_result"
    },
    {
     "data": {
      "image/png": "[encoded data removed]",
      "text/plain": [
       "<Figure size 640x480 with 1 Axes>"
      ]
     },
     "metadata": {},
     "output_type": "display_data"
    }
   ],
   "source": [
    "plt.plot(xs)"
   ]
  },
  {
   "cell_type": "code",
   "execution_count": 86,
   "id": "32fb0824-d0ce-4a42-a5cc-888a09800d63",
   "metadata": {},
   "outputs": [],
   "source": [
    "# ile jest sekund od 00:00 - 23:59:59 ?"
   ]
  },
  {
   "cell_type": "code",
   "execution_count": 87,
   "id": "984b6e1f-29bb-420c-bb48-dfb32be834e8",
   "metadata": {},
   "outputs": [
    {
     "data": {
      "text/plain": [
       "86400"
      ]
     },
     "execution_count": 87,
     "metadata": {},
     "output_type": "execute_result"
    }
   ],
   "source": [
    "all_day_sec = (60 * 60) * 24 # sec x mins x 24\n",
    "all_day_sec"
   ]
  },
  {
   "cell_type": "code",
   "execution_count": 88,
   "id": "17828c0e-1ee3-4309-b14f-cc4e026b38ce",
   "metadata": {},
   "outputs": [],
   "source": [
    "# jestli mam sygnal o 3 - 07-08-2024 18:21:57 | 1"
   ]
  },
  {
   "cell_type": "code",
   "execution_count": 89,
   "id": "86b0bb3c-0ff4-40d5-a41f-fa2f143217d5",
   "metadata": {},
   "outputs": [
    {
     "data": {
      "text/plain": [
       "1317"
      ]
     },
     "execution_count": 89,
     "metadata": {},
     "output_type": "execute_result"
    }
   ],
   "source": [
    "min_sec = (57) + (60 * 21)\n",
    "min_sec"
   ]
  },
  {
   "cell_type": "code",
   "execution_count": 90,
   "id": "6e61a4bb-03ae-431b-939a-688f03701c0f",
   "metadata": {},
   "outputs": [
    {
     "data": {
      "text/plain": [
       "64800"
      ]
     },
     "execution_count": 90,
     "metadata": {},
     "output_type": "execute_result"
    }
   ],
   "source": [
    "hours = (18 * 60 * 60)\n",
    "hours"
   ]
  },
  {
   "cell_type": "code",
   "execution_count": 91,
   "id": "ca14fa8f-ee57-4dfd-a31c-2b4d56b581ee",
   "metadata": {},
   "outputs": [
    {
     "data": {
      "text/plain": [
       "66117"
      ]
     },
     "execution_count": 91,
     "metadata": {},
     "output_type": "execute_result"
    }
   ],
   "source": [
    "hours + min_sec"
   ]
  },
  {
   "cell_type": "code",
   "execution_count": 92,
   "id": "1afe64fc-1dce-469a-9841-01aa87d778a3",
   "metadata": {},
   "outputs": [],
   "source": [
    "xs = torch.zeros(1, 86400)"
   ]
  },
  {
   "cell_type": "code",
   "execution_count": 93,
   "id": "42d6b189-20ae-4c92-a299-e6d625180f46",
   "metadata": {},
   "outputs": [],
   "source": [
    "xs[0][hours + min_sec] += 1"
   ]
  },
  {
   "cell_type": "code",
   "execution_count": 94,
   "id": "e5fdb216-5716-45b7-a269-d3ae696188fa",
   "metadata": {},
   "outputs": [
    {
     "data": {
      "text/plain": [
       "[<matplotlib.lines.Line2D at 0x444cfc19d0>]"
      ]
     },
     "execution_count": 94,
     "metadata": {},
     "output_type": "execute_result"
    },
    {
     "data": {
      "image/png": "[encoded data removed]",
      "text/plain": [
       "<Figure size 640x480 with 1 Axes>"
      ]
     },
     "metadata": {},
     "output_type": "display_data"
    }
   ],
   "source": [
    "plt.plot(xs[0][:])"
   ]
  },
  {
   "cell_type": "code",
   "execution_count": 95,
   "id": "74d2cdc8-cca7-4b62-baae-96578b2d1819",
   "metadata": {},
   "outputs": [],
   "source": [
    "idx_of_p = []\n",
    "idx_c = 0\n",
    "length = 0;\n",
    "for c in lines[0][15:23]:\n",
    "    if c == ':':\n",
    "        idx_of_p.append(idx_c)\n",
    "    idx_c += 1\n",
    "length = idx_c"
   ]
  },
  {
   "cell_type": "code",
   "execution_count": 96,
   "id": "717500f3-386e-4f86-b9de-32fa38a787e9",
   "metadata": {},
   "outputs": [
    {
     "data": {
      "text/plain": [
       "([2, 5], 8)"
      ]
     },
     "execution_count": 96,
     "metadata": {},
     "output_type": "execute_result"
    }
   ],
   "source": [
    "idx_of_p, length"
   ]
  },
  {
   "cell_type": "code",
   "execution_count": 97,
   "id": "ea67eb0a-b094-406e-84ec-eafc2c981686",
   "metadata": {},
   "outputs": [
    {
     "data": {
      "text/plain": [
       "('08', '22', '18')"
      ]
     },
     "execution_count": 97,
     "metadata": {},
     "output_type": "execute_result"
    }
   ],
   "source": [
    "lines[0][15:23][0:2], lines[0][15:23][3:5], lines[0][15:23][6:length]"
   ]
  },
  {
   "cell_type": "code",
   "execution_count": 98,
   "id": "cc11576e-2b18-46fd-881d-78d2ffbc4daf",
   "metadata": {},
   "outputs": [
    {
     "data": {
      "text/plain": [
       "30138"
      ]
     },
     "execution_count": 98,
     "metadata": {},
     "output_type": "execute_result"
    }
   ],
   "source": [
    "((int(lines[0][15:23][6:length]) + (60 * int(lines[0][15:23][3:5]))) + ((int(lines[0][15:23][0:2]) * 60 * 60)))"
   ]
  },
  {
   "cell_type": "code",
   "execution_count": 106,
   "id": "d0ce7740-8a80-4c98-94fb-a1a0bdfa666d",
   "metadata": {},
   "outputs": [],
   "source": [
    "index = 0\n",
    "test = 0\n",
    "data = []\n",
    "data_only_4 = []\n",
    "for line in lines[:]:\n",
    "    if line[0] in \"#\":\n",
    "        test = index\n",
    "        continue\n",
    "    #print(\"index -> \", index, test)\n",
    "    if index != test:\n",
    "        data_only_4.append( int(lines[index][25:len(lines[index])][:2]) )\n",
    "        #print( lines[index][15:23][6:length] )\n",
    "        #print(((int(lines[index][15:23][6:length]) + (60 * int(lines[index][15:23][3:5]))) + ((int(lines[index][15:23][0:2]) * 60 * 60))))\n",
    "        data.append( (((int(lines[index][15:23][6:length]) + (60 * int(lines[index][15:23][3:5]))) + ((int(lines[index][15:23][0:2]) * 60 * 60)))) )\n",
    "    index += 1"
   ]
  },
  {
   "cell_type": "code",
   "execution_count": 100,
   "id": "38a6f490-1088-4785-9651-45ce45ff5410",
   "metadata": {},
   "outputs": [
    {
     "name": "stdout",
     "output_type": "stream",
     "text": [
      "[30441, 30748, 31052, 31356, 31670, 31975, 32287, 32592, 32896, 33200, 33504, 33808, 34112, 34416, 34719, 56048, 56354, 56658, 56966, 57770, 57778, 58026, 58482, 58666, 58885, 59331, 60626, 60952, 62799, 62883, 62887, 63348, 63352, 63363, 63382, 63386, 63390, 63393, 63411, 64444, 64531, 64535, 64538, 64771, 65718, 66117, 69937, 71318, 71636]\n"
     ]
    }
   ],
   "source": [
    "print(data)"
   ]
  },
  {
   "cell_type": "code",
   "execution_count": 107,
   "id": "3ac83780-4684-4685-b5d5-ba91d791dcb5",
   "metadata": {},
   "outputs": [
    {
     "name": "stdout",
     "output_type": "stream",
     "text": [
      "[1, 1, 1, 1, 1, 1, 1, 1, 1, 1, 1, 1, 1, 1, 1, 1, 1, 1, 1, 4, 4, 4, 4, 4, 4, 4, 4, 4, 4, 4, 4, 5, 5, 5, 5, 3, 4, 5, 5, 5, 4, 3, 3, 4, 4, 1, 1, 2, 1]\n"
     ]
    }
   ],
   "source": [
    "print(data_only_4)"
   ]
  },
  {
   "cell_type": "code",
   "execution_count": 108,
   "id": "f3145485-80d3-41cd-908b-39bbc06019bf",
   "metadata": {},
   "outputs": [
    {
     "data": {
      "text/plain": [
       "True"
      ]
     },
     "execution_count": 108,
     "metadata": {},
     "output_type": "execute_result"
    }
   ],
   "source": [
    "len(data) == len(data_only_4)"
   ]
  },
  {
   "cell_type": "code",
   "execution_count": 110,
   "id": "0527935d-ca7f-4dd4-ae1c-8c3ece51d8b3",
   "metadata": {},
   "outputs": [],
   "source": [
    "xs = torch.zeros(1, 86400)\n",
    "ys = torch.zeros(1, 86400)"
   ]
  },
  {
   "cell_type": "code",
   "execution_count": 111,
   "id": "3849a011-3b3b-435f-9a86-43ff455d7da9",
   "metadata": {},
   "outputs": [],
   "source": [
    "index = 0\n",
    "chunk = 0\n",
    "for i in xs[0][:]:\n",
    "    try:\n",
    "        if index == data[chunk]:\n",
    "            #print(index)\n",
    "            xs[0][index] = 1\n",
    "            ys[0][index] = data_only_4[chunk]\n",
    "            chunk += 1\n",
    "    except IndexError:\n",
    "        xs[0][index] = 0\n",
    "    index += 1"
   ]
  },
  {
   "cell_type": "code",
   "execution_count": 113,
   "id": "af07a515-9802-411c-9138-faf133028147",
   "metadata": {},
   "outputs": [
    {
     "data": {
      "text/plain": [
       "(tensor(1.), tensor(1.))"
      ]
     },
     "execution_count": 113,
     "metadata": {},
     "output_type": "execute_result"
    }
   ],
   "source": [
    "xs[0][30441], ys[0][30441]"
   ]
  },
  {
   "cell_type": "code",
   "execution_count": 114,
   "id": "8cd239f0-524d-4352-820c-9c92c9061eb1",
   "metadata": {},
   "outputs": [
    {
     "data": {
      "text/plain": [
       "[<matplotlib.lines.Line2D at 0x444d039e50>]"
      ]
     },
     "execution_count": 114,
     "metadata": {},
     "output_type": "execute_result"
    },
    {
     "data": {
      "image/png": "[encoded data removed]",
      "text/plain": [
       "<Figure size 640x480 with 1 Axes>"
      ]
     },
     "metadata": {},
     "output_type": "display_data"
    }
   ],
   "source": [
    "plt.plot(xs[0])"
   ]
  },
  {
   "cell_type": "code",
   "execution_count": 115,
   "id": "f311b72c-074d-400d-9179-fcd4c3e175bc",
   "metadata": {},
   "outputs": [
    {
     "data": {
      "text/plain": [
       "[<matplotlib.lines.Line2D at 0x444cd0ff80>]"
      ]
     },
     "execution_count": 115,
     "metadata": {},
     "output_type": "execute_result"
    },
    {
     "data": {
      "image/png": "[encoded data removed]",
      "text/plain": [
       "<Figure size 640x480 with 1 Axes>"
      ]
     },
     "metadata": {},
     "output_type": "display_data"
    }
   ],
   "source": [
    "plt.plot(ys[0])"
   ]
  },
  {
   "cell_type": "code",
   "execution_count": null,
   "id": "86fa056a-2912-4c4f-a5b2-b8f5b9a398df",
   "metadata": {},
   "outputs": [],
   "source": []
  }
 ],
 "metadata": {
  "kernelspec": {
   "display_name": "Python 3 (ipykernel)",
   "language": "python",
   "name": "python3"
  },
  "language_info": {
   "codemirror_mode": {
    "name": "ipython",
    "version": 3
   },
   "file_extension": ".py",
   "mimetype": "text/x-python",
   "name": "python",
   "nbconvert_exporter": "python",
   "pygments_lexer": "ipython3",
   "version": "3.12.2"
  }
 },
 "nbformat": 4,
 "nbformat_minor": 5
}
