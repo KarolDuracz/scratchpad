{
 "cells": [
  {
   "cell_type": "code",
   "execution_count": 1,
   "id": "914a301a-8d3d-4102-97c4-faa19d46fb50",
   "metadata": {},
   "outputs": [],
   "source": [
    "# imports\n",
    "import os\n",
    "\n",
    "import numpy as np\n",
    "import torch\n",
    "import torch.nn as nn\n",
    "import torch.nn.functional as F\n",
    "\n",
    "import matplotlib\n",
    "import matplotlib.pyplot as plt\n",
    "%matplotlib inline"
   ]
  },
  {
   "cell_type": "code",
   "execution_count": 57,
   "id": "5a3bec1c-ea98-47ce-816a-8655d16d1c02",
   "metadata": {},
   "outputs": [],
   "source": [
    "class Net(nn.Module):\n",
    "    def __init__(self):\n",
    "        super(Net, self).__init__()\n",
    "        self.conv1 = nn.Conv2d(1, 32, 3, 1)\n",
    "        self.conv2 = nn.Conv2d(32, 64, 3, 1)\n",
    "        self.dropout1 = nn.Dropout(0.25)\n",
    "        self.dropout2 = nn.Dropout(0.5)\n",
    "        self.fc1 = nn.Linear(9216, 128)\n",
    "        #self.fc1 = nn.Linear(2304 , 128)\n",
    "        self.fc2 = nn.Linear(128, 10)\n",
    "\n",
    "    def forward(self, x):\n",
    "        x = self.conv1(x)\n",
    "        x = F.relu(x)\n",
    "        x = self.conv2(x)\n",
    "        x = F.relu(x)\n",
    "        x = F.max_pool2d(x, 2)\n",
    "        x = self.dropout1(x)\n",
    "        x = torch.flatten(x, 1)\n",
    "        x = self.fc1(x)\n",
    "        x = F.relu(x)\n",
    "        x = self.dropout2(x)\n",
    "        x = self.fc2(x)\n",
    "        output = F.log_softmax(x, dim=1)\n",
    "        return output"
   ]
  },
  {
   "cell_type": "code",
   "execution_count": 6,
   "id": "fbd536bd-f551-4d52-bb61-043d031b98a2",
   "metadata": {},
   "outputs": [
    {
     "ename": "RuntimeError",
     "evalue": "Error(s) in loading state_dict for Net:\n\tMissing key(s) in state_dict: \"H1w\", \"H1b\", \"H2w\", \"H2b\", \"H3w\", \"H3b\", \"outw\", \"outb\". \n\tUnexpected key(s) in state_dict: \"conv1.weight\", \"conv1.bias\", \"conv2.weight\", \"conv2.bias\", \"fc1.weight\", \"fc1.bias\", \"fc2.weight\", \"fc2.bias\". ",
     "output_type": "error",
     "traceback": [
      "\u001b[1;31m---------------------------------------------------------------------------\u001b[0m",
      "\u001b[1;31mRuntimeError\u001b[0m                              Traceback (most recent call last)",
      "Cell \u001b[1;32mIn[6], line 4\u001b[0m\n\u001b[0;32m      2\u001b[0m model_dir \u001b[38;5;241m=\u001b[39m \u001b[38;5;124m'\u001b[39m\u001b[38;5;124mC:\u001b[39m\u001b[38;5;130;01m\\\\\u001b[39;00m\u001b[38;5;124mUsers\u001b[39m\u001b[38;5;130;01m\\\\\u001b[39;00m\u001b[38;5;124mkdhome\u001b[39m\u001b[38;5;130;01m\\\\\u001b[39;00m\u001b[38;5;124mDocuments\u001b[39m\u001b[38;5;130;01m\\\\\u001b[39;00m\u001b[38;5;124mprogs\u001b[39m\u001b[38;5;130;01m\\\\\u001b[39;00m\u001b[38;5;124mtorchvision_mnist_example\u001b[39m\u001b[38;5;130;01m\\\\\u001b[39;00m\u001b[38;5;124m'\u001b[39m\n\u001b[0;32m      3\u001b[0m model \u001b[38;5;241m=\u001b[39m Net()\n\u001b[1;32m----> 4\u001b[0m \u001b[43mmodel\u001b[49m\u001b[38;5;241;43m.\u001b[39;49m\u001b[43mload_state_dict\u001b[49m\u001b[43m(\u001b[49m\u001b[43mtorch\u001b[49m\u001b[38;5;241;43m.\u001b[39;49m\u001b[43mload\u001b[49m\u001b[43m(\u001b[49m\u001b[43mos\u001b[49m\u001b[38;5;241;43m.\u001b[39;49m\u001b[43mpath\u001b[49m\u001b[38;5;241;43m.\u001b[39;49m\u001b[43mjoin\u001b[49m\u001b[43m(\u001b[49m\u001b[43mmodel_dir\u001b[49m\u001b[43m,\u001b[49m\u001b[43m \u001b[49m\u001b[38;5;124;43m'\u001b[39;49m\u001b[38;5;124;43mmnist_cnn.pt\u001b[39;49m\u001b[38;5;124;43m'\u001b[39;49m\u001b[43m)\u001b[49m\u001b[43m)\u001b[49m\u001b[43m)\u001b[49m\n\u001b[0;32m      5\u001b[0m model\u001b[38;5;241m.\u001b[39meval();\n",
      "File \u001b[1;32m~\\AppData\\Local\\Programs\\Python\\Python312\\Lib\\site-packages\\torch\\nn\\modules\\module.py:2189\u001b[0m, in \u001b[0;36mModule.load_state_dict\u001b[1;34m(self, state_dict, strict, assign)\u001b[0m\n\u001b[0;32m   2184\u001b[0m         error_msgs\u001b[38;5;241m.\u001b[39minsert(\n\u001b[0;32m   2185\u001b[0m             \u001b[38;5;241m0\u001b[39m, \u001b[38;5;124m'\u001b[39m\u001b[38;5;124mMissing key(s) in state_dict: \u001b[39m\u001b[38;5;132;01m{}\u001b[39;00m\u001b[38;5;124m. \u001b[39m\u001b[38;5;124m'\u001b[39m\u001b[38;5;241m.\u001b[39mformat(\n\u001b[0;32m   2186\u001b[0m                 \u001b[38;5;124m'\u001b[39m\u001b[38;5;124m, \u001b[39m\u001b[38;5;124m'\u001b[39m\u001b[38;5;241m.\u001b[39mjoin(\u001b[38;5;124mf\u001b[39m\u001b[38;5;124m'\u001b[39m\u001b[38;5;124m\"\u001b[39m\u001b[38;5;132;01m{\u001b[39;00mk\u001b[38;5;132;01m}\u001b[39;00m\u001b[38;5;124m\"\u001b[39m\u001b[38;5;124m'\u001b[39m \u001b[38;5;28;01mfor\u001b[39;00m k \u001b[38;5;129;01min\u001b[39;00m missing_keys)))\n\u001b[0;32m   2188\u001b[0m \u001b[38;5;28;01mif\u001b[39;00m \u001b[38;5;28mlen\u001b[39m(error_msgs) \u001b[38;5;241m>\u001b[39m \u001b[38;5;241m0\u001b[39m:\n\u001b[1;32m-> 2189\u001b[0m     \u001b[38;5;28;01mraise\u001b[39;00m \u001b[38;5;167;01mRuntimeError\u001b[39;00m(\u001b[38;5;124m'\u001b[39m\u001b[38;5;124mError(s) in loading state_dict for \u001b[39m\u001b[38;5;132;01m{}\u001b[39;00m\u001b[38;5;124m:\u001b[39m\u001b[38;5;130;01m\\n\u001b[39;00m\u001b[38;5;130;01m\\t\u001b[39;00m\u001b[38;5;132;01m{}\u001b[39;00m\u001b[38;5;124m'\u001b[39m\u001b[38;5;241m.\u001b[39mformat(\n\u001b[0;32m   2190\u001b[0m                        \u001b[38;5;28mself\u001b[39m\u001b[38;5;241m.\u001b[39m\u001b[38;5;18m__class__\u001b[39m\u001b[38;5;241m.\u001b[39m\u001b[38;5;18m__name__\u001b[39m, \u001b[38;5;124m\"\u001b[39m\u001b[38;5;130;01m\\n\u001b[39;00m\u001b[38;5;130;01m\\t\u001b[39;00m\u001b[38;5;124m\"\u001b[39m\u001b[38;5;241m.\u001b[39mjoin(error_msgs)))\n\u001b[0;32m   2191\u001b[0m \u001b[38;5;28;01mreturn\u001b[39;00m _IncompatibleKeys(missing_keys, unexpected_keys)\n",
      "\u001b[1;31mRuntimeError\u001b[0m: Error(s) in loading state_dict for Net:\n\tMissing key(s) in state_dict: \"H1w\", \"H1b\", \"H2w\", \"H2b\", \"H3w\", \"H3b\", \"outw\", \"outb\". \n\tUnexpected key(s) in state_dict: \"conv1.weight\", \"conv1.bias\", \"conv2.weight\", \"conv2.bias\", \"fc1.weight\", \"fc1.bias\", \"fc2.weight\", \"fc2.bias\". "
     ]
    }
   ],
   "source": [
    "# load model\n",
    "model_dir = 'C:\\\\Users\\\\kdhome\\\\Documents\\\\progs\\\\torchvision_mnist_example\\\\'\n",
    "model = Net()\n",
    "model.load_state_dict(torch.load(os.path.join(model_dir, 'mnist_cnn.pt')))\n",
    "model.eval();"
   ]
  },
  {
   "cell_type": "code",
   "execution_count": 36,
   "id": "3c8ffe0b-56cd-4a87-8631-f50b29ca5c1c",
   "metadata": {},
   "outputs": [],
   "source": [
    "import numpy as np\n",
    "import torch\n",
    "import torch.nn.functional as F\n",
    "from torchvision import datasets"
   ]
  },
  {
   "cell_type": "code",
   "execution_count": 50,
   "id": "cc3ee2c8-c041-4cc0-b3f1-ac3ad1f95d7b",
   "metadata": {},
   "outputs": [
    {
     "name": "stdout",
     "output_type": "stream",
     "text": [
      "tensor([[[[-1., -1., -1.,  ..., -1., -1., -1.],\n",
      "          [-1., -1., -1.,  ..., -1., -1., -1.],\n",
      "          [-1., -1., -1.,  ..., -1., -1., -1.],\n",
      "          ...,\n",
      "          [-1., -1., -1.,  ..., -1., -1., -1.],\n",
      "          [-1., -1., -1.,  ..., -1., -1., -1.],\n",
      "          [-1., -1., -1.,  ..., -1., -1., -1.]]],\n",
      "\n",
      "\n",
      "        [[[-1., -1., -1.,  ..., -1., -1., -1.],\n",
      "          [-1., -1., -1.,  ..., -1., -1., -1.],\n",
      "          [-1., -1., -1.,  ..., -1., -1., -1.],\n",
      "          ...,\n",
      "          [-1., -1., -1.,  ..., -1., -1., -1.],\n",
      "          [-1., -1., -1.,  ..., -1., -1., -1.],\n",
      "          [-1., -1., -1.,  ..., -1., -1., -1.]]],\n",
      "\n",
      "\n",
      "        [[[-1., -1., -1.,  ..., -1., -1., -1.],\n",
      "          [-1., -1., -1.,  ..., -1., -1., -1.],\n",
      "          [-1., -1., -1.,  ..., -1., -1., -1.],\n",
      "          ...,\n",
      "          [-1., -1., -1.,  ..., -1., -1., -1.],\n",
      "          [-1., -1., -1.,  ..., -1., -1., -1.],\n",
      "          [-1., -1., -1.,  ..., -1., -1., -1.]]],\n",
      "\n",
      "\n",
      "        ...,\n",
      "\n",
      "\n",
      "        [[[-1., -1., -1.,  ..., -1., -1., -1.],\n",
      "          [-1., -1., -1.,  ..., -1., -1., -1.],\n",
      "          [-1., -1., -1.,  ..., -1., -1., -1.],\n",
      "          ...,\n",
      "          [-1., -1., -1.,  ..., -1., -1., -1.],\n",
      "          [-1., -1., -1.,  ..., -1., -1., -1.],\n",
      "          [-1., -1., -1.,  ..., -1., -1., -1.]]],\n",
      "\n",
      "\n",
      "        [[[-1., -1., -1.,  ..., -1., -1., -1.],\n",
      "          [-1., -1., -1.,  ..., -1., -1., -1.],\n",
      "          [-1., -1., -1.,  ..., -1., -1., -1.],\n",
      "          ...,\n",
      "          [-1., -1., -1.,  ..., -1., -1., -1.],\n",
      "          [-1., -1., -1.,  ..., -1., -1., -1.],\n",
      "          [-1., -1., -1.,  ..., -1., -1., -1.]]],\n",
      "\n",
      "\n",
      "        [[[-1., -1., -1.,  ..., -1., -1., -1.],\n",
      "          [-1., -1., -1.,  ..., -1., -1., -1.],\n",
      "          [-1., -1., -1.,  ..., -1., -1., -1.],\n",
      "          ...,\n",
      "          [-1., -1., -1.,  ..., -1., -1., -1.],\n",
      "          [-1., -1., -1.,  ..., -1., -1., -1.],\n",
      "          [-1., -1., -1.,  ..., -1., -1., -1.]]]])\n",
      "tensor([[-1., -1., -1.,  ..., -1., -1., -1.],\n",
      "        [-1.,  1., -1.,  ..., -1., -1., -1.],\n",
      "        [ 1., -1., -1.,  ..., -1., -1., -1.],\n",
      "        ...,\n",
      "        [-1., -1., -1.,  ..., -1., -1.,  1.],\n",
      "        [ 1., -1., -1.,  ..., -1., -1., -1.],\n",
      "        [-1.,  1., -1.,  ..., -1., -1., -1.]])\n",
      "tensor([[[[-1.0000, -1.0000, -1.0000,  ..., -1.0000, -1.0000, -1.0000],\n",
      "          [-1.0000, -1.0000, -1.0000,  ..., -1.0000, -1.0000, -1.0000],\n",
      "          [-1.0000, -1.0000, -1.0000,  ..., -1.0000, -1.0000, -1.0000],\n",
      "          ...,\n",
      "          [-1.0000, -1.0000, -1.0000,  ..., -1.0000, -1.0000, -1.0000],\n",
      "          [-1.0000, -1.0000, -1.0000,  ..., -1.0000, -1.0000, -1.0000],\n",
      "          [-1.0000, -1.0000, -1.0000,  ..., -1.0000, -1.0000, -1.0000]]],\n",
      "\n",
      "\n",
      "        [[[-1.0000, -1.0000, -1.0000,  ..., -1.0000, -1.0000, -1.0000],\n",
      "          [-1.0000, -1.0000, -1.0000,  ..., -1.0000, -1.0000, -1.0000],\n",
      "          [-1.0000, -1.0000, -1.0000,  ..., -1.0000, -1.0000, -1.0000],\n",
      "          ...,\n",
      "          [-1.0000, -1.0000, -1.0000,  ..., -1.0000, -1.0000, -1.0000],\n",
      "          [-1.0000, -1.0000, -1.0000,  ..., -1.0000, -1.0000, -1.0000],\n",
      "          [-1.0000, -1.0000, -1.0000,  ..., -1.0000, -1.0000, -1.0000]]],\n",
      "\n",
      "\n",
      "        [[[-1.0000, -1.0000, -1.0000,  ..., -1.0000, -1.0000, -1.0000],\n",
      "          [-1.0000, -1.0000, -1.0000,  ..., -1.0000, -1.0000, -1.0000],\n",
      "          [-1.0000, -1.0000, -1.0000,  ..., -1.0000, -1.0000, -1.0000],\n",
      "          ...,\n",
      "          [-1.0000, -1.0000, -1.0000,  ..., -1.0000, -1.0000, -1.0000],\n",
      "          [-1.0000, -1.0000, -1.0000,  ..., -1.0000, -1.0000, -1.0000],\n",
      "          [-1.0000, -1.0000, -1.0000,  ..., -1.0000, -1.0000, -1.0000]]],\n",
      "\n",
      "\n",
      "        ...,\n",
      "\n",
      "\n",
      "        [[[-1.0000, -1.0000, -1.0000,  ..., -1.0000, -1.0000, -1.0000],\n",
      "          [-1.0000, -1.0000, -1.0000,  ..., -1.0000, -1.0000, -1.0000],\n",
      "          [-1.0000, -1.0000, -1.0000,  ..., -1.0000, -1.0000, -1.0000],\n",
      "          ...,\n",
      "          [-1.0000, -1.0000, -1.0000,  ...,  0.5613, -0.9520, -1.0000],\n",
      "          [-1.0000, -1.0000, -1.0000,  ..., -1.0000, -1.0000, -1.0000],\n",
      "          [-1.0000, -1.0000, -1.0000,  ..., -1.0000, -1.0000, -1.0000]]],\n",
      "\n",
      "\n",
      "        [[[-1.0000, -1.0000, -1.0000,  ..., -1.0000, -1.0000, -1.0000],\n",
      "          [-1.0000, -1.0000, -1.0000,  ..., -1.0000, -1.0000, -1.0000],\n",
      "          [-1.0000, -1.0000, -1.0000,  ..., -1.0000, -1.0000, -1.0000],\n",
      "          ...,\n",
      "          [-1.0000, -1.0000, -1.0000,  ..., -1.0000, -1.0000, -1.0000],\n",
      "          [-1.0000, -1.0000, -1.0000,  ..., -1.0000, -1.0000, -1.0000],\n",
      "          [-1.0000, -1.0000, -1.0000,  ..., -1.0000, -1.0000, -1.0000]]],\n",
      "\n",
      "\n",
      "        [[[-1.0000, -1.0000, -1.0000,  ..., -1.0000, -1.0000, -1.0000],\n",
      "          [-1.0000, -1.0000, -1.0000,  ..., -1.0000, -1.0000, -1.0000],\n",
      "          [-1.0000, -1.0000, -1.0000,  ..., -1.0000, -1.0000, -1.0000],\n",
      "          ...,\n",
      "          [-1.0000, -1.0000, -1.0000,  ..., -0.8499, -1.0000, -1.0000],\n",
      "          [-1.0000, -1.0000, -1.0000,  ..., -1.0000, -1.0000, -1.0000],\n",
      "          [-1.0000, -1.0000, -1.0000,  ..., -1.0000, -1.0000, -1.0000]]]])\n",
      "tensor([[-1., -1.,  1.,  ..., -1., -1., -1.],\n",
      "        [-1., -1., -1.,  ...,  1., -1., -1.],\n",
      "        [-1., -1., -1.,  ..., -1.,  1., -1.],\n",
      "        ...,\n",
      "        [-1., -1.,  1.,  ..., -1., -1., -1.],\n",
      "        [ 1., -1., -1.,  ..., -1., -1., -1.],\n",
      "        [-1., -1.,  1.,  ..., -1., -1., -1.]])\n"
     ]
    }
   ],
   "source": [
    "torch.manual_seed(1337)\n",
    "np.random.seed(1337)\n",
    "\n",
    "for split in {'train', 'test'}:\n",
    "\n",
    "    data = datasets.MNIST(model_dir, train=split=='train', download=True)\n",
    "\n",
    "    n = 7291 if split == 'train' else 2007\n",
    "    rp = np.random.permutation(len(data))[:n]\n",
    "\n",
    "    X = torch.full((n, 1, 16, 16), 0.0, dtype=torch.float32)\n",
    "    Y = torch.full((n, 10), -1.0, dtype=torch.float32)\n",
    "    for i, ix in enumerate(rp):\n",
    "        I, yint = data[int(ix)]\n",
    "        # PIL image -> numpy -> torch tensor -> [-1, 1] fp32\n",
    "        xi = torch.from_numpy(np.array(I, dtype=np.float32)) / 127.5 - 1.0\n",
    "        # add a fake batch dimension and a channel dimension of 1 or F.interpolate won't be happy\n",
    "        xi = xi[None, None, ...]\n",
    "        # resize to (16, 16) images with bilinear interpolation\n",
    "        xi = F.interpolate(xi, (16, 16), mode='bilinear')\n",
    "        X[i] = xi[0] # store\n",
    "\n",
    "        # set the correct class to have target of +1.0\n",
    "        Y[i, yint] = 1.0\n",
    "    print(X)\n",
    "    print(Y)\n",
    "    torch.save((X, Y), model_dir + split + '1989.pt')"
   ]
  },
  {
   "cell_type": "code",
   "execution_count": 51,
   "id": "66be7d88-5e17-4845-b1f1-db69a58ad4e4",
   "metadata": {},
   "outputs": [],
   "source": [
    "# load data\n",
    "Xtr, Ytr = torch.load(model_dir+'train1989.pt')\n",
    "Xte, Yte = torch.load(model_dir+'test1989.pt')"
   ]
  },
  {
   "cell_type": "code",
   "execution_count": 41,
   "id": "48056121-c07f-4e21-9deb-93b419a52f50",
   "metadata": {},
   "outputs": [],
   "source": [
    "def grid_mistakes(X, Y):\n",
    "    \n",
    "    plt.figure(figsize=(14, 4))\n",
    "    ishow, nshow = 0, 14\n",
    "    for ix in range(X.size(0)):\n",
    "        x, y = X[[ix]], Y[[ix]]\n",
    "        print(x.shape, y.shape)\n",
    "        break\n",
    "        yhat = model(x)\n",
    "        yi = y.argmax()\n",
    "        yhati = yhat.argmax()\n",
    "        if yi != yhati:\n",
    "            plt.subplot(2, 7, ishow+1)\n",
    "            plt.imshow(x[0,0], cmap='gray')\n",
    "            plt.title(f'gt={yi}, pred={yhati}')\n",
    "            plt.axis('off')\n",
    "            ishow += 1\n",
    "            if ishow >= nshow:\n",
    "                break"
   ]
  },
  {
   "cell_type": "code",
   "execution_count": 42,
   "id": "a1370849-391e-4561-93a0-94a1318d3fa1",
   "metadata": {},
   "outputs": [
    {
     "name": "stdout",
     "output_type": "stream",
     "text": [
      "torch.Size([1, 1, 16, 16]) torch.Size([1, 10])\n"
     ]
    },
    {
     "data": {
      "text/plain": [
       "<Figure size 1400x400 with 0 Axes>"
      ]
     },
     "metadata": {},
     "output_type": "display_data"
    }
   ],
   "source": [
    "grid_mistakes(Xtr, Ytr) # training set mistakes"
   ]
  },
  {
   "cell_type": "code",
   "execution_count": 15,
   "id": "92a6cf22-2448-4bed-b687-85a5b36a5082",
   "metadata": {},
   "outputs": [
    {
     "data": {
      "text/plain": [
       "<matplotlib.image.AxesImage at 0x48768e7950>"
      ]
     },
     "execution_count": 15,
     "metadata": {},
     "output_type": "execute_result"
    },
    {
     "data": {
      "image/png": "[encoded data removed]",
      "text/plain": [
       "<Figure size 640x480 with 1 Axes>"
      ]
     },
     "metadata": {},
     "output_type": "display_data"
    }
   ],
   "source": [
    "plt.imshow(Xtr[0][0])"
   ]
  },
  {
   "cell_type": "code",
   "execution_count": 30,
   "id": "bccaf06b-fe4c-409f-8de0-935d7e31383b",
   "metadata": {},
   "outputs": [
    {
     "data": {
      "text/plain": [
       "6"
      ]
     },
     "execution_count": 30,
     "metadata": {},
     "output_type": "execute_result"
    }
   ],
   "source": [
    "Ytr[0].max(0).indices.item()"
   ]
  },
  {
   "cell_type": "code",
   "execution_count": 31,
   "id": "2331b555-eb6a-4787-a8a7-8437fbfa890c",
   "metadata": {},
   "outputs": [
    {
     "ename": "RuntimeError",
     "evalue": "mat1 and mat2 shapes cannot be multiplied (1x2304 and 9216x128)",
     "output_type": "error",
     "traceback": [
      "\u001b[1;31m---------------------------------------------------------------------------\u001b[0m",
      "\u001b[1;31mRuntimeError\u001b[0m                              Traceback (most recent call last)",
      "Cell \u001b[1;32mIn[31], line 1\u001b[0m\n\u001b[1;32m----> 1\u001b[0m \u001b[43mgrid_mistakes\u001b[49m\u001b[43m(\u001b[49m\u001b[43mXtr\u001b[49m\u001b[43m,\u001b[49m\u001b[43m \u001b[49m\u001b[43mYtr\u001b[49m\u001b[43m)\u001b[49m \u001b[38;5;66;03m# training set mistakes\u001b[39;00m\n",
      "Cell \u001b[1;32mIn[9], line 7\u001b[0m, in \u001b[0;36mgrid_mistakes\u001b[1;34m(X, Y)\u001b[0m\n\u001b[0;32m      5\u001b[0m \u001b[38;5;28;01mfor\u001b[39;00m ix \u001b[38;5;129;01min\u001b[39;00m \u001b[38;5;28mrange\u001b[39m(X\u001b[38;5;241m.\u001b[39msize(\u001b[38;5;241m0\u001b[39m)):\n\u001b[0;32m      6\u001b[0m     x, y \u001b[38;5;241m=\u001b[39m X[[ix]], Y[[ix]]\n\u001b[1;32m----> 7\u001b[0m     yhat \u001b[38;5;241m=\u001b[39m \u001b[43mmodel\u001b[49m\u001b[43m(\u001b[49m\u001b[43mx\u001b[49m\u001b[43m)\u001b[49m\n\u001b[0;32m      8\u001b[0m     yi \u001b[38;5;241m=\u001b[39m y\u001b[38;5;241m.\u001b[39margmax()\n\u001b[0;32m      9\u001b[0m     yhati \u001b[38;5;241m=\u001b[39m yhat\u001b[38;5;241m.\u001b[39margmax()\n",
      "File \u001b[1;32m~\\AppData\\Local\\Programs\\Python\\Python312\\Lib\\site-packages\\torch\\nn\\modules\\module.py:1532\u001b[0m, in \u001b[0;36mModule._wrapped_call_impl\u001b[1;34m(self, *args, **kwargs)\u001b[0m\n\u001b[0;32m   1530\u001b[0m     \u001b[38;5;28;01mreturn\u001b[39;00m \u001b[38;5;28mself\u001b[39m\u001b[38;5;241m.\u001b[39m_compiled_call_impl(\u001b[38;5;241m*\u001b[39margs, \u001b[38;5;241m*\u001b[39m\u001b[38;5;241m*\u001b[39mkwargs)  \u001b[38;5;66;03m# type: ignore[misc]\u001b[39;00m\n\u001b[0;32m   1531\u001b[0m \u001b[38;5;28;01melse\u001b[39;00m:\n\u001b[1;32m-> 1532\u001b[0m     \u001b[38;5;28;01mreturn\u001b[39;00m \u001b[38;5;28;43mself\u001b[39;49m\u001b[38;5;241;43m.\u001b[39;49m\u001b[43m_call_impl\u001b[49m\u001b[43m(\u001b[49m\u001b[38;5;241;43m*\u001b[39;49m\u001b[43margs\u001b[49m\u001b[43m,\u001b[49m\u001b[43m \u001b[49m\u001b[38;5;241;43m*\u001b[39;49m\u001b[38;5;241;43m*\u001b[39;49m\u001b[43mkwargs\u001b[49m\u001b[43m)\u001b[49m\n",
      "File \u001b[1;32m~\\AppData\\Local\\Programs\\Python\\Python312\\Lib\\site-packages\\torch\\nn\\modules\\module.py:1541\u001b[0m, in \u001b[0;36mModule._call_impl\u001b[1;34m(self, *args, **kwargs)\u001b[0m\n\u001b[0;32m   1536\u001b[0m \u001b[38;5;66;03m# If we don't have any hooks, we want to skip the rest of the logic in\u001b[39;00m\n\u001b[0;32m   1537\u001b[0m \u001b[38;5;66;03m# this function, and just call forward.\u001b[39;00m\n\u001b[0;32m   1538\u001b[0m \u001b[38;5;28;01mif\u001b[39;00m \u001b[38;5;129;01mnot\u001b[39;00m (\u001b[38;5;28mself\u001b[39m\u001b[38;5;241m.\u001b[39m_backward_hooks \u001b[38;5;129;01mor\u001b[39;00m \u001b[38;5;28mself\u001b[39m\u001b[38;5;241m.\u001b[39m_backward_pre_hooks \u001b[38;5;129;01mor\u001b[39;00m \u001b[38;5;28mself\u001b[39m\u001b[38;5;241m.\u001b[39m_forward_hooks \u001b[38;5;129;01mor\u001b[39;00m \u001b[38;5;28mself\u001b[39m\u001b[38;5;241m.\u001b[39m_forward_pre_hooks\n\u001b[0;32m   1539\u001b[0m         \u001b[38;5;129;01mor\u001b[39;00m _global_backward_pre_hooks \u001b[38;5;129;01mor\u001b[39;00m _global_backward_hooks\n\u001b[0;32m   1540\u001b[0m         \u001b[38;5;129;01mor\u001b[39;00m _global_forward_hooks \u001b[38;5;129;01mor\u001b[39;00m _global_forward_pre_hooks):\n\u001b[1;32m-> 1541\u001b[0m     \u001b[38;5;28;01mreturn\u001b[39;00m \u001b[43mforward_call\u001b[49m\u001b[43m(\u001b[49m\u001b[38;5;241;43m*\u001b[39;49m\u001b[43margs\u001b[49m\u001b[43m,\u001b[49m\u001b[43m \u001b[49m\u001b[38;5;241;43m*\u001b[39;49m\u001b[38;5;241;43m*\u001b[39;49m\u001b[43mkwargs\u001b[49m\u001b[43m)\u001b[49m\n\u001b[0;32m   1543\u001b[0m \u001b[38;5;28;01mtry\u001b[39;00m:\n\u001b[0;32m   1544\u001b[0m     result \u001b[38;5;241m=\u001b[39m \u001b[38;5;28;01mNone\u001b[39;00m\n",
      "Cell \u001b[1;32mIn[2], line 19\u001b[0m, in \u001b[0;36mNet.forward\u001b[1;34m(self, x)\u001b[0m\n\u001b[0;32m     17\u001b[0m x \u001b[38;5;241m=\u001b[39m \u001b[38;5;28mself\u001b[39m\u001b[38;5;241m.\u001b[39mdropout1(x)\n\u001b[0;32m     18\u001b[0m x \u001b[38;5;241m=\u001b[39m torch\u001b[38;5;241m.\u001b[39mflatten(x, \u001b[38;5;241m1\u001b[39m)\n\u001b[1;32m---> 19\u001b[0m x \u001b[38;5;241m=\u001b[39m \u001b[38;5;28;43mself\u001b[39;49m\u001b[38;5;241;43m.\u001b[39;49m\u001b[43mfc1\u001b[49m\u001b[43m(\u001b[49m\u001b[43mx\u001b[49m\u001b[43m)\u001b[49m\n\u001b[0;32m     20\u001b[0m x \u001b[38;5;241m=\u001b[39m F\u001b[38;5;241m.\u001b[39mrelu(x)\n\u001b[0;32m     21\u001b[0m x \u001b[38;5;241m=\u001b[39m \u001b[38;5;28mself\u001b[39m\u001b[38;5;241m.\u001b[39mdropout2(x)\n",
      "File \u001b[1;32m~\\AppData\\Local\\Programs\\Python\\Python312\\Lib\\site-packages\\torch\\nn\\modules\\module.py:1532\u001b[0m, in \u001b[0;36mModule._wrapped_call_impl\u001b[1;34m(self, *args, **kwargs)\u001b[0m\n\u001b[0;32m   1530\u001b[0m     \u001b[38;5;28;01mreturn\u001b[39;00m \u001b[38;5;28mself\u001b[39m\u001b[38;5;241m.\u001b[39m_compiled_call_impl(\u001b[38;5;241m*\u001b[39margs, \u001b[38;5;241m*\u001b[39m\u001b[38;5;241m*\u001b[39mkwargs)  \u001b[38;5;66;03m# type: ignore[misc]\u001b[39;00m\n\u001b[0;32m   1531\u001b[0m \u001b[38;5;28;01melse\u001b[39;00m:\n\u001b[1;32m-> 1532\u001b[0m     \u001b[38;5;28;01mreturn\u001b[39;00m \u001b[38;5;28;43mself\u001b[39;49m\u001b[38;5;241;43m.\u001b[39;49m\u001b[43m_call_impl\u001b[49m\u001b[43m(\u001b[49m\u001b[38;5;241;43m*\u001b[39;49m\u001b[43margs\u001b[49m\u001b[43m,\u001b[49m\u001b[43m \u001b[49m\u001b[38;5;241;43m*\u001b[39;49m\u001b[38;5;241;43m*\u001b[39;49m\u001b[43mkwargs\u001b[49m\u001b[43m)\u001b[49m\n",
      "File \u001b[1;32m~\\AppData\\Local\\Programs\\Python\\Python312\\Lib\\site-packages\\torch\\nn\\modules\\module.py:1541\u001b[0m, in \u001b[0;36mModule._call_impl\u001b[1;34m(self, *args, **kwargs)\u001b[0m\n\u001b[0;32m   1536\u001b[0m \u001b[38;5;66;03m# If we don't have any hooks, we want to skip the rest of the logic in\u001b[39;00m\n\u001b[0;32m   1537\u001b[0m \u001b[38;5;66;03m# this function, and just call forward.\u001b[39;00m\n\u001b[0;32m   1538\u001b[0m \u001b[38;5;28;01mif\u001b[39;00m \u001b[38;5;129;01mnot\u001b[39;00m (\u001b[38;5;28mself\u001b[39m\u001b[38;5;241m.\u001b[39m_backward_hooks \u001b[38;5;129;01mor\u001b[39;00m \u001b[38;5;28mself\u001b[39m\u001b[38;5;241m.\u001b[39m_backward_pre_hooks \u001b[38;5;129;01mor\u001b[39;00m \u001b[38;5;28mself\u001b[39m\u001b[38;5;241m.\u001b[39m_forward_hooks \u001b[38;5;129;01mor\u001b[39;00m \u001b[38;5;28mself\u001b[39m\u001b[38;5;241m.\u001b[39m_forward_pre_hooks\n\u001b[0;32m   1539\u001b[0m         \u001b[38;5;129;01mor\u001b[39;00m _global_backward_pre_hooks \u001b[38;5;129;01mor\u001b[39;00m _global_backward_hooks\n\u001b[0;32m   1540\u001b[0m         \u001b[38;5;129;01mor\u001b[39;00m _global_forward_hooks \u001b[38;5;129;01mor\u001b[39;00m _global_forward_pre_hooks):\n\u001b[1;32m-> 1541\u001b[0m     \u001b[38;5;28;01mreturn\u001b[39;00m \u001b[43mforward_call\u001b[49m\u001b[43m(\u001b[49m\u001b[38;5;241;43m*\u001b[39;49m\u001b[43margs\u001b[49m\u001b[43m,\u001b[49m\u001b[43m \u001b[49m\u001b[38;5;241;43m*\u001b[39;49m\u001b[38;5;241;43m*\u001b[39;49m\u001b[43mkwargs\u001b[49m\u001b[43m)\u001b[49m\n\u001b[0;32m   1543\u001b[0m \u001b[38;5;28;01mtry\u001b[39;00m:\n\u001b[0;32m   1544\u001b[0m     result \u001b[38;5;241m=\u001b[39m \u001b[38;5;28;01mNone\u001b[39;00m\n",
      "File \u001b[1;32m~\\AppData\\Local\\Programs\\Python\\Python312\\Lib\\site-packages\\torch\\nn\\modules\\linear.py:116\u001b[0m, in \u001b[0;36mLinear.forward\u001b[1;34m(self, input)\u001b[0m\n\u001b[0;32m    115\u001b[0m \u001b[38;5;28;01mdef\u001b[39;00m \u001b[38;5;21mforward\u001b[39m(\u001b[38;5;28mself\u001b[39m, \u001b[38;5;28minput\u001b[39m: Tensor) \u001b[38;5;241m-\u001b[39m\u001b[38;5;241m>\u001b[39m Tensor:\n\u001b[1;32m--> 116\u001b[0m     \u001b[38;5;28;01mreturn\u001b[39;00m \u001b[43mF\u001b[49m\u001b[38;5;241;43m.\u001b[39;49m\u001b[43mlinear\u001b[49m\u001b[43m(\u001b[49m\u001b[38;5;28;43minput\u001b[39;49m\u001b[43m,\u001b[49m\u001b[43m \u001b[49m\u001b[38;5;28;43mself\u001b[39;49m\u001b[38;5;241;43m.\u001b[39;49m\u001b[43mweight\u001b[49m\u001b[43m,\u001b[49m\u001b[43m \u001b[49m\u001b[38;5;28;43mself\u001b[39;49m\u001b[38;5;241;43m.\u001b[39;49m\u001b[43mbias\u001b[49m\u001b[43m)\u001b[49m\n",
      "\u001b[1;31mRuntimeError\u001b[0m: mat1 and mat2 shapes cannot be multiplied (1x2304 and 9216x128)"
     ]
    },
    {
     "data": {
      "text/plain": [
       "<Figure size 1400x400 with 0 Axes>"
      ]
     },
     "metadata": {},
     "output_type": "display_data"
    }
   ],
   "source": [
    "grid_mistakes(Xtr, Ytr) # training set mistakes"
   ]
  },
  {
   "cell_type": "code",
   "execution_count": 3,
   "id": "f9f437ae-766c-421f-95a1-195ba5e4a89c",
   "metadata": {},
   "outputs": [],
   "source": [
    "class Net(nn.Module):\n",
    "    \"\"\" 1989 LeCun ConvNet per description in the paper \"\"\"\n",
    "\n",
    "    def __init__(self):\n",
    "        super().__init__()\n",
    "\n",
    "        # initialization as described in the paper to my best ability, but it doesn't look right...\n",
    "        winit = lambda fan_in, *shape: (torch.rand(*shape) - 0.5) * 2 * 2.4 / fan_in**0.5\n",
    "        macs = 0 # keep track of MACs (multiply accumulates)\n",
    "        acts = 0 # keep track of number of activations\n",
    "\n",
    "        # H1 layer parameters and their initialization\n",
    "        self.H1w = nn.Parameter(winit(5*5*1, 12, 1, 5, 5))\n",
    "        self.H1b = nn.Parameter(torch.zeros(12, 8, 8)) # presumably init to zero for biases\n",
    "        assert self.H1w.nelement() + self.H1b.nelement() == 1068\n",
    "        macs += (5*5*1) * (8*8) * 12\n",
    "        acts += (8*8) * 12\n",
    "\n",
    "        # H2 layer parameters and their initialization\n",
    "        \"\"\"\n",
    "        H2 neurons all connect to only 8 of the 12 input planes, with an unspecified pattern\n",
    "        I am going to assume the most sensible block pattern where 4 planes at a time connect\n",
    "        to differently overlapping groups of 8/12 input planes. We will implement this with 3\n",
    "        separate convolutions that we concatenate the results of.\n",
    "        \"\"\"\n",
    "        self.H2w = nn.Parameter(winit(5*5*8, 12, 8, 5, 5))\n",
    "        self.H2b = nn.Parameter(torch.zeros(12, 4, 4)) # presumably init to zero for biases\n",
    "        assert self.H2w.nelement() + self.H2b.nelement() == 2592\n",
    "        macs += (5*5*8) * (4*4) * 12\n",
    "        acts += (4*4) * 12\n",
    "\n",
    "        # H3 is a fully connected layer\n",
    "        self.H3w = nn.Parameter(winit(4*4*12, 4*4*12, 30))\n",
    "        self.H3b = nn.Parameter(torch.zeros(30))\n",
    "        assert self.H3w.nelement() + self.H3b.nelement() == 5790\n",
    "        macs += (4*4*12) * 30\n",
    "        acts += 30\n",
    "\n",
    "        # output layer is also fully connected layer\n",
    "        self.outw = nn.Parameter(winit(30, 30, 10))\n",
    "        self.outb = nn.Parameter(-torch.ones(10)) # 9/10 targets are -1, so makes sense to init slightly towards it\n",
    "        assert self.outw.nelement() + self.outb.nelement() == 310\n",
    "        macs += 30 * 10\n",
    "        acts += 10\n",
    "\n",
    "        self.macs = macs\n",
    "        self.acts = acts\n",
    "\n",
    "    def forward(self, x):\n",
    "\n",
    "        # x has shape (1, 1, 16, 16)\n",
    "        x = F.pad(x, (2, 2, 2, 2), 'constant', -1.0) # pad by two using constant -1 for background\n",
    "        x = F.conv2d(x, self.H1w, stride=2) + self.H1b\n",
    "        x = torch.tanh(x)\n",
    "\n",
    "        # x is now shape (1, 12, 8, 8)\n",
    "        x = F.pad(x, (2, 2, 2, 2), 'constant', -1.0) # pad by two using constant -1 for background\n",
    "        slice1 = F.conv2d(x[:, 0:8], self.H2w[0:4], stride=2) # first 4 planes look at first 8 input planes\n",
    "        slice2 = F.conv2d(x[:, 4:12], self.H2w[4:8], stride=2) # next 4 planes look at last 8 input planes\n",
    "        slice3 = F.conv2d(torch.cat((x[:, 0:4], x[:, 8:12]), dim=1), self.H2w[8:12], stride=2) # last 4 planes are cross\n",
    "        x = torch.cat((slice1, slice2, slice3), dim=1) + self.H2b\n",
    "        x = torch.tanh(x)\n",
    "\n",
    "        # x is now shape (1, 12, 4, 4)\n",
    "        x = x.flatten(start_dim=1) # (1, 12*4*4)\n",
    "        x = x @ self.H3w + self.H3b\n",
    "        x = torch.tanh(x)\n",
    "\n",
    "        # x is now shape (1, 30)\n",
    "        x = x @ self.outw + self.outb\n",
    "        x = torch.tanh(x)\n",
    "\n",
    "         # x is finally shape (1, 10)\n",
    "        return x"
   ]
  },
  {
   "cell_type": "code",
   "execution_count": 53,
   "id": "5848fc25-7f65-4111-8331-065ea37df9f2",
   "metadata": {},
   "outputs": [],
   "source": [
    "m = Net()"
   ]
  },
  {
   "cell_type": "code",
   "execution_count": 56,
   "id": "835cbf81-fe98-4870-bc59-98ceebbfd1e8",
   "metadata": {},
   "outputs": [
    {
     "name": "stdout",
     "output_type": "stream",
     "text": [
      "H1w torch.Size([12, 1, 5, 5])\n",
      "H1b torch.Size([12, 8, 8])\n",
      "H2w torch.Size([12, 8, 5, 5])\n",
      "H2b torch.Size([12, 4, 4])\n",
      "H3w torch.Size([192, 30])\n",
      "H3b torch.Size([30])\n",
      "outw torch.Size([30, 10])\n",
      "outb torch.Size([10])\n"
     ]
    }
   ],
   "source": [
    "sd_hf = m.state_dict()\n",
    "\n",
    "for k, v in sd_hf.items():\n",
    "    print(k, v.shape)"
   ]
  },
  {
   "cell_type": "code",
   "execution_count": 59,
   "id": "c29270dd-c19d-4ffb-8014-89b90d68432d",
   "metadata": {},
   "outputs": [
    {
     "name": "stdout",
     "output_type": "stream",
     "text": [
      "conv1.weight torch.Size([32, 1, 3, 3])\n",
      "conv1.bias torch.Size([32])\n",
      "conv2.weight torch.Size([64, 32, 3, 3])\n",
      "conv2.bias torch.Size([64])\n",
      "fc1.weight torch.Size([128, 9216])\n",
      "fc1.bias torch.Size([128])\n",
      "fc2.weight torch.Size([10, 128])\n",
      "fc2.bias torch.Size([10])\n"
     ]
    }
   ],
   "source": [
    "m = Net()\n",
    "sd_hf = m.state_dict()\n",
    "\n",
    "for k, v in sd_hf.items():\n",
    "    print(k, v.shape)"
   ]
  },
  {
   "cell_type": "code",
   "execution_count": null,
   "id": "57f5dd93-3361-4d25-b82a-a1e658a34480",
   "metadata": {},
   "outputs": [],
   "source": []
  },
  {
   "cell_type": "code",
   "execution_count": null,
   "id": "f66bf151-ecd8-42fb-97a7-b9bebc052d2b",
   "metadata": {},
   "outputs": [],
   "source": []
  },
  {
   "cell_type": "code",
   "execution_count": null,
   "id": "43606ba7-716a-4cd5-98eb-8bd3802aef7f",
   "metadata": {},
   "outputs": [],
   "source": []
  },
  {
   "cell_type": "code",
   "execution_count": null,
   "id": "696a8eea-a2be-4c2c-a8f3-64cefa6b24ce",
   "metadata": {},
   "outputs": [],
   "source": []
  },
  {
   "cell_type": "code",
   "execution_count": 7,
   "id": "2c30904d-554d-4e06-8b66-1d172560b6e6",
   "metadata": {},
   "outputs": [],
   "source": [
    "class Net(nn.Module):\n",
    "    \"\"\" 1989 LeCun ConvNet per description in the paper \"\"\"\n",
    "\n",
    "    def __init__(self):\n",
    "        super().__init__()\n",
    "\n",
    "        # initialization as described in the paper to my best ability, but it doesn't look right...\n",
    "        winit = lambda fan_in, *shape: (torch.rand(*shape) - 0.5) * 2 * 2.4 / fan_in**0.5\n",
    "        macs = 0 # keep track of MACs (multiply accumulates)\n",
    "        acts = 0 # keep track of number of activations\n",
    "\n",
    "        # H1 layer parameters and their initialization\n",
    "        self.H1w = nn.Parameter(winit(5*5*1, 12, 1, 5, 5))\n",
    "        self.H1b = nn.Parameter(torch.zeros(12, 8, 8)) # presumably init to zero for biases\n",
    "        assert self.H1w.nelement() + self.H1b.nelement() == 1068\n",
    "        macs += (5*5*1) * (8*8) * 12\n",
    "        acts += (8*8) * 12\n",
    "\n",
    "        # H2 layer parameters and their initialization\n",
    "        \"\"\"\n",
    "        H2 neurons all connect to only 8 of the 12 input planes, with an unspecified pattern\n",
    "        I am going to assume the most sensible block pattern where 4 planes at a time connect\n",
    "        to differently overlapping groups of 8/12 input planes. We will implement this with 3\n",
    "        separate convolutions that we concatenate the results of.\n",
    "        \"\"\"\n",
    "        self.H2w = nn.Parameter(winit(5*5*8, 12, 8, 5, 5))\n",
    "        self.H2b = nn.Parameter(torch.zeros(12, 4, 4)) # presumably init to zero for biases\n",
    "        assert self.H2w.nelement() + self.H2b.nelement() == 2592\n",
    "        macs += (5*5*8) * (4*4) * 12\n",
    "        acts += (4*4) * 12\n",
    "\n",
    "        # H3 is a fully connected layer\n",
    "        self.H3w = nn.Parameter(winit(4*4*12, 4*4*12, 30))\n",
    "        self.H3b = nn.Parameter(torch.zeros(30))\n",
    "        assert self.H3w.nelement() + self.H3b.nelement() == 5790\n",
    "        macs += (4*4*12) * 30\n",
    "        acts += 30\n",
    "\n",
    "        # output layer is also fully connected layer\n",
    "        self.outw = nn.Parameter(winit(30, 30, 10))\n",
    "        self.outb = nn.Parameter(-torch.ones(10)) # 9/10 targets are -1, so makes sense to init slightly towards it\n",
    "        assert self.outw.nelement() + self.outb.nelement() == 310\n",
    "        macs += 30 * 10\n",
    "        acts += 10\n",
    "\n",
    "        self.macs = macs\n",
    "        self.acts = acts\n",
    "\n",
    "    def forward(self, x):\n",
    "\n",
    "        # x has shape (1, 1, 16, 16)\n",
    "        x = F.pad(x, (2, 2, 2, 2), 'constant', -1.0) # pad by two using constant -1 for background\n",
    "        x = F.conv2d(x, self.H1w, stride=2) + self.H1b\n",
    "        x = torch.tanh(x)\n",
    "\n",
    "        # x is now shape (1, 12, 8, 8)\n",
    "        x = F.pad(x, (2, 2, 2, 2), 'constant', -1.0) # pad by two using constant -1 for background\n",
    "        slice1 = F.conv2d(x[:, 0:8], self.H2w[0:4], stride=2) # first 4 planes look at first 8 input planes\n",
    "        slice2 = F.conv2d(x[:, 4:12], self.H2w[4:8], stride=2) # next 4 planes look at last 8 input planes\n",
    "        slice3 = F.conv2d(torch.cat((x[:, 0:4], x[:, 8:12]), dim=1), self.H2w[8:12], stride=2) # last 4 planes are cross\n",
    "        x = torch.cat((slice1, slice2, slice3), dim=1) + self.H2b\n",
    "        x = torch.tanh(x)\n",
    "\n",
    "        # x is now shape (1, 12, 4, 4)\n",
    "        x = x.flatten(start_dim=1) # (1, 12*4*4)\n",
    "        x = x @ self.H3w + self.H3b\n",
    "        x = torch.tanh(x)\n",
    "\n",
    "        # x is now shape (1, 30)\n",
    "        x = x @ self.outw + self.outb\n",
    "        x = torch.tanh(x)\n",
    "\n",
    "         # x is finally shape (1, 10)\n",
    "        return x"
   ]
  },
  {
   "cell_type": "code",
   "execution_count": 10,
   "id": "78f7b946-ed1a-49fa-a11a-3394b653999f",
   "metadata": {},
   "outputs": [],
   "source": [
    "model_dir = 'C:\\\\Users\\\\kdhome\\\\Documents\\\\progs\\\\torchvision_mnist_example\\\\out\\\\modern\\\\'\n",
    "model = Net()\n",
    "model.load_state_dict(torch.load(os.path.join(model_dir, 'model.pt')))\n",
    "model.eval();"
   ]
  },
  {
   "cell_type": "code",
   "execution_count": 11,
   "id": "6a7dea37-153c-40e4-bf1c-8e69a332b1fe",
   "metadata": {},
   "outputs": [],
   "source": [
    "# load data\n",
    "Xtr, Ytr = torch.load('train1989.pt')\n",
    "Xte, Yte = torch.load('test1989.pt')"
   ]
  },
  {
   "cell_type": "code",
   "execution_count": 21,
   "id": "eb678049-5a7b-4f43-9a52-92051ba4010d",
   "metadata": {},
   "outputs": [],
   "source": [
    "def grid_mistakes(X, Y):\n",
    "    \n",
    "    plt.figure(figsize=(14, 4))\n",
    "    ishow, nshow = 0, 14\n",
    "    for ix in range(X.size(0)):\n",
    "        print(ix, X.shape)\n",
    "        x, y = X[[ix]], Y[[ix]]\n",
    "        yhat = model(x)\n",
    "        yi = y.argmax()\n",
    "        yhati = yhat.argmax()\n",
    "        if yi != yhati:\n",
    "            plt.subplot(2, 7, ishow+1)\n",
    "            plt.imshow(x[0,0], cmap='gray')\n",
    "            plt.title(f'gt={yi}, pred={yhati}')\n",
    "            plt.axis('off')\n",
    "            ishow += 1\n",
    "            if ishow >= nshow:\n",
    "                break"
   ]
  },
  {
   "cell_type": "code",
   "execution_count": 22,
   "id": "c8a204fc-c00f-463e-a60e-83a4dfba5417",
   "metadata": {},
   "outputs": [
    {
     "name": "stdout",
     "output_type": "stream",
     "text": [
      "0 torch.Size([7291, 1, 16, 16])\n",
      "1 torch.Size([7291, 1, 16, 16])\n",
      "2 torch.Size([7291, 1, 16, 16])\n",
      "3 torch.Size([7291, 1, 16, 16])\n",
      "4 torch.Size([7291, 1, 16, 16])\n",
      "5 torch.Size([7291, 1, 16, 16])\n",
      "6 torch.Size([7291, 1, 16, 16])\n",
      "7 torch.Size([7291, 1, 16, 16])\n",
      "8 torch.Size([7291, 1, 16, 16])\n",
      "9 torch.Size([7291, 1, 16, 16])\n",
      "10 torch.Size([7291, 1, 16, 16])\n",
      "11 torch.Size([7291, 1, 16, 16])\n",
      "12 torch.Size([7291, 1, 16, 16])\n",
      "13 torch.Size([7291, 1, 16, 16])\n",
      "14 torch.Size([7291, 1, 16, 16])\n",
      "15 torch.Size([7291, 1, 16, 16])\n",
      "16 torch.Size([7291, 1, 16, 16])\n",
      "17 torch.Size([7291, 1, 16, 16])\n",
      "18 torch.Size([7291, 1, 16, 16])\n",
      "19 torch.Size([7291, 1, 16, 16])\n",
      "20 torch.Size([7291, 1, 16, 16])\n",
      "21 torch.Size([7291, 1, 16, 16])\n",
      "22 torch.Size([7291, 1, 16, 16])\n",
      "23 torch.Size([7291, 1, 16, 16])\n",
      "24 torch.Size([7291, 1, 16, 16])\n",
      "25 torch.Size([7291, 1, 16, 16])\n",
      "26 torch.Size([7291, 1, 16, 16])\n",
      "27 torch.Size([7291, 1, 16, 16])\n",
      "28 torch.Size([7291, 1, 16, 16])\n",
      "29 torch.Size([7291, 1, 16, 16])\n",
      "30 torch.Size([7291, 1, 16, 16])\n",
      "31 torch.Size([7291, 1, 16, 16])\n",
      "32 torch.Size([7291, 1, 16, 16])\n",
      "33 torch.Size([7291, 1, 16, 16])\n",
      "34 torch.Size([7291, 1, 16, 16])\n",
      "35 torch.Size([7291, 1, 16, 16])\n"
     ]
    },
    {
     "data": {
      "image/png": "[encoded data removed]",
      "text/plain": [
       "<Figure size 1400x400 with 14 Axes>"
      ]
     },
     "metadata": {},
     "output_type": "display_data"
    }
   ],
   "source": [
    "grid_mistakes(Xtr, Ytr) # training set mistakes\n"
   ]
  },
  {
   "cell_type": "code",
   "execution_count": 14,
   "id": "67241f65-a367-488a-8ef1-245d1887bb3e",
   "metadata": {},
   "outputs": [
    {
     "data": {
      "image/png": "[encoded data removed]",
      "text/plain": [
       "<Figure size 1400x400 with 14 Axes>"
      ]
     },
     "metadata": {},
     "output_type": "display_data"
    }
   ],
   "source": [
    "grid_mistakes(Xte, Yte) # test set mistakes"
   ]
  },
  {
   "cell_type": "code",
   "execution_count": null,
   "id": "64e18321-b4d0-4c6c-a635-f544487672a6",
   "metadata": {},
   "outputs": [],
   "source": []
  },
  {
   "cell_type": "code",
   "execution_count": null,
   "id": "3da9257d-493d-4879-ae41-86d1eeaca2b8",
   "metadata": {},
   "outputs": [],
   "source": []
  },
  {
   "cell_type": "code",
   "execution_count": 27,
   "id": "61ffc551-9c26-4119-9615-f3b5fdc57ec2",
   "metadata": {},
   "outputs": [],
   "source": [
    "winit = lambda fan_in, *shape: (torch.rand(*shape) - 0.5) * 2 * 2.4 / fan_in**0.5\n",
    "macs = 0 # keep track of MACs (multiply accumulates)\n",
    "acts = 0 # keep track of number of activations"
   ]
  },
  {
   "cell_type": "code",
   "execution_count": 28,
   "id": "359f8056-bdf2-405b-9143-3e9356bb0423",
   "metadata": {},
   "outputs": [],
   "source": [
    "H1w = nn.Parameter(winit(5*5*1, 12, 1, 5, 5))\n",
    "H1b = nn.Parameter(torch.zeros(12, 8, 8)) # presumably init to zero for biases\n",
    "macs += (5*5*1) * (8*8) * 12\n",
    "acts += (8*8) * 12"
   ]
  },
  {
   "cell_type": "code",
   "execution_count": 32,
   "id": "5a1277d3-39c2-4faf-af56-ec848e4533b3",
   "metadata": {},
   "outputs": [
    {
     "data": {
      "text/plain": [
       "(torch.Size([12, 1, 5, 5]), torch.Size([12, 8, 8]))"
      ]
     },
     "execution_count": 32,
     "metadata": {},
     "output_type": "execute_result"
    }
   ],
   "source": [
    "H1w.shape, H1b.shape"
   ]
  },
  {
   "cell_type": "code",
   "execution_count": 34,
   "id": "18ec0b12-ccb9-458b-b2f7-2ad381144682",
   "metadata": {},
   "outputs": [
    {
     "data": {
      "text/plain": [
       "(19200, 768)"
      ]
     },
     "execution_count": 34,
     "metadata": {},
     "output_type": "execute_result"
    }
   ],
   "source": [
    "macs, acts"
   ]
  },
  {
   "cell_type": "code",
   "execution_count": 35,
   "id": "5ba6a857-4f9a-4dc9-aa1c-bec9e2c8266c",
   "metadata": {},
   "outputs": [
    {
     "data": {
      "text/plain": [
       "Parameter containing:\n",
       "tensor([[[[-0.4301,  0.0479,  0.4760,  0.3774, -0.3639],\n",
       "          [ 0.1454,  0.2431, -0.1833,  0.3073,  0.1318],\n",
       "          [-0.0098, -0.2873, -0.3971, -0.3653, -0.3906],\n",
       "          [-0.4338, -0.3192,  0.2070, -0.2593, -0.4138],\n",
       "          [ 0.0954, -0.1147, -0.2570,  0.2363, -0.0997]]],\n",
       "\n",
       "\n",
       "        [[[-0.0883, -0.4203,  0.0285, -0.1807, -0.4012],\n",
       "          [ 0.3291,  0.1493, -0.0094,  0.3502, -0.4136],\n",
       "          [ 0.3382, -0.1510, -0.3728,  0.0988,  0.2929],\n",
       "          [ 0.3957, -0.3832,  0.3803,  0.3535, -0.1249],\n",
       "          [-0.0433, -0.1100, -0.1634,  0.3200,  0.2043]]],\n",
       "\n",
       "\n",
       "        [[[ 0.2860,  0.4615, -0.2629, -0.2732, -0.0957],\n",
       "          [ 0.2030, -0.2157, -0.3782,  0.1554, -0.2461],\n",
       "          [ 0.1123, -0.0520,  0.3030, -0.1059, -0.4394],\n",
       "          [ 0.0134,  0.3061, -0.1403, -0.4632, -0.1334],\n",
       "          [-0.0482,  0.3401,  0.1026,  0.4431, -0.2458]]],\n",
       "\n",
       "\n",
       "        [[[-0.0449,  0.2010, -0.2201, -0.0376, -0.2930],\n",
       "          [-0.1671, -0.1098, -0.2247,  0.3286,  0.1447],\n",
       "          [-0.3491, -0.2499,  0.3041,  0.4721, -0.2647],\n",
       "          [-0.3749,  0.2346, -0.3215, -0.4618, -0.0883],\n",
       "          [-0.2027, -0.2123,  0.2208, -0.3025, -0.2976]]],\n",
       "\n",
       "\n",
       "        [[[ 0.1846, -0.3616,  0.2950,  0.1611, -0.0389],\n",
       "          [-0.2293, -0.0354,  0.2174,  0.1785,  0.0012],\n",
       "          [-0.3647,  0.4204,  0.4761, -0.3789,  0.1992],\n",
       "          [ 0.1275, -0.3351, -0.3339,  0.2729, -0.3784],\n",
       "          [-0.2052, -0.2626,  0.3626, -0.0081, -0.0992]]],\n",
       "\n",
       "\n",
       "        [[[ 0.1107,  0.1282, -0.3955, -0.1521, -0.3759],\n",
       "          [ 0.0660,  0.0151, -0.2062, -0.2535, -0.2888],\n",
       "          [ 0.2233,  0.0783,  0.4407,  0.2171, -0.2367],\n",
       "          [ 0.1168,  0.0896,  0.4427,  0.1541,  0.1469],\n",
       "          [ 0.2475, -0.0661,  0.2039, -0.2957,  0.0103]]],\n",
       "\n",
       "\n",
       "        [[[-0.4410, -0.3028, -0.1756, -0.3428,  0.0668],\n",
       "          [ 0.0767, -0.2086,  0.3338, -0.3633,  0.2756],\n",
       "          [ 0.3451, -0.2849, -0.3041,  0.3220,  0.2861],\n",
       "          [ 0.0359, -0.0524, -0.4653, -0.4726, -0.3903],\n",
       "          [ 0.1246,  0.3781, -0.3398, -0.2340, -0.0217]]],\n",
       "\n",
       "\n",
       "        [[[-0.3210, -0.3568, -0.0382, -0.0584,  0.3836],\n",
       "          [ 0.3538, -0.1918,  0.4352,  0.1063,  0.2404],\n",
       "          [-0.2821,  0.0855,  0.1390,  0.3356,  0.4487],\n",
       "          [ 0.2873, -0.4079,  0.1581, -0.2446,  0.4596],\n",
       "          [ 0.3357, -0.3915,  0.3929, -0.4233,  0.3460]]],\n",
       "\n",
       "\n",
       "        [[[ 0.4595,  0.1378, -0.2001,  0.0805,  0.3697],\n",
       "          [-0.3851,  0.2813,  0.4205,  0.0704,  0.4609],\n",
       "          [-0.2307,  0.4439,  0.2660,  0.0853,  0.1203],\n",
       "          [-0.0420, -0.2804, -0.0543,  0.3283, -0.3057],\n",
       "          [ 0.3024, -0.3002,  0.1578,  0.1978,  0.4487]]],\n",
       "\n",
       "\n",
       "        [[[-0.1794, -0.2839,  0.4655, -0.3014,  0.4024],\n",
       "          [-0.0746, -0.4356, -0.3624,  0.1397,  0.0054],\n",
       "          [-0.1295, -0.0659, -0.0441,  0.3234,  0.1747],\n",
       "          [ 0.4557, -0.0273,  0.4400, -0.3899, -0.4715],\n",
       "          [-0.0142,  0.4296, -0.1140,  0.3418,  0.3201]]],\n",
       "\n",
       "\n",
       "        [[[ 0.3261,  0.0465,  0.1770, -0.1609, -0.0085],\n",
       "          [-0.2456,  0.3815,  0.0594,  0.0659, -0.4248],\n",
       "          [-0.3519, -0.2263, -0.2850, -0.4184, -0.0329],\n",
       "          [ 0.0451,  0.0787, -0.1387, -0.4746, -0.2330],\n",
       "          [-0.2028,  0.4383, -0.1618, -0.0633,  0.0440]]],\n",
       "\n",
       "\n",
       "        [[[ 0.3928,  0.1327,  0.0787, -0.4281,  0.2423],\n",
       "          [ 0.0108, -0.0628, -0.1346, -0.0609, -0.3942],\n",
       "          [-0.0646, -0.3705,  0.0125, -0.0029,  0.2797],\n",
       "          [-0.1720, -0.4208,  0.4042, -0.4432,  0.2178],\n",
       "          [ 0.0360, -0.4606,  0.1926, -0.1670, -0.4138]]]], requires_grad=True)"
      ]
     },
     "execution_count": 35,
     "metadata": {},
     "output_type": "execute_result"
    }
   ],
   "source": [
    "H1w"
   ]
  },
  {
   "cell_type": "code",
   "execution_count": 54,
   "id": "3f2aa419-9674-44c0-bbc9-94c8c95f9dd2",
   "metadata": {},
   "outputs": [
    {
     "data": {
      "image/png": "[encoded data removed]",
      "text/plain": [
       "<Figure size 1200x400 with 12 Axes>"
      ]
     },
     "metadata": {},
     "output_type": "display_data"
    }
   ],
   "source": [
    "plt.figure(figsize=(12, 4))\n",
    "ishow, nshow = 0, 12\n",
    "for ix in range(H1w.size(0)):\n",
    "    #print(ix, X.shape)\n",
    "    #print(H1w[ix][0])\n",
    "    x = H1w[ix][0]\n",
    "    plt.subplot(2, 6, ishow+1)\n",
    "    plt.imshow(x.detach(), cmap='gray')\n",
    "    #plt.title(f'gt={yi}, pred={yhati}')\n",
    "    plt.axis('off')\n",
    "    ishow += 1\n",
    "    if ishow >= nshow:\n",
    "        break\n",
    " "
   ]
  },
  {
   "cell_type": "code",
   "execution_count": 36,
   "id": "5115291d-0dca-495d-b132-2277f181249d",
   "metadata": {},
   "outputs": [
    {
     "data": {
      "text/plain": [
       "torch.Size([12, 1, 5, 5])"
      ]
     },
     "execution_count": 36,
     "metadata": {},
     "output_type": "execute_result"
    }
   ],
   "source": [
    "H1w.shape"
   ]
  },
  {
   "cell_type": "code",
   "execution_count": 37,
   "id": "45213bd6-c95a-4c0c-b19d-fd0006eaace0",
   "metadata": {},
   "outputs": [
    {
     "data": {
      "text/plain": [
       "12"
      ]
     },
     "execution_count": 37,
     "metadata": {},
     "output_type": "execute_result"
    }
   ],
   "source": [
    "H1w.size(0)"
   ]
  },
  {
   "cell_type": "code",
   "execution_count": 48,
   "id": "9bf741a4-0464-4a47-9f3e-66dd390928de",
   "metadata": {},
   "outputs": [
    {
     "data": {
      "text/plain": [
       "tensor([[-0.4301,  0.0479,  0.4760,  0.3774, -0.3639],\n",
       "        [ 0.1454,  0.2431, -0.1833,  0.3073,  0.1318],\n",
       "        [-0.0098, -0.2873, -0.3971, -0.3653, -0.3906],\n",
       "        [-0.4338, -0.3192,  0.2070, -0.2593, -0.4138],\n",
       "        [ 0.0954, -0.1147, -0.2570,  0.2363, -0.0997]],\n",
       "       grad_fn=<SelectBackward0>)"
      ]
     },
     "execution_count": 48,
     "metadata": {},
     "output_type": "execute_result"
    }
   ],
   "source": [
    "H1w[0][0]"
   ]
  },
  {
   "cell_type": "code",
   "execution_count": 49,
   "id": "e7c25013-e81a-41c9-980f-53bc42eaf9ed",
   "metadata": {},
   "outputs": [
    {
     "data": {
      "text/plain": [
       "<matplotlib.image.AxesImage at 0xb698bcf200>"
      ]
     },
     "execution_count": 49,
     "metadata": {},
     "output_type": "execute_result"
    },
    {
     "data": {
      "image/png": "[encoded data removed]",
      "text/plain": [
       "<Figure size 640x480 with 1 Axes>"
      ]
     },
     "metadata": {},
     "output_type": "display_data"
    }
   ],
   "source": [
    "plt.imshow(H1w[0][0].detach(), cmap='gray')"
   ]
  },
  {
   "cell_type": "code",
   "execution_count": null,
   "id": "2ec9f102-e205-467e-949e-cb6bd9393b7b",
   "metadata": {},
   "outputs": [],
   "source": []
  },
  {
   "cell_type": "code",
   "execution_count": 55,
   "id": "84c58ac9-a8f3-4b72-b58a-e9ef706cdaae",
   "metadata": {},
   "outputs": [],
   "source": [
    "# jak wyglada antropologia danych?"
   ]
  },
  {
   "cell_type": "code",
   "execution_count": 56,
   "id": "c47c02da-307b-4828-ae5a-06faa544488b",
   "metadata": {},
   "outputs": [],
   "source": [
    "xs = torch.tensor([1314, 8513, 14885, 11, 2359, 11, 5897, 11, 8513, 47286, 11, 56610, 11, 34991, 1883, 271, 2359, 45043, 1234, 271, 395, 13754, 15257, 11, 350, 1074, 11, 3783, 8, 306, 29671, 46587, 47286, 1883, 309, 1238, 11, 3783, 314, 1238, 3552, 36452, 936, 3783, 3552, 36452, 446, 309, 56610, 58749, 41344, 1234, 309, 4733, 314, 2359, 4819, 446, 309, 6266, 314, 454, 1835, 680, 23902, 22485, 11, 3783, 446, 309, 6266, 151626, 1234, 309, 56610, 43723, 1234, 309, 538, 13754, 15257, 1851, 4966, 2659, 49009, 951, 220, 15, 734, 352, 2123, 706, 40309, 186515, 25, 9902, 35099, 8242, 12083, 16472, 27474, 15, 69, 93414, 15710, 59, 83, 49113, 25, 117746, 21, 69, 58336, 4078, 1607, 506, 34991, 11, 13754, 15257, 425, 4631, 4819, 936, 4631, 46587, 47286, 48314, 2313, 506, 220, 1353, 13, 425, 13754, 15257, 820, 4631, 46587, 47286, 936, 6266, 15732, 24521, 352, 538, 4966, 1380, 1102, 32268, 734, 506, 2338])"
   ]
  },
  {
   "cell_type": "code",
   "execution_count": 57,
   "id": "b1336861-6ed9-4fe3-beaf-c34b05ee0366",
   "metadata": {},
   "outputs": [
    {
     "data": {
      "text/plain": [
       "[<matplotlib.lines.Line2D at 0xb69b0f7b60>]"
      ]
     },
     "execution_count": 57,
     "metadata": {},
     "output_type": "execute_result"
    },
    {
     "data": {
      "image/png": "[encoded data removed]",
      "text/plain": [
       "<Figure size 640x480 with 1 Axes>"
      ]
     },
     "metadata": {},
     "output_type": "display_data"
    }
   ],
   "source": [
    "plt.plot(xs)"
   ]
  },
  {
   "cell_type": "code",
   "execution_count": 63,
   "id": "60bb7893-45ba-4873-9bb6-65db65001cf5",
   "metadata": {},
   "outputs": [
    {
     "data": {
      "image/png": "[encoded data removed]",
      "text/plain": [
       "<Figure size 640x480 with 1 Axes>"
      ]
     },
     "metadata": {},
     "output_type": "display_data"
    }
   ],
   "source": [
    "plt.hist(xs, bins=1000);"
   ]
  },
  {
   "cell_type": "code",
   "execution_count": 61,
   "id": "713fab97-bd97-4fb6-8782-aa946b35d969",
   "metadata": {},
   "outputs": [
    {
     "data": {
      "text/plain": [
       "tensor(7.2106e+08)"
      ]
     },
     "execution_count": 61,
     "metadata": {},
     "output_type": "execute_result"
    }
   ],
   "source": [
    "xs.float().var()"
   ]
  },
  {
   "cell_type": "code",
   "execution_count": 64,
   "id": "626d7b73-a091-4401-82e0-5465facd2033",
   "metadata": {},
   "outputs": [],
   "source": [
    "xs2 = torch.tensor([3879, 26487, 11, 290, 2240, 120999, 198, 72, 40179, 2499, 976, 24195, 1076, 328, 448, 32315, 220, 40179, 28154, 17, 198, 20051, 2164, 198, 4579, 16602, 197, 30102, 220, 702, 11, 220, 4745, 24, 58, 17, 1592, 3538, 79803, 197, 30538, 220, 2029, 11, 220, 1179, 22, 58, 16, 1592, 100827, 656, 197, 105590, 11, 483, 6679, 499, 1989, 7969, 472, 20915, 13650, 198, 14882, 18167, 2775, 105590, 11, 40198, 11, 55601, 11, 11885, 104006, 11, 38952, 155810, 11, 601, 15190, 11, 169176, 124625, 198, 45015, 198, 6499, 13, 28391, 16523, 6251, 197, 1125, 220, 316, 220, 1353, 74297, 32035, 1592, 14179, 33, 40472, 197, 1125, 74297, 316, 220, 1434, 74297, 198, 1186, 4345, 197, 1398, 18189, 58, 18, 1592, 5352, 4345, 197, 1398, 18189, 58, 18, 1592, 36390, 3772, 4345, 197, 1398, 18189, 350, 41454, 2245, 220, 4217, 18189, 350, 140200, 13637, 18, 1592, 8865, 198, 43, 16, 11956, 197, 23, 44875, 316, 220, 1125, 44875, 198, 131547, 326, 39594, 198, 73410, 4596, 197, 16, 4403, 76, 316, 220, 6718, 43183, 198, 31066, 920, 21395, 7189, 12, 1125, 11, 59199, 12, 1398, 3463, 1215, 6818, 350, 25035, 395, 392, 131169, 1, 7015, 446, 50726, 35424, 198, 3248, 167784, 2775, 16, 13, 17, 58, 17, 60, 1585, 16, 13, 21, 5749, 198, 8037, 12, 55600, 197, 105590, 220, 39526, 6818, 131169, 198, 13081, 2775, 47, 16328, 350, 27768, 220, 16, 11, 220, 17, 11, 220, 18, 936, 220, 6514, 154393, 77170, 20174, 11, 220, 20021, 154393, 93319, 20174, 198, 13508, 198, 4319, 54010, 267, 197, 105590, 220, 33248, 198, 9909, 267, 22447, 299, 2883, 32242, 43266, 350, 47, 20, 446, 10768, 4495, 198, 71142, 198, 976, 32315, 220, 40179, 11, 30828, 11484, 575, 40179, 326, 1217, 5542, 472, 220, 39526, 7189, 11, 382, 261, 10449, 55600, 13, 1225, 382, 261, 7266, 81191, 2622, 7288, 316, 290, 32315, 220, 33248, 13, 623, 575, 40179, 673, 17882, 306, 220, 4745, 24, 13, 1225, 18627, 290, 19062, 13986, 328, 15600, 24686, 174120, 3992, 290, 220, 20811, 21, 328, 220, 5695, 23, 11, 290, 32315, 220, 24741, 7189, 328, 220, 4745, 17, 11, 326, 220, 4745, 20, 885, 575, 33248, 364, 3206, 673, 290, 1577, 68595, 3161, 99154, 2530, 22840, 60, 1215, 7189, 2364, 472, 1775, 472, 290, 1577, 1215, 7189, 23134, 316, 3931, 945, 1572, 1001, 5749, 1643, 167784, 13, 1225, 10877, 261, 4410, 402, 164847, 11956, 326, 448, 21781, 35887, 37909, 7670, 364, 5958, 480, 673, 11297, 11, 290, 4871, 6198, 673, 22257, 7269, 2870, 220, 1055, 326, 220, 455, 631, 5202, 391, 42020, 11, 2870, 220, 2991, 11, 1302, 326, 220, 3796, 11, 1302, 272, 2012, 783, 3617, 777, 3099, 11, 326, 2870, 220, 21, 13, 16, 326, 220, 23, 13, 17, 3503, 12, 56937, 13401, 1134, 5785, 72851, 777, 3099, 395, 2973, 220, 1161, 326, 220, 2546, 74297, 3926, 11308, 17, 60, 355, 19271, 220, 1434, 74297, 575, 40179, 119297, 220, 4987, 5749, 15543, 777, 3099, 415, 2012, 71914, 391, 42020, 326, 98190, 16336, 13632, 328, 220, 2092, 13, 24, 11308, 19, 60, 1225, 382, 16679, 18370, 472, 5661, 472, 290, 575, 33248, 503, 575, 31652, 777, 16523, 15839, 13, 623, 575, 40179, 885, 18055, 6198, 382, 11707, 316, 1617, 6468, 79301, 29412, 483, 722, 25699, 11608, 316, 261, 4590, 15839, 13, 623, 30843, 454, 12756, 7670, 402, 290, 23134, 673, 17000, 16107, 1572, 290, 575, 38202, 454, 12756, 777, 15839, 13, 623, 32315, 220, 38469, 6818, 454, 12756, 7109, 72, 38202, 1405, 673, 261, 13574, 11, 18297, 13324, 8039, 106510, 267, 484, 673, 15205, 306, 261, 109538, 15114, 26162, 290, 575, 33248, 364, 976, 575, 40179, 673, 53434, 656, 290, 4756, 37101, 2883, 13, 42063, 1504, 106770, 395, 290, 575, 40179, 402, 7561, 220, 1130, 11, 220, 1179, 22, 326, 290, 2174, 87290, 1504, 402, 8051, 220, 2029, 11, 220, 1179, 22, 11308, 16, 60])"
   ]
  },
  {
   "cell_type": "code",
   "execution_count": 65,
   "id": "b41972d9-f265-4239-a3a3-0b0d64a1c482",
   "metadata": {},
   "outputs": [
    {
     "data": {
      "text/plain": [
       "tensor(8.5679e+08)"
      ]
     },
     "execution_count": 65,
     "metadata": {},
     "output_type": "execute_result"
    }
   ],
   "source": [
    "xs2.float().var()"
   ]
  },
  {
   "cell_type": "code",
   "execution_count": 66,
   "id": "12ced976-1aa5-47c7-a711-74796abf622b",
   "metadata": {},
   "outputs": [
    {
     "data": {
      "image/png": "[encoded data removed]",
      "text/plain": [
       "<Figure size 640x480 with 1 Axes>"
      ]
     },
     "metadata": {},
     "output_type": "display_data"
    }
   ],
   "source": [
    "plt.hist(xs2, bins=1000);"
   ]
  },
  {
   "cell_type": "code",
   "execution_count": null,
   "id": "40ef217c-50bd-4f4e-ab34-0d5aefa54fa7",
   "metadata": {},
   "outputs": [],
   "source": []
  }
 ],
 "metadata": {
  "kernelspec": {
   "display_name": "Python 3 (ipykernel)",
   "language": "python",
   "name": "python3"
  },
  "language_info": {
   "codemirror_mode": {
    "name": "ipython",
    "version": 3
   },
   "file_extension": ".py",
   "mimetype": "text/x-python",
   "name": "python",
   "nbconvert_exporter": "python",
   "pygments_lexer": "ipython3",
   "version": "3.12.2"
  }
 },
 "nbformat": 4,
 "nbformat_minor": 5
}
