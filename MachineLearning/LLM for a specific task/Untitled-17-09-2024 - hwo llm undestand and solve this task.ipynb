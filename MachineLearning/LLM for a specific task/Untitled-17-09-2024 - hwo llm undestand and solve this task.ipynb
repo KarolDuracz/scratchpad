{
 "cells": [
  {
   "cell_type": "code",
   "execution_count": 2,
   "id": "da8b2791-5044-4f1a-9642-77191799958f",
   "metadata": {},
   "outputs": [],
   "source": [
    "import tiktoken\n",
    "import matplotlib.pyplot as plt\n",
    "import torch"
   ]
  },
  {
   "cell_type": "code",
   "execution_count": 3,
   "id": "910d182c-597b-4772-bf5c-f1ca512d49bc",
   "metadata": {},
   "outputs": [],
   "source": [
    "enc = tiktoken.get_encoding(\"o200k_base\")"
   ]
  },
  {
   "cell_type": "code",
   "execution_count": 4,
   "id": "7dd11096-4d39-4959-9574-3c05915d3494",
   "metadata": {},
   "outputs": [],
   "source": [
    "encoding = tiktoken.encoding_for_model('gpt-3.5-turbo')"
   ]
  },
  {
   "cell_type": "code",
   "execution_count": 5,
   "id": "222160fd-1c25-4085-8464-8bf97d769b56",
   "metadata": {},
   "outputs": [
    {
     "data": {
      "text/plain": [
       "True"
      ]
     },
     "execution_count": 5,
     "metadata": {},
     "output_type": "execute_result"
    }
   ],
   "source": [
    "enc.decode(enc.encode(\"hello world\")) == \"hello world\""
   ]
  },
  {
   "cell_type": "code",
   "execution_count": 6,
   "id": "57db8675-53e2-445f-a904-1e2680c8e02d",
   "metadata": {},
   "outputs": [],
   "source": [
    "f = open(\"code.txt\", \"r\").read()"
   ]
  },
  {
   "cell_type": "code",
   "execution_count": 7,
   "id": "2455c418-bf07-4688-ba36-332e7f47f688",
   "metadata": {},
   "outputs": [
    {
     "data": {
      "text/plain": [
       "'/*\\n *\\n * C'"
      ]
     },
     "execution_count": 7,
     "metadata": {},
     "output_type": "execute_result"
    }
   ],
   "source": [
    "f[:10]"
   ]
  },
  {
   "cell_type": "code",
   "execution_count": 8,
   "id": "7b7c6069-2a99-4147-a195-d145eb4e1a83",
   "metadata": {},
   "outputs": [
    {
     "data": {
      "text/plain": [
       "621"
      ]
     },
     "execution_count": 8,
     "metadata": {},
     "output_type": "execute_result"
    }
   ],
   "source": [
    "len(set(encoding.encode(f)))"
   ]
  },
  {
   "cell_type": "code",
   "execution_count": 9,
   "id": "6046575c-7570-4b29-bb0f-b38adc6b19d1",
   "metadata": {},
   "outputs": [
    {
     "data": {
      "text/plain": [
       "625"
      ]
     },
     "execution_count": 9,
     "metadata": {},
     "output_type": "execute_result"
    }
   ],
   "source": [
    "len(set(enc.encode(f)))"
   ]
  },
  {
   "cell_type": "code",
   "execution_count": 10,
   "id": "1a88e930-60d2-42e4-8c2d-4ebf5f30c49b",
   "metadata": {},
   "outputs": [
    {
     "data": {
      "text/plain": [
       "[3364, 1235, 353, 3028, 320, 66, 8, 220, 2366, 16]"
      ]
     },
     "execution_count": 10,
     "metadata": {},
     "output_type": "execute_result"
    }
   ],
   "source": [
    "encoding.encode(f)[:10]"
   ]
  },
  {
   "cell_type": "code",
   "execution_count": 11,
   "id": "8b1af8c6-f79b-45d4-a685-949c44141567",
   "metadata": {},
   "outputs": [
    {
     "name": "stdout",
     "output_type": "stream",
     "text": [
      "/*\n",
      "\n",
      " *\n",
      "\n",
      " *\n",
      " Copyright\n",
      " (\n",
      "c\n",
      ")\n",
      " \n",
      "202\n",
      "1\n",
      "-\n",
      "202\n",
      "2\n",
      " The\n",
      " Kh\n",
      "ron\n",
      "os\n",
      " Group\n",
      " Inc\n",
      ".\n",
      "\n",
      " *\n",
      " Copyright\n",
      " (\n",
      "c\n",
      ")\n",
      " \n",
      "202\n",
      "1\n",
      "-\n",
      "202\n",
      "2\n",
      " Valve\n",
      " Corporation\n",
      "\n",
      "\n",
      " *\n",
      " Copyright\n",
      " (\n",
      "c\n",
      ")\n",
      " \n",
      "202\n",
      "1\n",
      "-\n",
      "202\n",
      "2\n",
      " Lunar\n",
      "G\n",
      ",\n",
      " Inc\n",
      ".\n",
      "\n",
      " *\n",
      "\n",
      " *\n",
      " Licensed\n",
      " under\n",
      " the\n",
      " Apache\n",
      " License\n",
      ",\n",
      " Version\n",
      " \n",
      "2\n",
      ".\n",
      "0\n",
      " (\n",
      "the\n",
      " \"\n",
      "License\n",
      "\");\n",
      "\n",
      " *\n",
      " you\n",
      " may\n",
      " not\n",
      " use\n",
      " this\n",
      " file\n",
      " except\n",
      " in\n",
      " compliance\n",
      " with\n",
      " the\n",
      " License\n",
      ".\n",
      "\n",
      " *\n",
      " You\n",
      " may\n",
      " obtain\n",
      " a\n",
      " copy\n",
      " of\n",
      " the\n",
      " License\n",
      " at\n",
      "\n",
      "\n",
      " *\n",
      "\n",
      " *\n",
      "    \n",
      " http\n",
      "://\n",
      "www\n",
      ".apache\n"
     ]
    }
   ],
   "source": [
    "for i in encoding.encode(f)[:100]:\n",
    "    print(encoding.decode([i]))"
   ]
  },
  {
   "cell_type": "code",
   "execution_count": 12,
   "id": "46bf8c09-3ea7-43ab-b121-2e0ce20ca5c8",
   "metadata": {},
   "outputs": [
    {
     "data": {
      "image/png": "[encoded data removed]",
      "text/plain": [
       "<Figure size 640x480 with 1 Axes>"
      ]
     },
     "metadata": {},
     "output_type": "display_data"
    }
   ],
   "source": [
    "plt.hist(encoding.encode(f), 500);"
   ]
  },
  {
   "cell_type": "code",
   "execution_count": 13,
   "id": "f8a1866f-f1e6-4b0a-9128-0b4020e4293a",
   "metadata": {},
   "outputs": [],
   "source": [
    "xs = torch.tensor(encoding.encode(f))"
   ]
  },
  {
   "cell_type": "code",
   "execution_count": 14,
   "id": "d838a7fc-46db-4dc7-b9f2-2e418ffbc57e",
   "metadata": {},
   "outputs": [
    {
     "data": {
      "text/plain": [
       "torch.return_types.sort(\n",
       "values=tensor([    1,     4,     7,  ..., 97179, 97179, 98294]),\n",
       "indices=tensor([ 135, 2111, 3930,  ..., 2956, 2753,  189]))"
      ]
     },
     "execution_count": 14,
     "metadata": {},
     "output_type": "execute_result"
    }
   ],
   "source": [
    "xs.sort()"
   ]
  },
  {
   "cell_type": "code",
   "execution_count": 15,
   "id": "e6847913-6516-4330-84b6-3c4049069106",
   "metadata": {},
   "outputs": [
    {
     "data": {
      "text/plain": [
       "'%'"
      ]
     },
     "execution_count": 15,
     "metadata": {},
     "output_type": "execute_result"
    }
   ],
   "source": [
    "encoding.decode([4])"
   ]
  },
  {
   "cell_type": "code",
   "execution_count": 16,
   "id": "9ddc0f7d-7e99-4793-9995-4c73e4ab5844",
   "metadata": {},
   "outputs": [
    {
     "data": {
      "image/png": "[encoded data removed]",
      "text/plain": [
       "<Figure size 640x480 with 1 Axes>"
      ]
     },
     "metadata": {},
     "output_type": "display_data"
    }
   ],
   "source": [
    "plt.hist(xs.sort()[0][:10000],500);"
   ]
  },
  {
   "cell_type": "code",
   "execution_count": 17,
   "id": "1aa59f0e-e87c-486a-a65f-e0c45baca6b0",
   "metadata": {},
   "outputs": [],
   "source": [
    "# posortuj od najwiekszej ilosci powtorzen i wyswietl 10 pierwszych z posortowanej tablicy"
   ]
  },
  {
   "cell_type": "code",
   "execution_count": 18,
   "id": "55b8884d-c1cb-4b6b-aa30-857ef8f31120",
   "metadata": {},
   "outputs": [],
   "source": [
    "p = {}\n",
    "for i in xs.sort()[0][:10000]:\n",
    "    #print(i.item())\n",
    "    #p[i.item()] = 1\n",
    "    #p.get(i.item()).update({i.item():2})\n",
    "    p[i.item()] = p.get(i.item(), 0) + 1\n",
    "    #print(p.get(i.item(), 0))\n",
    "    #break"
   ]
  },
  {
   "cell_type": "code",
   "execution_count": 19,
   "id": "d47fcf30-d8b5-44de-a28a-685ebae733f3",
   "metadata": {},
   "outputs": [
    {
     "data": {
      "text/plain": [
       "[(9385, 112),\n",
       " (11, 95),\n",
       " (280, 93),\n",
       " (262, 92),\n",
       " (948, 89),\n",
       " (8, 85),\n",
       " (286, 85),\n",
       " (3186, 83),\n",
       " (320, 82),\n",
       " (284, 81),\n",
       " (220, 76),\n",
       " (341, 75),\n",
       " (405, 75),\n",
       " (17922, 66),\n",
       " (16, 60),\n",
       " (310, 57),\n",
       " (422, 56),\n",
       " (10839, 54),\n",
       " (15, 45),\n",
       " (45935, 45),\n",
       " (471, 44),\n",
       " (198, 42),\n",
       " (56487, 42),\n",
       " (6422, 41),\n",
       " (3756, 39),\n",
       " (353, 38),\n",
       " (16432, 38),\n",
       " (17, 37),\n",
       " (504, 37),\n",
       " (7130, 34),\n",
       " (10798, 34),\n",
       " (67, 33),\n",
       " (74792, 33),\n",
       " (394, 32),\n",
       " (457, 32),\n",
       " (530, 32),\n",
       " (843, 32),\n",
       " (26492, 32),\n",
       " (62, 30),\n",
       " (443, 30),\n",
       " (1314, 30),\n",
       " (8062, 30),\n",
       " (2414, 28),\n",
       " (4709, 28),\n",
       " (10701, 27),\n",
       " (366, 26),\n",
       " (650, 26),\n",
       " (1111, 26),\n",
       " (3259, 26),\n",
       " (11438, 26),\n",
       " (69798, 26),\n",
       " (317, 25),\n",
       " (279, 23),\n",
       " (3567, 23),\n",
       " (5701, 23),\n",
       " (6239, 23),\n",
       " (33612, 23),\n",
       " (40353, 23),\n",
       " (26, 22),\n",
       " (4752, 22),\n",
       " (10650, 22),\n",
       " (77484, 22),\n",
       " (322, 21),\n",
       " (335, 21),\n",
       " (775, 21),\n",
       " (330, 20),\n",
       " (345, 20),\n",
       " (851, 20),\n",
       " (6042, 20),\n",
       " (22285, 20),\n",
       " (1857, 18),\n",
       " (58, 17),\n",
       " (369, 16),\n",
       " (1912, 16),\n",
       " (2325, 16),\n",
       " (9245, 16),\n",
       " (18385, 16),\n",
       " (36787, 16),\n",
       " (482, 15),\n",
       " (557, 15),\n",
       " (3667, 15),\n",
       " (16347, 15),\n",
       " (311, 14),\n",
       " (1327, 14),\n",
       " (18586, 14),\n",
       " (28889, 14),\n",
       " (47692, 14),\n",
       " (555, 13),\n",
       " (627, 13),\n",
       " (765, 13),\n",
       " (2080, 13),\n",
       " (2687, 13),\n",
       " (5337, 13),\n",
       " (45142, 13),\n",
       " (86080, 13),\n",
       " (82, 12),\n",
       " (292, 12),\n",
       " (408, 12),\n",
       " (428, 12),\n",
       " (541, 12),\n",
       " (612, 12),\n",
       " (871, 12),\n",
       " (3292, 12),\n",
       " (15942, 12),\n",
       " (29398, 12),\n",
       " (42434, 12),\n",
       " (69456, 12),\n",
       " (1034, 11),\n",
       " (2557, 11),\n",
       " (3526, 11),\n",
       " (14677, 11),\n",
       " (33756, 11),\n",
       " (45486, 11),\n",
       " (52151, 11),\n",
       " (95555, 11),\n",
       " (498, 10),\n",
       " (629, 10),\n",
       " (667, 10),\n",
       " (2175, 10),\n",
       " (4283, 10),\n",
       " (6120, 10),\n",
       " (9353, 10),\n",
       " (9616, 10),\n",
       " (12318, 10),\n",
       " (14934, 10),\n",
       " (18777, 10),\n",
       " (20715, 10),\n",
       " (46571, 10),\n",
       " (67171, 10),\n",
       " (97179, 10),\n",
       " (264, 9),\n",
       " (323, 9),\n",
       " (941, 9),\n",
       " (1024, 9),\n",
       " (2309, 9),\n",
       " (3220, 9),\n",
       " (4166, 9),\n",
       " (256, 8),\n",
       " (512, 8),\n",
       " (558, 8),\n",
       " (617, 8),\n",
       " (926, 8),\n",
       " (1315, 8),\n",
       " (1579, 8),\n",
       " (1808, 8),\n",
       " (2163, 8),\n",
       " (3428, 8),\n",
       " (3630, 8),\n",
       " (5979, 8),\n",
       " (7037, 8),\n",
       " (9625, 8),\n",
       " (19764, 8),\n",
       " (13, 7),\n",
       " (25, 7),\n",
       " (84, 7),\n",
       " (304, 7),\n",
       " (430, 7),\n",
       " (633, 7),\n",
       " (870, 7),\n",
       " (1085, 7),\n",
       " (1292, 7),\n",
       " (2180, 7),\n",
       " (2651, 7),\n",
       " (4571, 7),\n",
       " (6294, 7),\n",
       " (19506, 7),\n",
       " (21390, 7),\n",
       " (401, 6),\n",
       " (449, 6),\n",
       " (594, 6),\n",
       " (624, 6),\n",
       " (662, 6),\n",
       " (955, 6),\n",
       " (1162, 6),\n",
       " (1235, 6),\n",
       " (1533, 6),\n",
       " (1670, 6),\n",
       " (1798, 6),\n",
       " (1914, 6),\n",
       " (2283, 6),\n",
       " (2366, 6),\n",
       " (4125, 6),\n",
       " (4679, 6),\n",
       " (5856, 6),\n",
       " (7406, 6),\n",
       " (10844, 6),\n",
       " (18676, 6),\n",
       " (18861, 6),\n",
       " (39534, 6),\n",
       " (7, 5),\n",
       " (60, 5),\n",
       " (64, 5),\n",
       " (65, 5),\n",
       " (396, 5),\n",
       " (976, 5),\n",
       " (1623, 5),\n",
       " (1963, 5),\n",
       " (2568, 5),\n",
       " (4715, 5),\n",
       " (5291, 5),\n",
       " (7766, 5),\n",
       " (8417, 5),\n",
       " (8520, 5),\n",
       " (10198, 5),\n",
       " (12169, 5),\n",
       " (14544, 5),\n",
       " (16258, 5),\n",
       " (21833, 5),\n",
       " (33847, 5),\n",
       " (37345, 5),\n",
       " (12, 4),\n",
       " (74, 4),\n",
       " (349, 4),\n",
       " (355, 4),\n",
       " (459, 4),\n",
       " (481, 4),\n",
       " (578, 4),\n",
       " (584, 4),\n",
       " (678, 4),\n",
       " (680, 4),\n",
       " (705, 4),\n",
       " (734, 4),\n",
       " (742, 4),\n",
       " (779, 4),\n",
       " (905, 4),\n",
       " (1004, 4),\n",
       " (1014, 4),\n",
       " (1115, 4),\n",
       " (1257, 4),\n",
       " (1287, 4),\n",
       " (1441, 4),\n",
       " (1464, 4),\n",
       " (1767, 4),\n",
       " (1845, 4),\n",
       " (1855, 4),\n",
       " (1881, 4),\n",
       " (1991, 4),\n",
       " (2015, 4),\n",
       " (2122, 4),\n",
       " (2874, 4),\n",
       " (3110, 4),\n",
       " (3336, 4),\n",
       " (3533, 4),\n",
       " (3977, 4),\n",
       " (4022, 4),\n",
       " (4676, 4),\n",
       " (4813, 4),\n",
       " (4977, 4),\n",
       " (5315, 4),\n",
       " (5841, 4),\n",
       " (5951, 4),\n",
       " (6006, 4),\n",
       " (6440, 4),\n",
       " (7003, 4),\n",
       " (7348, 4),\n",
       " (10907, 4),\n",
       " (12692, 4),\n",
       " (15160, 4),\n",
       " (16452, 4),\n",
       " (16793, 4),\n",
       " (17023, 4),\n",
       " (19265, 4),\n",
       " (24528, 4),\n",
       " (34573, 4),\n",
       " (43954, 4),\n",
       " (61638, 4),\n",
       " (65719, 4),\n",
       " (70987, 4),\n",
       " (71006, 4),\n",
       " (72620, 4),\n",
       " (90952, 4),\n",
       " (18, 3),\n",
       " (66, 3),\n",
       " (257, 3),\n",
       " (293, 3),\n",
       " (315, 3),\n",
       " (340, 3),\n",
       " (374, 3),\n",
       " (528, 3),\n",
       " (539, 3),\n",
       " (602, 3),\n",
       " (702, 3),\n",
       " (743, 3),\n",
       " (837, 3),\n",
       " (902, 3),\n",
       " (947, 3),\n",
       " (956, 3),\n",
       " (1021, 3),\n",
       " (1234, 3),\n",
       " (1403, 3),\n",
       " (3028, 3),\n",
       " (5529, 3),\n",
       " (6442, 3),\n",
       " (6949, 3),\n",
       " (7106, 3),\n",
       " (8058, 3),\n",
       " (12145, 3),\n",
       " (14568, 3),\n",
       " (17656, 3),\n",
       " (18942, 3),\n",
       " (31148, 3),\n",
       " (33335, 3),\n",
       " (39261, 3),\n",
       " (42305, 3),\n",
       " (69816, 3),\n",
       " (71671, 3),\n",
       " (19, 2),\n",
       " (45, 2),\n",
       " (87, 2),\n",
       " (350, 2),\n",
       " (389, 2),\n",
       " (397, 2),\n",
       " (420, 2),\n",
       " (433, 2),\n",
       " (477, 2),\n",
       " (520, 2),\n",
       " (551, 2),\n",
       " (552, 2),\n",
       " (576, 2),\n",
       " (595, 2),\n",
       " (596, 2),\n",
       " (644, 2),\n",
       " (682, 2),\n",
       " (704, 2),\n",
       " (738, 2),\n",
       " (758, 2),\n",
       " (832, 2),\n",
       " (890, 2),\n",
       " (917, 2),\n",
       " (927, 2),\n",
       " (949, 2),\n",
       " (1019, 2),\n",
       " (1027, 2),\n",
       " (1052, 2),\n",
       " (1125, 2),\n",
       " (1160, 2),\n",
       " (1176, 2),\n",
       " (1253, 2),\n",
       " (1288, 2),\n",
       " (1358, 2),\n",
       " (1541, 2),\n",
       " (1828, 2),\n",
       " (1875, 2),\n",
       " (1884, 2),\n",
       " (1888, 2),\n",
       " (2342, 2),\n",
       " (2368, 2),\n",
       " (2499, 2),\n",
       " (2736, 2),\n",
       " (2744, 2),\n",
       " (2809, 2),\n",
       " (3138, 2),\n",
       " (3239, 2),\n",
       " (3425, 2),\n",
       " (3460, 2),\n",
       " (3485, 2),\n",
       " (4066, 2),\n",
       " (4183, 2),\n",
       " (4190, 2),\n",
       " (4332, 2),\n",
       " (4342, 2),\n",
       " (4382, 2),\n",
       " (4391, 2),\n",
       " (4404, 2),\n",
       " (4953, 2),\n",
       " (5190, 2),\n",
       " (5263, 2),\n",
       " (5334, 2),\n",
       " (5755, 2),\n",
       " (6314, 2),\n",
       " (6428, 2),\n",
       " (6579, 2),\n",
       " (6727, 2),\n",
       " (7365, 2),\n",
       " (7714, 2),\n",
       " (8106, 2),\n",
       " (8145, 2),\n",
       " (8593, 2),\n",
       " (9003, 2),\n",
       " (9082, 2),\n",
       " (10379, 2),\n",
       " (10768, 2),\n",
       " (11102, 2),\n",
       " (11959, 2),\n",
       " (12477, 2),\n",
       " (12593, 2),\n",
       " (12595, 2),\n",
       " (12709, 2),\n",
       " (13186, 2),\n",
       " (13950, 2),\n",
       " (14246, 2),\n",
       " (14556, 2),\n",
       " (14716, 2),\n",
       " (15146, 2),\n",
       " (15423, 2),\n",
       " (15897, 2),\n",
       " (17674, 2),\n",
       " (18087, 2),\n",
       " (18139, 2),\n",
       " (18623, 2),\n",
       " (19727, 2),\n",
       " (20999, 2),\n",
       " (22946, 2),\n",
       " (23807, 2),\n",
       " (23930, 2),\n",
       " (25293, 2),\n",
       " (27406, 2),\n",
       " (28251, 2),\n",
       " (29330, 2),\n",
       " (29515, 2),\n",
       " (34159, 2),\n",
       " (38112, 2),\n",
       " (41935, 2),\n",
       " (42377, 2),\n",
       " (43694, 2),\n",
       " (49631, 2),\n",
       " (53788, 2),\n",
       " (53880, 2),\n",
       " (56521, 2),\n",
       " (57461, 2),\n",
       " (58287, 2),\n",
       " (58429, 2),\n",
       " (65333, 2),\n",
       " (68514, 2),\n",
       " (73495, 2),\n",
       " (75125, 2),\n",
       " (75970, 2),\n",
       " (80147, 2),\n",
       " (82505, 2),\n",
       " (90381, 2),\n",
       " (1, 1),\n",
       " (4, 1),\n",
       " (20, 1),\n",
       " (31, 1),\n",
       " (38, 1),\n",
       " (72, 1),\n",
       " (75, 1),\n",
       " (79, 1),\n",
       " (88, 1),\n",
       " (273, 1),\n",
       " (359, 1),\n",
       " (387, 1),\n",
       " (412, 1),\n",
       " (437, 1),\n",
       " (446, 1),\n",
       " (499, 1),\n",
       " (505, 1),\n",
       " (605, 1),\n",
       " (649, 1),\n",
       " (669, 1),\n",
       " (696, 1),\n",
       " (719, 1),\n",
       " (803, 1),\n",
       " (848, 1),\n",
       " (854, 1),\n",
       " (867, 1),\n",
       " (907, 1),\n",
       " (916, 1),\n",
       " (922, 1),\n",
       " (923, 1),\n",
       " (988, 1),\n",
       " (1005, 1),\n",
       " (1078, 1),\n",
       " (1129, 1),\n",
       " (1145, 1),\n",
       " (1181, 1),\n",
       " (1193, 1),\n",
       " (1209, 1),\n",
       " (1306, 1),\n",
       " (1337, 1),\n",
       " (1363, 1),\n",
       " (1442, 1),\n",
       " (1472, 1),\n",
       " (1511, 1),\n",
       " (1618, 1),\n",
       " (1694, 1),\n",
       " (1701, 1),\n",
       " (1795, 1),\n",
       " (1820, 1),\n",
       " (1921, 1),\n",
       " (1950, 1),\n",
       " (2011, 1),\n",
       " (2185, 1),\n",
       " (2207, 1),\n",
       " (2216, 1),\n",
       " (2298, 1),\n",
       " (2383, 1),\n",
       " (2505, 1),\n",
       " (2536, 1),\n",
       " (2631, 1),\n",
       " (2667, 1),\n",
       " (2719, 1),\n",
       " (2726, 1),\n",
       " (2730, 1),\n",
       " (2758, 1),\n",
       " (2794, 1),\n",
       " (2861, 1),\n",
       " (2876, 1),\n",
       " (2948, 1),\n",
       " (2997, 1),\n",
       " (3048, 1),\n",
       " (3060, 1),\n",
       " (3077, 1),\n",
       " (3083, 1),\n",
       " (3146, 1),\n",
       " (3196, 1),\n",
       " (3230, 1),\n",
       " (3237, 1),\n",
       " (3241, 1),\n",
       " (3250, 1),\n",
       " (3364, 1),\n",
       " (3480, 1),\n",
       " (3507, 1),\n",
       " (3580, 1),\n",
       " (3591, 1),\n",
       " (3734, 1),\n",
       " (3859, 1),\n",
       " (3872, 1),\n",
       " (3885, 1),\n",
       " (4075, 1),\n",
       " (4221, 1),\n",
       " (4230, 1),\n",
       " (4477, 1),\n",
       " (4488, 1),\n",
       " (4528, 1),\n",
       " (4595, 1),\n",
       " (4613, 1),\n",
       " (4847, 1),\n",
       " (4926, 1),\n",
       " (5125, 1),\n",
       " (5206, 1),\n",
       " (5353, 1),\n",
       " (5560, 1),\n",
       " (5691, 1),\n",
       " (5995, 1),\n",
       " (6090, 1),\n",
       " (6103, 1),\n",
       " (6135, 1),\n",
       " (6207, 1),\n",
       " (6259, 1),\n",
       " (6794, 1),\n",
       " (6866, 1),\n",
       " (6994, 1),\n",
       " (7030, 1),\n",
       " (7116, 1),\n",
       " (7378, 1),\n",
       " (7579, 1),\n",
       " (7685, 1),\n",
       " (7694, 1),\n",
       " (7771, 1),\n",
       " (7773, 1),\n",
       " (8581, 1),\n",
       " (8709, 1),\n",
       " (8907, 1),\n",
       " (9089, 1),\n",
       " (9091, 1),\n",
       " (9182, 1),\n",
       " (9481, 1),\n",
       " (9614, 1),\n",
       " (9669, 1),\n",
       " (9987, 1),\n",
       " (10028, 1),\n",
       " (10163, 1),\n",
       " (10217, 1),\n",
       " (10311, 1),\n",
       " (10558, 1),\n",
       " (10812, 1),\n",
       " (11082, 1),\n",
       " (11115, 1),\n",
       " (11386, 1),\n",
       " (11596, 1),\n",
       " (11643, 1),\n",
       " (11842, 1),\n",
       " (11894, 1),\n",
       " (12476, 1),\n",
       " (13332, 1),\n",
       " (13450, 1),\n",
       " (13566, 1),\n",
       " (14484, 1),\n",
       " (14600, 1),\n",
       " (17160, 1),\n",
       " (18545, 1),\n",
       " (20456, 1),\n",
       " (20624, 1),\n",
       " (20670, 1),\n",
       " (20774, 1),\n",
       " (21522, 1),\n",
       " (22204, 1),\n",
       " (23501, 1),\n",
       " (23558, 1),\n",
       " (24536, 1),\n",
       " (24702, 1),\n",
       " (28286, 1),\n",
       " (28634, 1),\n",
       " (30841, 1),\n",
       " (30895, 1),\n",
       " (31001, 1),\n",
       " (31267, 1),\n",
       " (32994, 1),\n",
       " (33778, 1),\n",
       " (35324, 1),\n",
       " (37294, 1),\n",
       " (37834, 1),\n",
       " (43808, 1),\n",
       " (44091, 1),\n",
       " (45393, 1),\n",
       " (47245, 1),\n",
       " (50016, 1),\n",
       " (52874, 1),\n",
       " (57138, 1),\n",
       " (62825, 1),\n",
       " (63013, 1),\n",
       " (69103, 1),\n",
       " (69442, 1),\n",
       " (71503, 1),\n",
       " (74157, 1),\n",
       " (78059, 1),\n",
       " (78563, 1),\n",
       " (79195, 1),\n",
       " (94339, 1),\n",
       " (98294, 1)]"
      ]
     },
     "execution_count": 19,
     "metadata": {},
     "output_type": "execute_result"
    }
   ],
   "source": [
    "sorted(p.items(), key = lambda kv: ~kv[1])"
   ]
  },
  {
   "cell_type": "code",
   "execution_count": 20,
   "id": "8872edc1-f87e-4bc7-944d-d258d3008f74",
   "metadata": {},
   "outputs": [
    {
     "name": "stdout",
     "output_type": "stream",
     "text": [
      "9385 _device  \t\t\t--> [  112  ]  len:  7\n",
      "11 ,  \t\t\t--> [  95  ]  len:  1\n",
      "280 ;\n",
      "  \t\t\t--> [  93  ]  len:  2\n",
      "262      \t\t\t--> [  92  ]  len:  3\n",
      "948 ].  \t\t\t--> [  89  ]  len:  2\n",
      "8 )  \t\t\t--> [  85  ]  len:  1\n",
      "286          \t\t\t--> [  85  ]  len:  7\n",
      "3186 _info  \t\t\t--> [  83  ]  len:  5\n",
      "320  (  \t\t\t--> [  82  ]  len:  2\n",
      "284  =  \t\t\t--> [  81  ]  len:  2\n",
      "220    \t\t\t--> [  76  ]  len:  1\n",
      "341  {\n",
      "  \t\t\t--> [  75  ]  len:  3\n",
      "405 ->  \t\t\t--> [  75  ]  len:  2\n",
      "17922 _term  \t\t\t--> [  66  ]  len:  5\n",
      "16 1  \t\t\t--> [  60  ]  len:  1\n",
      "310              \t\t\t--> [  57  ]  len:  11\n",
      "422  if  \t\t\t--> [  56  ]  len:  3\n",
      "10839  sorted  \t\t\t--> [  54  ]  len:  7\n",
      "15 0  \t\t\t--> [  45  ]  len:  1\n",
      "45935 _props  \t\t\t--> [  45  ]  len:  6\n",
      "471  return  \t\t\t--> [  44  ]  len:  7\n",
      "198 \n",
      "  \t\t\t--> [  42  ]  len:  1\n",
      "56487 pci  \t\t\t--> [  42  ]  len:  3\n",
      "6422 _group  \t\t\t--> [  41  ]  len:  6\n",
      "3756  device  \t\t\t--> [  39  ]  len:  7\n",
      "353  *  \t\t\t--> [  38  ]  len:  2\n",
      "16432  loader  \t\t\t--> [  38  ]  len:  7\n",
      "17 2  \t\t\t--> [  37  ]  len:  1\n",
      "504                      \t\t\t--> [  37  ]  len:  19\n",
      "7130 Device  \t\t\t--> [  34  ]  len:  6\n"
     ]
    }
   ],
   "source": [
    "cut = []\n",
    "s = sorted(p.items(), key = lambda kv: ~kv[1])\n",
    "for i in s[:30]:\n",
    "    print(i[0], encoding.decode([i[0]]), \" \\t\\t\\t--> [ \", i[1], \" ]\", \" len: \", len(encoding.decode([i[0]])) )\n",
    "    cut.append(i[0])\n",
    "    #if len(encoding.decode([i[0]])) == 1:\n",
    "    #    print(\" ord [1] value to check character type : \", ord(encoding.decode([i[0]])), ord(encoding.decode([i[0]])))\n",
    "    #if len(encoding.decode([i[0]])) == 2:\n",
    "        #print(\" ord [2] value to check character type : \", encoding.decode([i[0]]) )\n",
    "    #encoding.decode([i])"
   ]
  },
  {
   "cell_type": "code",
   "execution_count": 21,
   "id": "b2fab661-c122-4650-87c6-7cfd12f2c8f3",
   "metadata": {},
   "outputs": [
    {
     "name": "stdout",
     "output_type": "stream",
     "text": [
      "32\n",
      "32\n",
      "32\n",
      "32\n",
      "32\n",
      "32\n",
      "32\n"
     ]
    }
   ],
   "source": [
    "for i in encoding.decode([286]):\n",
    "    print(ord(i))\n"
   ]
  },
  {
   "cell_type": "code",
   "execution_count": 22,
   "id": "f779992a-e1b9-482b-a404-f370bfbdbfe4",
   "metadata": {},
   "outputs": [
    {
     "name": "stdout",
     "output_type": "stream",
     "text": [
      "{17922, 262, 8, 11, 15, 16, 17, 405, 6422, 280, 284, 286, 422, 56487, 9385, 3756, 16432, 948, 310, 320, 198, 341, 10839, 471, 7130, 220, 353, 45935, 3186, 504}\n"
     ]
    }
   ],
   "source": [
    "print(set(cut))"
   ]
  },
  {
   "cell_type": "code",
   "execution_count": 23,
   "id": "db44a22a-f95e-4961-a11a-f58910e80553",
   "metadata": {},
   "outputs": [],
   "source": [
    "# wyszukaj wszystkie powtorzenia w tekscie code.txt i wytnij je oraz zapisz jako out.txt"
   ]
  },
  {
   "cell_type": "code",
   "execution_count": 24,
   "id": "2db55bc9-5501-4242-a5b4-764486b9d9c2",
   "metadata": {},
   "outputs": [
    {
     "name": "stdout",
     "output_type": "stream",
     "text": [
      "[3364, 1235, 353, 3028, 320, 66, 8, 220, 2366, 16, 12, 2366, 17, 578, 20774, 2298, 437, 5856, 4953, 627, 353, 3028, 320, 66, 8, 220, 2366, 16, 12, 2366, 17, 45393, 13332, 198, 353, 3028, 320, 66, 8, 220, 2366, 16, 12, 2366, 17, 79195, 38, 11, 4953, 627, 1235, 353, 10311, 1234, 279, 9091, 1914, 11, 6207, 220, 17, 13, 15, 320, 1820, 330, 10028, 803, 353, 499, 1253, 539, 1005, 420, 1052, 3734, 304, 8907, 449, 279, 1914, 627, 353, 1472, 1253, 6994, 264, 3048, 315, 279, 1914, 520, 198, 1235, 353, 257, 1795, 1129, 2185, 5206]\n"
     ]
    }
   ],
   "source": [
    "print(encoding.encode(f)[:100])"
   ]
  },
  {
   "cell_type": "code",
   "execution_count": 25,
   "id": "1fe4be15-83f4-4ff3-be59-b725cca5b671",
   "metadata": {},
   "outputs": [
    {
     "name": "stdout",
     "output_type": "stream",
     "text": [
      "6 8 8\n",
      "24 8 8\n",
      "38 8 8\n",
      "47 11 11\n",
      "57 11 11\n",
      "62 15 15\n",
      "9 16 16\n",
      "27 16 16\n",
      "41 16 16\n",
      "12 17 17\n",
      "30 17 17\n",
      "44 17 17\n",
      "60 17 17\n",
      "33 198 198\n",
      "92 198 198\n",
      "7 220 220\n",
      "25 220 220\n",
      "39 220 220\n",
      "59 220 220\n",
      "4 320 320\n",
      "22 320 320\n",
      "36 320 320\n",
      "63 320 320\n",
      "2 353 353\n",
      "20 353 353\n",
      "34 353 353\n",
      "51 353 353\n",
      "68 353 353\n",
      "82 353 353\n",
      "94 353 353\n"
     ]
    }
   ],
   "source": [
    "\"\"\"\n",
    "new_str = \"\"\n",
    "count = 0\n",
    "line = 0\n",
    "for i in encoding.encode(f)[:100]:\n",
    "    print(i)\n",
    "    for k in set(cut):\n",
    "        print( \" k ==> \", k) \n",
    "        if i == k:\n",
    "            print(line)\n",
    "            new_str += \"..........\"\n",
    "            count += 1\n",
    "            break\n",
    "        if i != k:\n",
    "            new_str += encoding.decode([i])\n",
    "            break\n",
    "            \n",
    "    line += 1\n",
    "    #print(i, encoding.decode([i]))\n",
    "\"\"\"\n",
    "\n",
    "new_str = \"\"\n",
    "count = 0\n",
    "line = 0\n",
    "x = 0\n",
    "list_of_indexes = []\n",
    "for k in sorted(set(cut)):\n",
    "    for i in encoding.encode(f)[:100]:\n",
    "        #print(\"              \", k, i, (k == i))\n",
    "        if (k == i):\n",
    "            print(x, k, i)\n",
    "            #new_str += \".....\"\n",
    "            list_of_indexes.append(x)\n",
    "        #else:\n",
    "            #new_str += encoding.decode([i])\n",
    "            \n",
    "        x += 1\n",
    "            \n",
    "    x = 0"
   ]
  },
  {
   "cell_type": "code",
   "execution_count": 26,
   "id": "cbc68411-0729-4e91-8f05-0c70df3a177e",
   "metadata": {},
   "outputs": [
    {
     "name": "stdout",
     "output_type": "stream",
     "text": [
      "[3364, 1235, 353, 3028, 320, 66, 8, 220, 2366, 16, 12, 2366, 17, 578, 20774, 2298, 437, 5856, 4953, 627, 353, 3028, 320, 66, 8, 220, 2366, 16, 12, 2366, 17, 45393, 13332, 198, 353, 3028, 320, 66, 8, 220, 2366, 16, 12, 2366, 17, 79195, 38, 11, 4953, 627, 1235, 353, 10311, 1234, 279, 9091, 1914, 11, 6207, 220, 17, 13, 15, 320, 1820, 330, 10028, 803, 353, 499, 1253, 539, 1005, 420, 1052, 3734, 304, 8907, 449, 279, 1914, 627, 353, 1472, 1253, 6994, 264, 3048, 315, 279, 1914, 520, 198, 1235, 353, 257, 1795, 1129, 2185, 5206]\n"
     ]
    }
   ],
   "source": [
    "print(encoding.encode(f)[:100])"
   ]
  },
  {
   "cell_type": "code",
   "execution_count": 27,
   "id": "6b658fc9-064c-458c-9363-c96992e9ea09",
   "metadata": {},
   "outputs": [
    {
     "data": {
      "text/plain": [
       "0.0"
      ]
     },
     "execution_count": 27,
     "metadata": {},
     "output_type": "execute_result"
    }
   ],
   "source": [
    "count / len(set(cut))"
   ]
  },
  {
   "cell_type": "code",
   "execution_count": 28,
   "id": "2f16d8c0-47b5-4566-af99-e1349fa3ff66",
   "metadata": {},
   "outputs": [
    {
     "data": {
      "text/plain": [
       "0"
      ]
     },
     "execution_count": 28,
     "metadata": {},
     "output_type": "execute_result"
    }
   ],
   "source": [
    "count"
   ]
  },
  {
   "cell_type": "code",
   "execution_count": 29,
   "id": "593546c2-ea93-4dfb-979c-36e5aafa1f42",
   "metadata": {},
   "outputs": [],
   "source": [
    "nw_s = \"\""
   ]
  },
  {
   "cell_type": "code",
   "execution_count": 30,
   "id": "88c68e86-8368-4f3b-b92b-148bd6a1c745",
   "metadata": {},
   "outputs": [
    {
     "name": "stdout",
     "output_type": "stream",
     "text": [
      "[7, 9, 12, 20, 22, 24, 25, 27, 30, 33, 34, 36, 38, 39, 41, 44, 47, 51, 57, 59, 60, 62, 63, 68, 82, 92, 94]\n"
     ]
    }
   ],
   "source": [
    "print(sorted(list_of_indexes)[3:])"
   ]
  },
  {
   "cell_type": "code",
   "execution_count": 31,
   "id": "890682d0-346d-42d2-b021-2bc601ff4b2c",
   "metadata": {},
   "outputs": [
    {
     "name": "stdout",
     "output_type": "stream",
     "text": [
      "[51, 68, 82, 94]\n"
     ]
    }
   ],
   "source": [
    "print(sorted(list_of_indexes[-4:]))"
   ]
  },
  {
   "cell_type": "code",
   "execution_count": 32,
   "id": "946dbf94-e712-4c9c-bea5-1e31a49b8535",
   "metadata": {},
   "outputs": [
    {
     "name": "stdout",
     "output_type": "stream",
     "text": [
      "0 2\n",
      "0 4\n",
      "0 6\n",
      "0 7\n",
      "0 9\n",
      "0 12\n",
      "0 20\n",
      "0 22\n",
      "0 24\n",
      "0 25\n",
      "0 27\n",
      "0 30\n",
      "0 33\n",
      "0 34\n",
      "0 36\n",
      "0 38\n",
      "0 39\n",
      "0 41\n",
      "0 44\n",
      "0 47\n",
      "0 51\n",
      "0 57\n",
      "0 59\n",
      "0 60\n",
      "0 62\n",
      "0 63\n",
      "0 68\n",
      "0 82\n",
      "0 92\n",
      "0 94\n",
      "1 4\n",
      "1 6\n",
      "1 7\n",
      "1 9\n",
      "1 12\n",
      "1 20\n",
      "1 22\n",
      "1 24\n",
      "1 25\n",
      "1 27\n",
      "1 30\n",
      "1 33\n",
      "1 34\n",
      "1 36\n",
      "1 38\n",
      "1 39\n",
      "1 41\n",
      "1 44\n",
      "1 47\n",
      "1 51\n",
      "1 57\n",
      "1 59\n",
      "1 60\n",
      "1 62\n",
      "1 63\n",
      "1 68\n",
      "1 82\n",
      "1 92\n",
      "1 94\n",
      "2 6\n",
      "2 7\n",
      "2 9\n",
      "2 12\n",
      "2 20\n",
      "2 22\n",
      "2 24\n",
      "2 25\n",
      "2 27\n",
      "2 30\n",
      "2 33\n",
      "2 34\n",
      "2 36\n",
      "2 38\n",
      "2 39\n",
      "2 41\n",
      "2 44\n",
      "2 47\n",
      "2 51\n",
      "2 57\n",
      "2 59\n",
      "2 60\n",
      "2 62\n",
      "2 63\n",
      "2 68\n",
      "2 82\n",
      "2 92\n",
      "2 94\n",
      "3 7\n",
      "3 9\n",
      "3 12\n",
      "3 20\n",
      "3 22\n",
      "3 24\n",
      "3 25\n",
      "3 27\n",
      "3 30\n",
      "3 33\n",
      "3 34\n",
      "3 36\n",
      "3 38\n",
      "3 39\n",
      "3 41\n",
      "3 44\n",
      "3 47\n",
      "3 51\n",
      "3 57\n",
      "3 59\n",
      "3 60\n",
      "3 62\n",
      "3 63\n",
      "3 68\n",
      "3 82\n",
      "3 92\n",
      "3 94\n",
      "4 9\n",
      "4 12\n",
      "4 20\n",
      "4 22\n",
      "4 24\n",
      "4 25\n",
      "4 27\n",
      "4 30\n",
      "4 33\n",
      "4 34\n",
      "4 36\n",
      "4 38\n",
      "4 39\n",
      "4 41\n",
      "4 44\n",
      "4 47\n",
      "4 51\n",
      "4 57\n",
      "4 59\n",
      "4 60\n",
      "4 62\n",
      "4 63\n",
      "4 68\n",
      "4 82\n",
      "4 92\n",
      "4 94\n",
      "5 12\n",
      "5 20\n",
      "5 22\n",
      "5 24\n",
      "5 25\n",
      "5 27\n",
      "5 30\n",
      "5 33\n",
      "5 34\n",
      "5 36\n",
      "5 38\n",
      "5 39\n",
      "5 41\n",
      "5 44\n",
      "5 47\n",
      "5 51\n",
      "5 57\n",
      "5 59\n",
      "5 60\n",
      "5 62\n",
      "5 63\n",
      "5 68\n",
      "5 82\n",
      "5 92\n",
      "5 94\n",
      "6 20\n",
      "6 22\n",
      "6 24\n",
      "6 25\n",
      "6 27\n",
      "6 30\n",
      "6 33\n",
      "6 34\n",
      "6 36\n",
      "6 38\n",
      "6 39\n",
      "6 41\n",
      "6 44\n",
      "6 47\n",
      "6 51\n",
      "6 57\n",
      "6 59\n",
      "6 60\n",
      "6 62\n",
      "6 63\n",
      "6 68\n",
      "6 82\n",
      "6 92\n",
      "6 94\n",
      "7 22\n",
      "7 24\n",
      "7 25\n",
      "7 27\n",
      "7 30\n",
      "7 33\n",
      "7 34\n",
      "7 36\n",
      "7 38\n",
      "7 39\n",
      "7 41\n",
      "7 44\n",
      "7 47\n",
      "7 51\n",
      "7 57\n",
      "7 59\n",
      "7 60\n",
      "7 62\n",
      "7 63\n",
      "7 68\n",
      "7 82\n",
      "7 92\n",
      "7 94\n",
      "8 24\n",
      "8 25\n",
      "8 27\n",
      "8 30\n",
      "8 33\n",
      "8 34\n",
      "8 36\n",
      "8 38\n",
      "8 39\n",
      "8 41\n",
      "8 44\n",
      "8 47\n",
      "8 51\n",
      "8 57\n",
      "8 59\n",
      "8 60\n",
      "8 62\n",
      "8 63\n",
      "8 68\n",
      "8 82\n",
      "8 92\n",
      "8 94\n",
      "9 25\n",
      "9 27\n",
      "9 30\n",
      "9 33\n",
      "9 34\n",
      "9 36\n",
      "9 38\n",
      "9 39\n",
      "9 41\n",
      "9 44\n",
      "9 47\n",
      "9 51\n",
      "9 57\n",
      "9 59\n",
      "9 60\n",
      "9 62\n",
      "9 63\n",
      "9 68\n",
      "9 82\n",
      "9 92\n",
      "9 94\n",
      "10 27\n",
      "10 30\n",
      "10 33\n",
      "10 34\n",
      "10 36\n",
      "10 38\n",
      "10 39\n",
      "10 41\n",
      "10 44\n",
      "10 47\n",
      "10 51\n",
      "10 57\n",
      "10 59\n",
      "10 60\n",
      "10 62\n",
      "10 63\n",
      "10 68\n",
      "10 82\n",
      "10 92\n",
      "10 94\n",
      "11 30\n",
      "11 33\n",
      "11 34\n",
      "11 36\n",
      "11 38\n",
      "11 39\n",
      "11 41\n",
      "11 44\n",
      "11 47\n",
      "11 51\n",
      "11 57\n",
      "11 59\n",
      "11 60\n",
      "11 62\n",
      "11 63\n",
      "11 68\n",
      "11 82\n",
      "11 92\n",
      "11 94\n",
      "12 33\n",
      "12 34\n",
      "12 36\n",
      "12 38\n",
      "12 39\n",
      "12 41\n",
      "12 44\n",
      "12 47\n",
      "12 51\n",
      "12 57\n",
      "12 59\n",
      "12 60\n",
      "12 62\n",
      "12 63\n",
      "12 68\n",
      "12 82\n",
      "12 92\n",
      "12 94\n",
      "13 34\n",
      "13 36\n",
      "13 38\n",
      "13 39\n",
      "13 41\n",
      "13 44\n",
      "13 47\n",
      "13 51\n",
      "13 57\n",
      "13 59\n",
      "13 60\n",
      "13 62\n",
      "13 63\n",
      "13 68\n",
      "13 82\n",
      "13 92\n",
      "13 94\n",
      "14 36\n",
      "14 38\n",
      "14 39\n",
      "14 41\n",
      "14 44\n",
      "14 47\n",
      "14 51\n",
      "14 57\n",
      "14 59\n",
      "14 60\n",
      "14 62\n",
      "14 63\n",
      "14 68\n",
      "14 82\n",
      "14 92\n",
      "14 94\n",
      "15 38\n",
      "15 39\n",
      "15 41\n",
      "15 44\n",
      "15 47\n",
      "15 51\n",
      "15 57\n",
      "15 59\n",
      "15 60\n",
      "15 62\n",
      "15 63\n",
      "15 68\n",
      "15 82\n",
      "15 92\n",
      "15 94\n",
      "16 39\n",
      "16 41\n",
      "16 44\n",
      "16 47\n",
      "16 51\n",
      "16 57\n",
      "16 59\n",
      "16 60\n",
      "16 62\n",
      "16 63\n",
      "16 68\n",
      "16 82\n",
      "16 92\n",
      "16 94\n",
      "17 41\n",
      "17 44\n",
      "17 47\n",
      "17 51\n",
      "17 57\n",
      "17 59\n",
      "17 60\n",
      "17 62\n",
      "17 63\n",
      "17 68\n",
      "17 82\n",
      "17 92\n",
      "17 94\n",
      "18 44\n",
      "18 47\n",
      "18 51\n",
      "18 57\n",
      "18 59\n",
      "18 60\n",
      "18 62\n",
      "18 63\n",
      "18 68\n",
      "18 82\n",
      "18 92\n",
      "18 94\n",
      "19 47\n",
      "19 51\n",
      "19 57\n",
      "19 59\n",
      "19 60\n",
      "19 62\n",
      "19 63\n",
      "19 68\n",
      "19 82\n",
      "19 92\n",
      "19 94\n",
      "20 51\n",
      "20 57\n",
      "20 59\n",
      "20 60\n",
      "20 62\n",
      "20 63\n",
      "20 68\n",
      "20 82\n",
      "20 92\n",
      "20 94\n",
      "21 57\n",
      "21 59\n",
      "21 60\n",
      "21 62\n",
      "21 63\n",
      "21 68\n",
      "21 82\n",
      "21 92\n",
      "21 94\n",
      "22 59\n",
      "22 60\n",
      "22 62\n",
      "22 63\n",
      "22 68\n",
      "22 82\n",
      "22 92\n",
      "22 94\n",
      "23 60\n",
      "23 62\n",
      "23 63\n",
      "23 68\n",
      "23 82\n",
      "23 92\n",
      "23 94\n",
      "24 62\n",
      "24 63\n",
      "24 68\n",
      "24 82\n",
      "24 92\n",
      "24 94\n",
      "25 63\n",
      "25 68\n",
      "25 82\n",
      "25 92\n",
      "25 94\n",
      "26 68\n",
      "26 82\n",
      "26 92\n",
      "26 94\n",
      "27 82\n",
      "27 92\n",
      "27 94\n",
      "28 92\n",
      "28 94\n",
      "29 94\n"
     ]
    }
   ],
   "source": [
    "a = len(list_of_indexes)\n",
    "o = 0\n",
    "while a != 0:\n",
    "    for i in sorted(list_of_indexes)[o:]:\n",
    "        print(o, i)\n",
    "    a -= 1\n",
    "    o += 1"
   ]
  },
  {
   "cell_type": "code",
   "execution_count": null,
   "id": "ca164342-556b-4029-8d6e-3ca7c76c5f16",
   "metadata": {},
   "outputs": [],
   "source": []
  },
  {
   "cell_type": "code",
   "execution_count": 33,
   "id": "7ab975e3-714e-467b-baac-e00a88e13ba4",
   "metadata": {},
   "outputs": [
    {
     "name": "stdout",
     "output_type": "stream",
     "text": [
      "[2, 4, 6, 7, 9, 12, 20, 22, 24, 25, 27, 30, 33, 34, 36, 38, 39, 41, 44, 47, 51, 57, 59, 60, 62, 63, 68, 82, 92, 94]\n"
     ]
    }
   ],
   "source": [
    "print(sorted(list_of_indexes))"
   ]
  },
  {
   "cell_type": "code",
   "execution_count": 34,
   "id": "5f7ac4ff-1d7e-4409-9db5-b152d9976e60",
   "metadata": {},
   "outputs": [
    {
     "name": "stdout",
     "output_type": "stream",
     "text": [
      "[3364, 1235, 353, 3028, 320, 66, 8, 220, 2366, 16, 12, 2366, 17, 578, 20774, 2298, 437, 5856, 4953, 627, 353, 3028, 320, 66, 8, 220, 2366, 16, 12, 2366, 17, 45393, 13332, 198, 353, 3028, 320, 66, 8, 220, 2366, 16, 12, 2366, 17, 79195, 38, 11, 4953, 627, 1235, 353, 10311, 1234, 279, 9091, 1914, 11, 6207, 220, 17, 13, 15, 320, 1820, 330, 10028, 803, 353, 499, 1253, 539, 1005, 420, 1052, 3734, 304, 8907, 449, 279, 1914, 627, 353, 1472, 1253, 6994, 264, 3048, 315, 279, 1914, 520, 198, 1235, 353, 257, 1795, 1129, 2185, 5206]\n"
     ]
    }
   ],
   "source": [
    "print(encoding.encode(f)[:100])"
   ]
  },
  {
   "cell_type": "code",
   "execution_count": 35,
   "id": "5cbd6851-c674-4902-8f20-0e6a20873dad",
   "metadata": {},
   "outputs": [],
   "source": [
    "new_str = \"\"\n",
    "count = 0\n",
    "line = 0\n",
    "x = 0\n",
    "list_of_indexes = []\n",
    "for k in sorted(set(cut)):\n",
    "    for i in encoding.encode(f)[:1000]:\n",
    "        #print(\"              \", k, i, (k == i))\n",
    "        if (k == i):\n",
    "            #print(x, k, i)\n",
    "            #new_str += \".....\"\n",
    "            list_of_indexes.append(x)\n",
    "        #else:\n",
    "            #new_str += encoding.decode([i])\n",
    "            \n",
    "        x += 1\n",
    "            \n",
    "    x = 0"
   ]
  },
  {
   "cell_type": "code",
   "execution_count": 36,
   "id": "a973a95f-efa5-4b5b-9a31-1907a332af40",
   "metadata": {},
   "outputs": [],
   "source": [
    "n = 0\n",
    "s = \"\"\n",
    "u = 0\n",
    "\n",
    "for i in encoding.encode(f)[:1000]:\n",
    "    try:\n",
    "        if n == sorted(list_of_indexes)[u:][0]:\n",
    "            #print(i, n)\n",
    "            s += \"|...|\"\n",
    "            u += 1\n",
    "        else:\n",
    "            s += encoding.decode([i])\n",
    "    except IndexError:\n",
    "        #print(\"done\")\n",
    "        break\n",
    "    n += 1"
   ]
  },
  {
   "cell_type": "code",
   "execution_count": 37,
   "id": "81949426-5797-4c6d-b83f-2a4635cbd6fd",
   "metadata": {},
   "outputs": [
    {
     "data": {
      "text/plain": [
       "2"
      ]
     },
     "execution_count": 37,
     "metadata": {},
     "output_type": "execute_result"
    }
   ],
   "source": [
    "sorted(list_of_indexes)[0:][0]"
   ]
  },
  {
   "cell_type": "code",
   "execution_count": 38,
   "id": "ca098ad3-4c52-46ce-bb63-b36fff0c9b22",
   "metadata": {},
   "outputs": [],
   "source": [
    "n=0"
   ]
  },
  {
   "cell_type": "code",
   "execution_count": 39,
   "id": "f0a521b8-900a-448b-8ac2-5259522693a5",
   "metadata": {},
   "outputs": [
    {
     "data": {
      "text/plain": [
       "2"
      ]
     },
     "execution_count": 39,
     "metadata": {},
     "output_type": "execute_result"
    }
   ],
   "source": [
    "sorted(list_of_indexes)[n:][0]"
   ]
  },
  {
   "cell_type": "code",
   "execution_count": 40,
   "id": "6f2387f8-9df7-430a-8330-a2f58d97f08e",
   "metadata": {},
   "outputs": [
    {
     "data": {
      "text/plain": [
       "'/*\\n *\\n|...| Copyright|...|c|...||...|202|...|-202|...| The Khronos Group Inc.\\n|...| Copyright|...|c|...||...|202|...|-202|...| Valve Corporation|...||...| Copyright|...|c|...||...|202|...|-202|...| LunarG|...| Inc.\\n *\\n|...| Licensed under the Apache License|...| Version|...||...|.|...||...|the \"License\");\\n|...| you may not use this file except in compliance with the License.\\n|...| You may obtain a copy of the License at|...| *\\n|...|     http://www.apache.org/licenses/LICENSE-|...|.|...||...| *\\n|...| Unless required by applicable law or agreed to in writing|...| software|...||...| distributed under the License is distributed on an \"AS IS\" BASIS,\\n|...| WITHOUT WARRANTIES OR CONDITIONS OF ANY KIND|...| either express or implied.\\n|...| See the License for the specific language governing permissions and|...||...| limitations under the License.\\n *\\n|...| Author: Mark Young <marky@lunarg.com>\\n *\\n */\\n\\n// Non-windows and non-apple only header file|...| guard it so that accidental|...|// inclusion doesn\\'t cause unknown header include errors|...|#if defined(LOADER_ENABLE_LINUX_SORT)\\n\\n#include <stdio.h>\\n#include <stdlib.h>\\n\\n#include \"loader_linux.h\"\\n\\n#include \"allocation.h\"\\n#include \"loader_environment.h\"\\n#include \"loader.h\"\\n#include \"log.h\"\\n\\n// Determine a priority based on|...| type with the higher value being higher priority.\\nuint32_t determine_priority_type_value(VkPhysical|...|Type type|...||...||...| switch|...|type|...||...||...| case VK_PHYSICAL_DEVICE_TYPE_DISCRETE_GPU:\\n|...||...||...|10|...||...| case VK_PHYSICAL_DEVICE_TYPE_INTEGRATED_GPU:\\n|...||...||...|5|...||...| case VK_PHYSICAL_DEVICE_TYPE_VIRTUAL_GPU:\\n|...||...||...|3|...||...| case VK_PHYSICAL_DEVICE_TYPE_OTHER:\\n|...||...||...||...||...||...| case VK_PHYSICAL_DEVICE_TYPE_CPU:\\n|...||...||...||...||...||...| case VK_PHYSICAL_DEVICE_TYPE_MAX_ENUM:|...| // Not really an enum|...| but throws warning|...| it\\'s not here|...||...| break|...||...| }\\n|...||...||...||...||...|}\\n\\n// Compare the two|...| types.\\n// This behaves similar to a qsort compare.\\nint32_t|...|_type_compare(VkPhysical|...|Type a|...| VkPhysical|...|Type b|...||...||...| uint32_t a_value|...| determine_priority_type_value(a);\\n|...| uint32_t b_value|...| determine_priority_type_value(b);\\n|...||...||...|a_value > b_value|...||...||...||...| -|...||...||...| } else|...||...|b_value > a_value|...||...||...||...||...||...||...||...| }\\n|...||...||...||...||...|}\\n\\n// Used to compare two devices and determine which one should have priority.|...| The criteria is|...|// simple:\\n//  |...||...||...| Default|...| ALWAYS wins|...|//  |...||...||...| Sort by type|...|//  |...|3|...| Sort by PCI bus ID|...|//  |...|4|...| Ties broken by|...|_ID XOR vendor_ID comparison|...|int32_t compare_devices(const void|...|a|...| const void|...|b|...||...||...| struct LinuxSortedDeviceInfo|...|left|...||...|struct LinuxSortedDeviceInfo *)a|...||...| struct LinuxSortedDeviceInfo|...|right|...||...|struct LinuxSortedDeviceInfo *)b;\\n\\n|...| // Default|...| always gets priority|...||...||...||...|left|...|default|...||...||...||...||...| -|...||...||...| } else|...||...|right|...|default|...||...||...||...||...||...||...||...||...| }\\n\\n|...| // Order by|...| type next|...||...| int32_t dev_type_comp|...||...|_type_compare(left|...|device_type|...| right|...|device_type);\\n|...||...||...||...| != dev_type_comp|...||...||...||...| dev_type_comp|...||...| }\\n\\n|...| // Sort by PCI info|...|prioritize devices that have info over those that don\\'t)\\n|...||...||...|left|...|has_pci_bus|...| && !right|...|has_pci_bus|...||...||...||...||...| -|...||...||...| } else|...| (!left|...|has_pci_bus|...| && right|...|has_pci_bus|...||...||...||...||...||...||...||...||...| } else|...||...|left|...|has_pci_bus|...| && right|...|has_pci_bus|...||...||...||...| // Sort low to high PCI domain|...||...||...||...|left|...||...|_domain < right|...||...|_domain|...||...||...||...| -|...||...||...| } else|...||...|left|...||...|_domain > right|...||...|_domain|...||...||...||...||...||...||...||...| }\\n|...| // Sort low to high PCI bus|...||...||...||...|left|...||...|_bus < right|...||...|_bus|...||...||...||...| -|...||...||...| } else|...||...|left|...||...|_bus > right|...||...|_bus|...||...||...||...||...||...||...||...| }\\n|...| // Sort low to high PCI|...||...||...||...||...|left|...||...||...| < right|...||...||...||...||...||...||...| -|...||...||...| } else|...||...|left|...||...||...| > right|...||...||...||...||...||...||...||...||...||...||...| }\\n|...| // Sort low to high PCI function|...||...||...||...|left|...||...|_function < right|...||...|_function|...||...||...||...| -|...||...||...| } else|...||...|left|...||...|_function > right|...||...|'"
      ]
     },
     "execution_count": 40,
     "metadata": {},
     "output_type": "execute_result"
    }
   ],
   "source": [
    "s"
   ]
  },
  {
   "cell_type": "code",
   "execution_count": null,
   "id": "05a50460-f941-4d5c-b440-e70a61e95a5e",
   "metadata": {},
   "outputs": [],
   "source": []
  },
  {
   "cell_type": "code",
   "execution_count": 41,
   "id": "24ae61ae-f161-43d7-889f-aa2be1724884",
   "metadata": {},
   "outputs": [],
   "source": [
    "lines = []\n",
    "st = \"\"\n",
    "for l in s:\n",
    "    if l == '\\n':\n",
    "        st += '\\n'\n",
    "        lines.append(st)\n",
    "        st = \"\"\n",
    "    else:\n",
    "       st += l "
   ]
  },
  {
   "cell_type": "code",
   "execution_count": 42,
   "id": "fdd8f019-f780-4da3-aa5a-567c2864f455",
   "metadata": {},
   "outputs": [],
   "source": [
    "fwrite = open(\"out.txt\", \"w\")\n",
    "for line in lines:\n",
    "    fwrite.write(line)\n",
    "fwrite.close()"
   ]
  },
  {
   "cell_type": "code",
   "execution_count": 43,
   "id": "5f6561b3-b5b6-4222-98fa-69e9d7b67355",
   "metadata": {},
   "outputs": [
    {
     "data": {
      "text/plain": [
       "'/*\\n *\\n * Copyright (c) 2021-2022 The Khronos Group Inc.\\n * Copyright (c) 2021-2022 Valve Corporation\\n * Copyright (c) 2021-2022 LunarG, Inc.\\n *\\n * Licensed under the Apache License, Version 2.0 (the \"License\");\\n * you may not use this file except in compliance with the License.\\n * You may obtain a copy of the License at\\n *\\n *     http://www.apache.org/licenses/LICENSE-2.0\\n *\\n * Unless required by applicable law or agreed to in writing, software\\n * distributed under the License is distributed on an \"AS IS\" BASIS,\\n * WITHOUT WARRANTIES OR CONDITIONS OF ANY KIND, either express or implied.\\n * See the License for the specific language governing permissions and\\n * limitations under the License.\\n *\\n * Author: Mark Young <marky@lunarg.com>\\n *\\n */\\n\\n// Non-windows and non-apple only header file, guard it so that accidental\\n// inclusion doesn\\'t cause unknown header include errors\\n#if defined(LOADER_ENABLE_LINUX_SORT)\\n\\n#include <stdio.h>\\n#include <stdlib.h>\\n\\n#include \"loader_linux.h\"\\n\\n#include \"allocation.h\"\\n#include \"loader_environment.h\"\\n#include \"loader.h\"\\n#include \"log.h\"\\n\\n// Determine a priority based on device type with the higher value being higher priority.\\nuint32_t determine_priority_type_value(VkPhysicalDeviceType type) {\\n    switch (type) {\\n        case VK_PHYSICAL_DEVICE_TYPE_DISCRETE_GPU:\\n            return 10;\\n        case VK_PHYSICAL_DEVICE_TYPE_INTEGRATED_GPU:\\n            return 5;\\n        case VK_PHYSICAL_DEVICE_TYPE_VIRTUAL_GPU:\\n            return 3;\\n        case VK_PHYSICAL_DEVICE_TYPE_OTHER:\\n            return 2;\\n        case VK_PHYSICAL_DEVICE_TYPE_CPU:\\n            return 1;\\n        case VK_PHYSICAL_DEVICE_TYPE_MAX_ENUM:  // Not really an enum, but throws warning if it\\'s not here\\n            break;\\n    }\\n    return 0;\\n}\\n\\n// Compare the two device types.\\n// This behaves similar to a qsort compare.\\nint32_t device_type_compare(VkPhysicalDeviceType a, VkPhysicalDeviceType b) {\\n    uint32_t a_value = determine_priority_type_value(a);\\n    uint32_t b_value = determine_priority_type_value(b);\\n    if (a_value > b_value) {\\n        return -1;\\n    } else if (b_value > a_value) {\\n        return 1;\\n    }\\n    return 0;\\n}\\n\\n// Used to compare two devices and determine which one should have priority.  The criteria is\\n// simple:\\n//   1) Default device ALWAYS wins\\n//   2) Sort by type\\n//   3) Sort by PCI bus ID\\n//   4) Ties broken by device_ID XOR vendor_ID comparison\\nint32_t compare_devices(const void *a, const void *b) {\\n    struct LinuxSortedDeviceInfo *left = (struct LinuxSortedDeviceInfo *)a;\\n    struct LinuxSortedDeviceInfo *right = (struct LinuxSortedDeviceInfo *)b;\\n\\n    // Default device always gets priority\\n    if (left->default_device) {\\n        return -1;\\n    } else if (right->default_device) {\\n        return 1;\\n    }\\n\\n    // Order by device type next\\n    int32_t dev_type_comp = device_type_compare(left->device_type, right->device_type);\\n    if (0 != dev_type_comp) {\\n        return dev_type_comp;\\n    }\\n\\n    // Sort by PCI info (prioritize devices that have info over those that don\\'t)\\n    if (left->has_pci_bus_info && !right->has_pci_bus_info) {\\n        return -1;\\n    } else if (!left->has_pci_bus_info && right->has_pci_bus_info) {\\n        return 1;\\n    } else if (left->has_pci_bus_info && right->has_pci_bus_info) {\\n        // Sort low to high PCI domain\\n        if (left->pci_domain < right->pci_domain) {\\n            return -1;\\n        } else if (left->pci_domain > right->pci_domain) {\\n            return 1;\\n        }\\n        // Sort low to high PCI bus\\n        if (left->pci_bus < right->pci_bus) {\\n            return -1;\\n        } else if (left->pci_bus > right->pci_bus) {\\n            return 1;\\n        }\\n        // Sort low to high PCI device\\n        if (left->pci_device < right->pci_device) {\\n            return -1;\\n        } else if (left->pci_device > right->pci_device) {\\n            return 1;\\n        }\\n        // Sort low to high PCI function\\n        if (left->pci_function < right->pci_function) {\\n            return -1;\\n        } else if (left->pci_function > right->pci_function) {\\n            return 1;\\n        }\\n    }\\n\\n    // Somehow we have a tie above, so XOR vendorID and deviceID and compare\\n    uint32_t left_xord_dev_vend = left->device_id ^ left->vendor_id;\\n    uint32_t right_xord_dev_vend = right->device_id ^ right->vendor_id;\\n    if (left_xord_dev_vend < right_xord_dev_vend) {\\n        return -1;\\n    } else if (right_xord_dev_vend < left_xord_dev_vend) {\\n        return 1;\\n    }\\n    return 0;\\n}\\n\\n// Used to compare two device groups and determine which one should have priority.\\n// NOTE: This assumes that devices in each group have already been sorted.\\n// The group sort criteria is simple:\\n//   1) Group with the default device ALWAYS wins\\n//   2) Group with the best device type for device 0 wins\\n//   3) Group with best PCI bus ID for device 0 wins\\n//   4) Ties broken by group device 0 device_ID XOR vendor_ID comparison\\nint32_t compare_device_groups(const void *a, const void *b) {\\n    struct loader_phy'"
      ]
     },
     "execution_count": 43,
     "metadata": {},
     "output_type": "execute_result"
    }
   ],
   "source": [
    "f[:5000]"
   ]
  },
  {
   "cell_type": "code",
   "execution_count": 44,
   "id": "2b03b0c9-4834-40fa-abae-c94a65cc0090",
   "metadata": {},
   "outputs": [],
   "source": [
    "# I co z tego wyciągnałem, jaką wiedzę... XD\n",
    "# że to trzeba jednak liniami robić.\n",
    "# czyli kurwa mać wszystko od nowa ... "
   ]
  },
  {
   "cell_type": "code",
   "execution_count": null,
   "id": "9d83f744-3bc4-454a-8e82-52e42524e351",
   "metadata": {},
   "outputs": [],
   "source": []
  },
  {
   "cell_type": "code",
   "execution_count": null,
   "id": "ddd14324-126c-4705-86d5-e94ad7075033",
   "metadata": {},
   "outputs": [],
   "source": []
  },
  {
   "cell_type": "code",
   "execution_count": null,
   "id": "c295bc02-ec0b-4cab-a5f2-2e2a298325f8",
   "metadata": {},
   "outputs": [],
   "source": []
  },
  {
   "cell_type": "code",
   "execution_count": null,
   "id": "9214e16b-9252-46a9-ab88-ff587f756de3",
   "metadata": {},
   "outputs": [],
   "source": []
  },
  {
   "cell_type": "code",
   "execution_count": null,
   "id": "dccb3b72-9ee1-44c5-9baf-dd9364be2f72",
   "metadata": {},
   "outputs": [],
   "source": []
  },
  {
   "cell_type": "code",
   "execution_count": null,
   "id": "dcea4cd5-b01e-411d-af77-f5436a44394b",
   "metadata": {},
   "outputs": [],
   "source": []
  },
  {
   "cell_type": "code",
   "execution_count": 45,
   "id": "ee99dbd5-a87e-4905-b1c8-ba7f14cb3ce1",
   "metadata": {},
   "outputs": [],
   "source": [
    "f = open(\"code.txt\", \"r\").readlines()"
   ]
  },
  {
   "cell_type": "code",
   "execution_count": 46,
   "id": "20d39d33-565a-44c5-85be-c737825460a3",
   "metadata": {},
   "outputs": [],
   "source": [
    "LINES_LENGTH = 20"
   ]
  },
  {
   "cell_type": "code",
   "execution_count": 47,
   "id": "a9a3d538-1f6d-4af8-88d3-58c410061200",
   "metadata": {},
   "outputs": [
    {
     "name": "stdout",
     "output_type": "stream",
     "text": [
      "[3364]\n",
      "[1235]\n",
      "[353, 3028, 320, 66, 8, 220, 2366, 16, 12, 2366, 17, 578, 20774, 2298, 437, 5856, 4953, 627]\n",
      "[353, 3028, 320, 66, 8, 220, 2366, 16, 12, 2366, 17, 45393, 13332, 198]\n",
      "[353, 3028, 320, 66, 8, 220, 2366, 16, 12, 2366, 17, 79195, 38, 11, 4953, 627]\n",
      "[1235]\n",
      "[353, 10311, 1234, 279, 9091, 1914, 11, 6207, 220, 17, 13, 15, 320, 1820, 330, 10028, 803]\n",
      "[353, 499, 1253, 539, 1005, 420, 1052, 3734, 304, 8907, 449, 279, 1914, 627]\n",
      "[353, 1472, 1253, 6994, 264, 3048, 315, 279, 1914, 520, 198]\n",
      "[1235]\n",
      "[353, 257, 1795, 1129, 2185, 5206, 2726, 7116, 11082, 12, 17, 13, 15, 198]\n",
      "[1235]\n",
      "[353, 11115, 2631, 555, 8581, 2383, 477, 7378, 311, 304, 4477, 11, 3241, 198]\n",
      "[353, 4332, 1234, 279, 1914, 374, 4332, 389, 459, 330, 1950, 3507, 1, 11643, 345]\n",
      "[353, 6135, 7579, 2794, 11596, 3083, 4230, 9481, 11, 3060, 3237, 477, 6259, 627]\n",
      "[353, 3580, 279, 1914, 369, 279, 3230, 4221, 10217, 8709, 323, 198]\n",
      "[353, 9669, 1234, 279, 1914, 627]\n",
      "[1235]\n",
      "[353, 7030, 25, 4488, 13566, 366, 4075, 88, 31, 75, 359, 867, 916, 397]\n",
      "[1235]\n"
     ]
    }
   ],
   "source": [
    "for line in f[:LINES_LENGTH]:\n",
    "    print(encoding.encode(line))"
   ]
  },
  {
   "cell_type": "code",
   "execution_count": 48,
   "id": "442f4bff-f758-459c-87a4-a4136d6254f7",
   "metadata": {},
   "outputs": [
    {
     "data": {
      "text/plain": [
       "['/*\\n',\n",
       " ' *\\n',\n",
       " ' * Copyright (c) 2021-2022 The Khronos Group Inc.\\n',\n",
       " ' * Copyright (c) 2021-2022 Valve Corporation\\n',\n",
       " ' * Copyright (c) 2021-2022 LunarG, Inc.\\n',\n",
       " ' *\\n',\n",
       " ' * Licensed under the Apache License, Version 2.0 (the \"License\");\\n',\n",
       " ' * you may not use this file except in compliance with the License.\\n',\n",
       " ' * You may obtain a copy of the License at\\n',\n",
       " ' *\\n',\n",
       " ' *     http://www.apache.org/licenses/LICENSE-2.0\\n',\n",
       " ' *\\n',\n",
       " ' * Unless required by applicable law or agreed to in writing, software\\n',\n",
       " ' * distributed under the License is distributed on an \"AS IS\" BASIS,\\n',\n",
       " ' * WITHOUT WARRANTIES OR CONDITIONS OF ANY KIND, either express or implied.\\n',\n",
       " ' * See the License for the specific language governing permissions and\\n',\n",
       " ' * limitations under the License.\\n',\n",
       " ' *\\n',\n",
       " ' * Author: Mark Young <marky@lunarg.com>\\n',\n",
       " ' *\\n']"
      ]
     },
     "execution_count": 48,
     "metadata": {},
     "output_type": "execute_result"
    }
   ],
   "source": [
    "f[:LINES_LENGTH]"
   ]
  },
  {
   "cell_type": "code",
   "execution_count": 49,
   "id": "8427318a-caab-439c-bb02-56c4e09d7cf0",
   "metadata": {},
   "outputs": [
    {
     "data": {
      "text/plain": [
       "' Lunar'"
      ]
     },
     "execution_count": 49,
     "metadata": {},
     "output_type": "execute_result"
    }
   ],
   "source": [
    "encoding.decode([79195])"
   ]
  },
  {
   "cell_type": "code",
   "execution_count": 50,
   "id": "85f0f737-8f59-4d2e-b092-a0776e816bb9",
   "metadata": {},
   "outputs": [],
   "source": [
    "arr = []\n",
    "for line in f[:LINES_LENGTH]:\n",
    "    for x in (encoding.encode(line)):\n",
    "        #print(x)\n",
    "        arr.append(x)"
   ]
  },
  {
   "cell_type": "code",
   "execution_count": 51,
   "id": "da6bd3fd-e3ee-4d49-8313-3dccdc3af7c5",
   "metadata": {},
   "outputs": [
    {
     "name": "stdout",
     "output_type": "stream",
     "text": [
      "[3364, 1235, 353, 3028, 320, 66, 8, 220, 2366, 16, 12, 2366, 17, 578, 20774, 2298, 437, 5856, 4953, 627, 353, 3028, 320, 66, 8, 220, 2366, 16, 12, 2366, 17, 45393, 13332, 198, 353, 3028, 320, 66, 8, 220, 2366, 16, 12, 2366, 17, 79195, 38, 11, 4953, 627, 1235, 353, 10311, 1234, 279, 9091, 1914, 11, 6207, 220, 17, 13, 15, 320, 1820, 330, 10028, 803, 353, 499, 1253, 539, 1005, 420, 1052, 3734, 304, 8907, 449, 279, 1914, 627, 353, 1472, 1253, 6994, 264, 3048, 315, 279, 1914, 520, 198, 1235, 353, 257, 1795, 1129, 2185, 5206, 2726, 7116, 11082, 12, 17, 13, 15, 198, 1235, 353, 11115, 2631, 555, 8581, 2383, 477, 7378, 311, 304, 4477, 11, 3241, 198, 353, 4332, 1234, 279, 1914, 374, 4332, 389, 459, 330, 1950, 3507, 1, 11643, 345, 353, 6135, 7579, 2794, 11596, 3083, 4230, 9481, 11, 3060, 3237, 477, 6259, 627, 353, 3580, 279, 1914, 369, 279, 3230, 4221, 10217, 8709, 323, 198, 353, 9669, 1234, 279, 1914, 627, 1235, 353, 7030, 25, 4488, 13566, 366, 4075, 88, 31, 75, 359, 867, 916, 397, 1235]\n"
     ]
    }
   ],
   "source": [
    "print(arr)"
   ]
  },
  {
   "cell_type": "code",
   "execution_count": 52,
   "id": "2ac8aca2-9a27-4992-acdb-8838fb60e6d8",
   "metadata": {},
   "outputs": [
    {
     "data": {
      "text/plain": [
       "186"
      ]
     },
     "execution_count": 52,
     "metadata": {},
     "output_type": "execute_result"
    }
   ],
   "source": [
    "len(arr)"
   ]
  },
  {
   "cell_type": "code",
   "execution_count": 53,
   "id": "5e10c4a1-a8fe-43d0-b9dc-0f58201b9763",
   "metadata": {},
   "outputs": [
    {
     "name": "stdout",
     "output_type": "stream",
     "text": [
      "1\n",
      "2\n",
      "3\n",
      "6\n",
      "31\n",
      "62\n",
      "93\n",
      "186\n"
     ]
    }
   ],
   "source": [
    "k = 1\n",
    "for i in range(len(arr)):\n",
    "    if ((len(arr) % k) == 0):\n",
    "        print(k)\n",
    "    k += 1"
   ]
  },
  {
   "cell_type": "code",
   "execution_count": 54,
   "id": "5afa7096-3d71-4dc4-a1cc-caefb2b488d2",
   "metadata": {},
   "outputs": [
    {
     "data": {
      "text/plain": [
       "torch.Size([6, 31])"
      ]
     },
     "execution_count": 54,
     "metadata": {},
     "output_type": "execute_result"
    }
   ],
   "source": [
    "torch.tensor(arr).view(6, -1).shape"
   ]
  },
  {
   "cell_type": "code",
   "execution_count": 55,
   "id": "bf80e6df-1688-4905-9c09-3d075fd5219a",
   "metadata": {},
   "outputs": [
    {
     "data": {
      "text/plain": [
       "<matplotlib.image.AxesImage at 0x3e194dfaa0>"
      ]
     },
     "execution_count": 55,
     "metadata": {},
     "output_type": "execute_result"
    },
    {
     "data": {
      "image/png": "[encoded data removed]",
      "text/plain": [
       "<Figure size 640x480 with 1 Axes>"
      ]
     },
     "metadata": {},
     "output_type": "display_data"
    }
   ],
   "source": [
    "plt.imshow(torch.tensor(arr).view(6, -1))"
   ]
  },
  {
   "cell_type": "code",
   "execution_count": 56,
   "id": "3d5cc5cb-1958-469a-9c58-774dd2a421b1",
   "metadata": {},
   "outputs": [
    {
     "data": {
      "text/plain": [
       "(tensor(1), tensor(79195))"
      ]
     },
     "execution_count": 56,
     "metadata": {},
     "output_type": "execute_result"
    }
   ],
   "source": [
    "torch.tensor(arr).min(), torch.tensor(arr).max()"
   ]
  },
  {
   "cell_type": "code",
   "execution_count": 57,
   "id": "4d0898e2-5295-4676-a4fe-89ed4c39877b",
   "metadata": {},
   "outputs": [
    {
     "data": {
      "image/png": "[encoded data removed]",
      "text/plain": [
       "<Figure size 640x480 with 1 Axes>"
      ]
     },
     "metadata": {},
     "output_type": "display_data"
    }
   ],
   "source": [
    "plt.plot(arr);"
   ]
  },
  {
   "cell_type": "code",
   "execution_count": 58,
   "id": "86e02bb3-046f-4696-9194-62461390d65a",
   "metadata": {},
   "outputs": [
    {
     "name": "stdout",
     "output_type": "stream",
     "text": [
      "0b11000011010100000\n"
     ]
    }
   ],
   "source": [
    "print(bin(100000))"
   ]
  },
  {
   "cell_type": "code",
   "execution_count": 59,
   "id": "d5a5af2e-18e0-459b-b926-91d363d2dccf",
   "metadata": {},
   "outputs": [
    {
     "name": "stdout",
     "output_type": "stream",
     "text": [
      "0b11111111111111111111111111111111\n"
     ]
    }
   ],
   "source": [
    "print(bin(0xffffffff))"
   ]
  },
  {
   "cell_type": "code",
   "execution_count": 60,
   "id": "4bd949aa-9a5a-4030-8d1b-ab0dfaae6c95",
   "metadata": {},
   "outputs": [
    {
     "name": "stdout",
     "output_type": "stream",
     "text": [
      "0b11111111111111100111100101011111\n"
     ]
    }
   ],
   "source": [
    "print(bin(0xffffffff-100000))"
   ]
  },
  {
   "cell_type": "code",
   "execution_count": 61,
   "id": "13c9d647-2a97-4825-9639-db272f1b69ec",
   "metadata": {},
   "outputs": [
    {
     "name": "stdout",
     "output_type": "stream",
     "text": [
      "0b11111111111111111111001011011011\n",
      "0b11111111111111111111101100101100\n",
      "0b11111111111111111111111010011110\n",
      "0b11111111111111111111010000101011\n",
      "0b11111111111111111111111010111111\n",
      "0b11111111111111111111111110111101\n",
      "0b11111111111111111111111111110111\n",
      "0b11111111111111111111111100100011\n",
      "0b11111111111111111111011011000001\n",
      "0b11111111111111111111111111101111\n",
      "0b11111111111111111111111111110011\n",
      "0b11111111111111111111011011000001\n",
      "0b11111111111111111111111111101110\n",
      "0b11111111111111111111110110111101\n",
      "0b11111111111111111010111011011001\n",
      "0b11111111111111111111011100000101\n",
      "0b11111111111111111111111001001010\n",
      "0b11111111111111111110100100011111\n",
      "0b11111111111111111110110010100110\n",
      "0b11111111111111111111110110001100\n",
      "0b11111111111111111111111010011110\n",
      "0b11111111111111111111010000101011\n",
      "0b11111111111111111111111010111111\n",
      "0b11111111111111111111111110111101\n",
      "0b11111111111111111111111111110111\n",
      "0b11111111111111111111111100100011\n",
      "0b11111111111111111111011011000001\n",
      "0b11111111111111111111111111101111\n",
      "0b11111111111111111111111111110011\n",
      "0b11111111111111111111011011000001\n",
      "0b11111111111111111111111111101110\n",
      "0b11111111111111110100111010101110\n",
      "0b11111111111111111100101111101011\n",
      "0b11111111111111111111111100111001\n",
      "0b11111111111111111111111010011110\n",
      "0b11111111111111111111010000101011\n",
      "0b11111111111111111111111010111111\n",
      "0b11111111111111111111111110111101\n",
      "0b11111111111111111111111111110111\n",
      "0b11111111111111111111111100100011\n",
      "0b11111111111111111111011011000001\n",
      "0b11111111111111111111111111101111\n",
      "0b11111111111111111111111111110011\n",
      "0b11111111111111111111011011000001\n",
      "0b11111111111111111111111111101110\n",
      "0b11111111111111101100101010100100\n",
      "0b11111111111111111111111111011001\n",
      "0b11111111111111111111111111110100\n",
      "0b11111111111111111110110010100110\n",
      "0b11111111111111111111110110001100\n",
      "0b11111111111111111111101100101100\n",
      "0b11111111111111111111111010011110\n",
      "0b11111111111111111101011110111000\n",
      "0b11111111111111111111101100101101\n",
      "0b11111111111111111111111011101000\n",
      "0b11111111111111111101110001111100\n",
      "0b11111111111111111111100010000101\n",
      "0b11111111111111111111111111110100\n",
      "0b11111111111111111110011111000000\n",
      "0b11111111111111111111111100100011\n",
      "0b11111111111111111111111111101110\n",
      "0b11111111111111111111111111110010\n",
      "0b11111111111111111111111111110000\n",
      "0b11111111111111111111111010111111\n",
      "0b11111111111111111111100011100011\n",
      "0b11111111111111111111111010110101\n",
      "0b11111111111111111101100011010011\n",
      "0b11111111111111111111110011011100\n",
      "0b11111111111111111111111010011110\n",
      "0b11111111111111111111111000001100\n",
      "0b11111111111111111111101100011010\n",
      "0b11111111111111111111110111100100\n",
      "0b11111111111111111111110000010010\n",
      "0b11111111111111111111111001011011\n",
      "0b11111111111111111111101111100011\n",
      "0b11111111111111111111000101101001\n",
      "0b11111111111111111111111011001111\n",
      "0b11111111111111111101110100110100\n",
      "0b11111111111111111111111000111110\n",
      "0b11111111111111111111111011101000\n",
      "0b11111111111111111111100010000101\n",
      "0b11111111111111111111110110001100\n",
      "0b11111111111111111111111010011110\n",
      "0b11111111111111111111101000111111\n",
      "0b11111111111111111111101100011010\n",
      "0b11111111111111111110010010101101\n",
      "0b11111111111111111111111011110111\n",
      "0b11111111111111111111010000010111\n",
      "0b11111111111111111111111011000100\n",
      "0b11111111111111111111111011101000\n",
      "0b11111111111111111111100010000101\n",
      "0b11111111111111111111110111110111\n",
      "0b11111111111111111111111100111001\n",
      "0b11111111111111111111101100101100\n",
      "0b11111111111111111111111010011110\n",
      "0b11111111111111111111111011111110\n",
      "0b11111111111111111111100011111100\n",
      "0b11111111111111111111101110010110\n",
      "0b11111111111111111111011101110110\n",
      "0b11111111111111111110101110101001\n",
      "0b11111111111111111111010101011001\n",
      "0b11111111111111111110010000110011\n",
      "0b11111111111111111101010010110101\n",
      "0b11111111111111111111111111110011\n",
      "0b11111111111111111111111111101110\n",
      "0b11111111111111111111111111110010\n",
      "0b11111111111111111111111111110000\n",
      "0b11111111111111111111111100111001\n",
      "0b11111111111111111111101100101100\n",
      "0b11111111111111111111111010011110\n",
      "0b11111111111111111101010010010100\n",
      "0b11111111111111111111010110111000\n",
      "0b11111111111111111111110111010100\n",
      "0b11111111111111111101111001111010\n",
      "0b11111111111111111111011010110000\n",
      "0b11111111111111111111111000100010\n",
      "0b11111111111111111110001100101101\n",
      "0b11111111111111111111111011001000\n",
      "0b11111111111111111111111011001111\n",
      "0b11111111111111111110111010000010\n",
      "0b11111111111111111111111111110100\n",
      "0b11111111111111111111001101010110\n",
      "0b11111111111111111111111100111001\n",
      "0b11111111111111111111111010011110\n",
      "0b11111111111111111110111100010011\n",
      "0b11111111111111111111101100101101\n",
      "0b11111111111111111111111011101000\n",
      "0b11111111111111111111100010000101\n",
      "0b11111111111111111111111010001001\n",
      "0b11111111111111111110111100010011\n",
      "0b11111111111111111111111001111010\n",
      "0b11111111111111111111111000110100\n",
      "0b11111111111111111111111010110101\n",
      "0b11111111111111111111100001100001\n",
      "0b11111111111111111111001001001100\n",
      "0b11111111111111111111111111111110\n",
      "0b11111111111111111101001010000100\n",
      "0b11111111111111111111111010100110\n",
      "0b11111111111111111111111010011110\n",
      "0b11111111111111111110100000001000\n",
      "0b11111111111111111110001001100100\n",
      "0b11111111111111111111010100010101\n",
      "0b11111111111111111101001010110011\n",
      "0b11111111111111111111001111110100\n",
      "0b11111111111111111110111101111001\n",
      "0b11111111111111111101101011110110\n",
      "0b11111111111111111111111111110100\n",
      "0b11111111111111111111010000001011\n",
      "0b11111111111111111111001101011010\n",
      "0b11111111111111111111111000100010\n",
      "0b11111111111111111110011110001100\n",
      "0b11111111111111111111110110001100\n",
      "0b11111111111111111111111010011110\n",
      "0b11111111111111111111001000000011\n",
      "0b11111111111111111111111011101000\n",
      "0b11111111111111111111100010000101\n",
      "0b11111111111111111111111010001110\n",
      "0b11111111111111111111111011101000\n",
      "0b11111111111111111111001101100001\n",
      "0b11111111111111111110111110000010\n",
      "0b11111111111111111101100000010110\n",
      "0b11111111111111111101110111111010\n",
      "0b11111111111111111111111010111100\n",
      "0b11111111111111111111111100111001\n",
      "0b11111111111111111111111010011110\n",
      "0b11111111111111111101101000111010\n",
      "0b11111111111111111111101100101101\n",
      "0b11111111111111111111111011101000\n",
      "0b11111111111111111111100010000101\n",
      "0b11111111111111111111110110001100\n",
      "0b11111111111111111111101100101100\n",
      "0b11111111111111111111111010011110\n",
      "0b11111111111111111110010010001001\n",
      "0b11111111111111111111111111100110\n",
      "0b11111111111111111110111001110111\n",
      "0b11111111111111111100101100000001\n",
      "0b11111111111111111111111010010001\n",
      "0b11111111111111111111000000010100\n",
      "0b11111111111111111111111110100111\n",
      "0b11111111111111111111111111100000\n",
      "0b11111111111111111111111110110100\n",
      "0b11111111111111111111111010011000\n",
      "0b11111111111111111111110010011100\n",
      "0b11111111111111111111110001101011\n",
      "0b11111111111111111111111001110010\n",
      "0b11111111111111111111101100101100\n"
     ]
    }
   ],
   "source": [
    "x = []\n",
    "for i in arr:\n",
    "    x.append(0xffffffff-i)\n",
    "    print(bin(0xffffffff-i))"
   ]
  },
  {
   "cell_type": "code",
   "execution_count": 75,
   "id": "f1b5aff6-786e-446b-ab2c-ce1e95a0145a",
   "metadata": {},
   "outputs": [],
   "source": [
    "x2 = []\n",
    "for i in x:\n",
    "    #print(bin(i)[2:])\n",
    "    #print(len(bin(i)[2:]))\n",
    "    for k in bin(i)[2:]:\n",
    "       x2.append(int(k)) "
   ]
  },
  {
   "cell_type": "code",
   "execution_count": 94,
   "id": "0fdc9691-637b-405b-b351-dfb6b5e04c78",
   "metadata": {},
   "outputs": [
    {
     "data": {
      "text/plain": [
       "186.0"
      ]
     },
     "execution_count": 94,
     "metadata": {},
     "output_type": "execute_result"
    }
   ],
   "source": [
    "len(x2)/32"
   ]
  },
  {
   "cell_type": "code",
   "execution_count": 97,
   "id": "c7684143-10dc-40be-ac32-5e20ff2bb0e7",
   "metadata": {},
   "outputs": [],
   "source": [
    "xy = torch.tensor(x2).view(186,32)"
   ]
  },
  {
   "cell_type": "code",
   "execution_count": 100,
   "id": "9e4e95e8-cf14-4c06-8b5b-4e6c8281553c",
   "metadata": {},
   "outputs": [
    {
     "data": {
      "text/plain": [
       "<matplotlib.image.AxesImage at 0x3e1f673140>"
      ]
     },
     "execution_count": 100,
     "metadata": {},
     "output_type": "execute_result"
    },
    {
     "data": {
      "image/png": "[encoded data removed]",
      "text/plain": [
       "<Figure size 640x480 with 1 Axes>"
      ]
     },
     "metadata": {},
     "output_type": "display_data"
    }
   ],
   "source": [
    "plt.imshow(xy)"
   ]
  },
  {
   "cell_type": "code",
   "execution_count": 99,
   "id": "3c90428f-6a11-470c-a388-6ca976403819",
   "metadata": {},
   "outputs": [
    {
     "data": {
      "text/plain": [
       "tensor([1, 1, 1, 1, 1, 1, 1, 1, 1, 1, 1, 1, 1, 1, 1, 1, 1, 1, 1, 1, 0, 0, 1, 0,\n",
       "        1, 1, 0, 1, 1, 0, 1, 1])"
      ]
     },
     "execution_count": 99,
     "metadata": {},
     "output_type": "execute_result"
    }
   ],
   "source": [
    "xy[0]"
   ]
  },
  {
   "cell_type": "code",
   "execution_count": null,
   "id": "253ae34a-d2b4-4444-bacd-c04c82448a6e",
   "metadata": {},
   "outputs": [],
   "source": []
  }
 ],
 "metadata": {
  "kernelspec": {
   "display_name": "Python 3 (ipykernel)",
   "language": "python",
   "name": "python3"
  },
  "language_info": {
   "codemirror_mode": {
    "name": "ipython",
    "version": 3
   },
   "file_extension": ".py",
   "mimetype": "text/x-python",
   "name": "python",
   "nbconvert_exporter": "python",
   "pygments_lexer": "ipython3",
   "version": "3.12.2"
  }
 },
 "nbformat": 4,
 "nbformat_minor": 5
}
